{
 "cells": [
  {
   "cell_type": "markdown",
   "metadata": {},
   "source": [
    "## Final Project Submission\n",
    "\n",
    "Please fill out:\n",
    "* Student name: Eduardo Calzadilla\n",
    "* Student pace: self paced \n",
    "* Scheduled project review date/time: \n",
    "* Instructor name: Jeff Herman\n",
    "* Blog post URL:\n"
   ]
  },
  {
   "cell_type": "markdown",
   "metadata": {},
   "source": [
    "# Movie genre and title recommendations\n",
    "\n",
    "#### Datasets: \n",
    "    1. IMDB\n",
    "    2. Rotten Tomatoes\n",
    "    3. TheMovieDB.org\n",
    "    4. Box Office Mojo\n",
    "\n",
    "\n",
    "\n",
    "\n",
    "\n",
    "## Contents\n",
    "\n",
    "**A. [Exploratory Data Analysis](#EDA)** <br>\n",
    "  1. [Initial exploration and cleanup](#Iec)<br>\n",
    "  2. [Joins](#Tj)<br>\n",
    "  \n",
    "**B. [ROI, ratings and production budget](#Rrpb)**<br>\n",
    "&nbsp;&nbsp;&nbsp;&nbsp;&nbsp;&nbsp; What is the relationship between ROI, production budget and rating?<br>\n",
    "**C. [Genres, ROI and rating](#Grr)**<br>\n",
    "&nbsp;&nbsp;&nbsp;&nbsp;&nbsp;&nbsp; Are there genres that have ratings within our specified range? If so what are their associated ROIs?<br>\n",
    "**D. [Runtime and production budget](#Rpb)**<br>\n",
    "&nbsp;&nbsp;&nbsp;&nbsp;&nbsp;&nbsp; What is the best range for runtime relative to production budget?<br>\n",
    "**E. [Expected competition](#Ec)**<br>\n",
    "&nbsp;&nbsp;&nbsp;&nbsp;&nbsp;&nbsp; Is there a change in the number of released movies from 2015-2019 compared to five years prior?<br>\n",
    "\n",
    "\n",
    " "
   ]
  },
  {
   "cell_type": "markdown",
   "metadata": {},
   "source": [
    "## Introduction & Summary\n",
    "\n",
    "Throughout this notebook we will be exploring three datasets as highlighted above, in order to spot trend that could be indicative of higher succes capacity and return on investment (ROI). \n",
    "\n",
    "We will be focusing on the following four null hypotheses:\n",
    "  1. Movies with higher ratings do not perform significantly better in terms of gross income and ROI.\n",
    "  2. All genres perform equally in terms of ratings, gross income and ROI.\n",
    "  3. There are no words that are indicative of higher performance in terms of ratings and ROI. -- change to runtime \n",
    "  4. There has been no change in terms of competition (number of movies coming out) 4 year prior to 2015 and 4 year after 2015. \n",
    "\n",
    "We have found that there are significant similarities between median ratings and median performance. etc..."
   ]
  },
  {
   "cell_type": "code",
   "execution_count": 2,
   "metadata": {},
   "outputs": [],
   "source": [
    "# Importing necessary packages\n",
    "import pandas as pd \n",
    "import numpy as np\n",
    "import matplotlib.pyplot as plt\n",
    "import glob\n",
    "import zipfile\n",
    "%matplotlib inline"
   ]
  },
  {
   "cell_type": "code",
   "execution_count": 3,
   "metadata": {},
   "outputs": [],
   "source": [
    "# Passing zip doc filenames to a list for storing DataFrames. \n",
    "zippedData = glob.glob(\"zippedData/*.gz\")"
   ]
  },
  {
   "cell_type": "code",
   "execution_count": 4,
   "metadata": {},
   "outputs": [
    {
     "data": {
      "text/plain": [
       "['zippedData/imdb.title.crew.csv.gz',\n",
       " 'zippedData/tmdb.movies.csv.gz',\n",
       " 'zippedData/imdb.title.akas.csv.gz',\n",
       " 'zippedData/imdb.title.ratings.csv.gz',\n",
       " 'zippedData/imdb.name.basics.csv.gz',\n",
       " 'zippedData/rt.reviews.tsv.gz',\n",
       " 'zippedData/imdb.title.basics.csv.gz',\n",
       " 'zippedData/rt.movie_info.tsv.gz',\n",
       " 'zippedData/tn.movie_budgets.csv.gz',\n",
       " 'zippedData/bom.movie_gross.csv.gz',\n",
       " 'zippedData/imdb.title.principals.csv.gz']"
      ]
     },
     "execution_count": 4,
     "metadata": {},
     "output_type": "execute_result"
    }
   ],
   "source": [
    "# Verifyig that all the docs in zippedData were read correctly\n",
    "zippedData"
   ]
  },
  {
   "cell_type": "code",
   "execution_count": 5,
   "metadata": {},
   "outputs": [],
   "source": [
    "# Ceate list of variables for storing DataFrames.\n",
    "df_name=[]\n",
    "for filename in zippedData:\n",
    "    df_name.append(\"df_\" + filename.split(\"/\",1)[1].split(\".\",3)[0] \n",
    "                + \"_\" + filename.split(\"/\",1)[1].split(\".\",3)[1] \n",
    "                + \"_\" + filename.split(\"/\",1)[1].split(\".\",3)[2])"
   ]
  },
  {
   "cell_type": "code",
   "execution_count": 6,
   "metadata": {
    "scrolled": true
   },
   "outputs": [],
   "source": [
    "df_dic={}\n",
    "i = 0\n",
    "for filename in zippedData:\n",
    "    if \"csv\" in filename:\n",
    "        df_dic[df_name[i]] = pd.read_csv(filename,\n",
    "                             compression='gzip')\n",
    "    else: \n",
    "        df_dic[df_name[i]] = pd.read_csv(filename\n",
    "                                   , sep='\\t'\n",
    "                                   , encoding = 'unicode_escape')\n",
    "    i+=1\n",
    "    "
   ]
  },
  {
   "cell_type": "code",
   "execution_count": 7,
   "metadata": {},
   "outputs": [],
   "source": [
    "df_imdb_title_crew = df_dic[\"df_imdb_title_crew\"]\n",
    "df_imdb_title_akas = df_dic[\"df_imdb_title_akas\"]\n",
    "df_imdb_title_ratings = df_dic[\"df_imdb_title_ratings\"]\n",
    "df_imdb_name_basics = df_dic[\"df_imdb_name_basics\"]\n",
    "df_imdb_title_basics = df_dic[\"df_imdb_title_basics\"]\n",
    "df_imdb_title_principals = df_dic[\"df_imdb_title_principals\"]\n",
    "\n",
    "df_rt_movie_info_tsv = df_dic[\"df_rt_movie_info_tsv\"]\n",
    "df_rt_reviews_tsv = df_dic[\"df_rt_reviews_tsv\"]\n",
    "\n",
    "df_tmdb_movies_csv = df_dic[\"df_tmdb_movies_csv\"]\n",
    "\n",
    "df_tn_movie_budgets_csv = df_dic[\"df_tn_movie_budgets_csv\"]\n",
    "\n",
    "df_bom_movie_gross_csv = df_dic[\"df_bom_movie_gross_csv\"]\n"
   ]
  },
  {
   "cell_type": "markdown",
   "metadata": {},
   "source": [
    "<a id=\"EDA\"></a>\n",
    "\n",
    "## EXPLORATORY DATA ANALYSIS"
   ]
  },
  {
   "cell_type": "markdown",
   "metadata": {},
   "source": [
    "Now that the datastes are loaded into DataFrames, we will explore the datasets to understand the data present in each. Later we will drill into the data to understand possible null values and start cleaning the same for joining and use. \n",
    "\n",
    "As we see the data for the first time, we will make note of potential areas for cleanup."
   ]
  },
  {
   "cell_type": "code",
   "execution_count": 8,
   "metadata": {
    "scrolled": false
   },
   "outputs": [
    {
     "data": {
      "text/html": [
       "<div>\n",
       "<style scoped>\n",
       "    .dataframe tbody tr th:only-of-type {\n",
       "        vertical-align: middle;\n",
       "    }\n",
       "\n",
       "    .dataframe tbody tr th {\n",
       "        vertical-align: top;\n",
       "    }\n",
       "\n",
       "    .dataframe thead th {\n",
       "        text-align: right;\n",
       "    }\n",
       "</style>\n",
       "<table border=\"1\" class=\"dataframe\">\n",
       "  <thead>\n",
       "    <tr style=\"text-align: right;\">\n",
       "      <th></th>\n",
       "      <th>tconst</th>\n",
       "      <th>directors</th>\n",
       "      <th>writers</th>\n",
       "    </tr>\n",
       "  </thead>\n",
       "  <tbody>\n",
       "    <tr>\n",
       "      <th>0</th>\n",
       "      <td>tt0285252</td>\n",
       "      <td>nm0899854</td>\n",
       "      <td>nm0899854</td>\n",
       "    </tr>\n",
       "    <tr>\n",
       "      <th>1</th>\n",
       "      <td>tt0438973</td>\n",
       "      <td>NaN</td>\n",
       "      <td>nm0175726,nm1802864</td>\n",
       "    </tr>\n",
       "  </tbody>\n",
       "</table>\n",
       "</div>"
      ],
      "text/plain": [
       "      tconst  directors              writers\n",
       "0  tt0285252  nm0899854            nm0899854\n",
       "1  tt0438973        NaN  nm0175726,nm1802864"
      ]
     },
     "execution_count": 8,
     "metadata": {},
     "output_type": "execute_result"
    }
   ],
   "source": [
    "df_imdb_title_crew.head(2)"
   ]
  },
  {
   "cell_type": "markdown",
   "metadata": {},
   "source": [
    "As we see above the all columns seem to contain secondary keys, or it could also contain useless data. We will verify as we see other IMBD datasets, and considering possible joins."
   ]
  },
  {
   "cell_type": "code",
   "execution_count": 9,
   "metadata": {
    "scrolled": true
   },
   "outputs": [
    {
     "data": {
      "text/html": [
       "<div>\n",
       "<style scoped>\n",
       "    .dataframe tbody tr th:only-of-type {\n",
       "        vertical-align: middle;\n",
       "    }\n",
       "\n",
       "    .dataframe tbody tr th {\n",
       "        vertical-align: top;\n",
       "    }\n",
       "\n",
       "    .dataframe thead th {\n",
       "        text-align: right;\n",
       "    }\n",
       "</style>\n",
       "<table border=\"1\" class=\"dataframe\">\n",
       "  <thead>\n",
       "    <tr style=\"text-align: right;\">\n",
       "      <th></th>\n",
       "      <th>title_id</th>\n",
       "      <th>ordering</th>\n",
       "      <th>title</th>\n",
       "      <th>region</th>\n",
       "      <th>language</th>\n",
       "      <th>types</th>\n",
       "      <th>attributes</th>\n",
       "      <th>is_original_title</th>\n",
       "    </tr>\n",
       "  </thead>\n",
       "  <tbody>\n",
       "    <tr>\n",
       "      <th>0</th>\n",
       "      <td>tt0369610</td>\n",
       "      <td>10</td>\n",
       "      <td>Джурасик свят</td>\n",
       "      <td>BG</td>\n",
       "      <td>bg</td>\n",
       "      <td>NaN</td>\n",
       "      <td>NaN</td>\n",
       "      <td>0.0</td>\n",
       "    </tr>\n",
       "    <tr>\n",
       "      <th>1</th>\n",
       "      <td>tt0369610</td>\n",
       "      <td>11</td>\n",
       "      <td>Jurashikku warudo</td>\n",
       "      <td>JP</td>\n",
       "      <td>NaN</td>\n",
       "      <td>imdbDisplay</td>\n",
       "      <td>NaN</td>\n",
       "      <td>0.0</td>\n",
       "    </tr>\n",
       "  </tbody>\n",
       "</table>\n",
       "</div>"
      ],
      "text/plain": [
       "    title_id  ordering              title region language        types  \\\n",
       "0  tt0369610        10      Джурасик свят     BG       bg          NaN   \n",
       "1  tt0369610        11  Jurashikku warudo     JP      NaN  imdbDisplay   \n",
       "\n",
       "  attributes  is_original_title  \n",
       "0        NaN                0.0  \n",
       "1        NaN                0.0  "
      ]
     },
     "execution_count": 9,
     "metadata": {},
     "output_type": "execute_result"
    }
   ],
   "source": [
    "df_imdb_title_akas.head(2)"
   ]
  },
  {
   "cell_type": "markdown",
   "metadata": {},
   "source": [
    "Above we see that this df contains movie titles, and lists (in binary) if the title is the original, as well as the region and language it was released in. We will find more about attribute values later on. For now we are assuming original titles are pre-release or location specific. \n",
    "\n",
    "We can also see that the \"title id\" column has a similar format to the \"tconst\" column in the previous df."
   ]
  },
  {
   "cell_type": "code",
   "execution_count": 10,
   "metadata": {},
   "outputs": [
    {
     "data": {
      "text/html": [
       "<div>\n",
       "<style scoped>\n",
       "    .dataframe tbody tr th:only-of-type {\n",
       "        vertical-align: middle;\n",
       "    }\n",
       "\n",
       "    .dataframe tbody tr th {\n",
       "        vertical-align: top;\n",
       "    }\n",
       "\n",
       "    .dataframe thead th {\n",
       "        text-align: right;\n",
       "    }\n",
       "</style>\n",
       "<table border=\"1\" class=\"dataframe\">\n",
       "  <thead>\n",
       "    <tr style=\"text-align: right;\">\n",
       "      <th></th>\n",
       "      <th>tconst</th>\n",
       "      <th>averagerating</th>\n",
       "      <th>numvotes</th>\n",
       "    </tr>\n",
       "  </thead>\n",
       "  <tbody>\n",
       "    <tr>\n",
       "      <th>0</th>\n",
       "      <td>tt10356526</td>\n",
       "      <td>8.3</td>\n",
       "      <td>31</td>\n",
       "    </tr>\n",
       "    <tr>\n",
       "      <th>1</th>\n",
       "      <td>tt10384606</td>\n",
       "      <td>8.9</td>\n",
       "      <td>559</td>\n",
       "    </tr>\n",
       "  </tbody>\n",
       "</table>\n",
       "</div>"
      ],
      "text/plain": [
       "       tconst  averagerating  numvotes\n",
       "0  tt10356526            8.3        31\n",
       "1  tt10384606            8.9       559"
      ]
     },
     "execution_count": 10,
     "metadata": {},
     "output_type": "execute_result"
    }
   ],
   "source": [
    "df_imdb_title_ratings.head(2)"
   ]
  },
  {
   "cell_type": "markdown",
   "metadata": {},
   "source": [
    "It now seems that the \"tconst\" column in the first df joins with this df rather than the \"df_imdb_title_akas\" df. And this df provides the ratings as well as number of votes for each score. "
   ]
  },
  {
   "cell_type": "code",
   "execution_count": 11,
   "metadata": {
    "scrolled": true
   },
   "outputs": [
    {
     "data": {
      "text/html": [
       "<div>\n",
       "<style scoped>\n",
       "    .dataframe tbody tr th:only-of-type {\n",
       "        vertical-align: middle;\n",
       "    }\n",
       "\n",
       "    .dataframe tbody tr th {\n",
       "        vertical-align: top;\n",
       "    }\n",
       "\n",
       "    .dataframe thead th {\n",
       "        text-align: right;\n",
       "    }\n",
       "</style>\n",
       "<table border=\"1\" class=\"dataframe\">\n",
       "  <thead>\n",
       "    <tr style=\"text-align: right;\">\n",
       "      <th></th>\n",
       "      <th>nconst</th>\n",
       "      <th>primary_name</th>\n",
       "      <th>birth_year</th>\n",
       "      <th>death_year</th>\n",
       "      <th>primary_profession</th>\n",
       "      <th>known_for_titles</th>\n",
       "    </tr>\n",
       "  </thead>\n",
       "  <tbody>\n",
       "    <tr>\n",
       "      <th>0</th>\n",
       "      <td>nm0061671</td>\n",
       "      <td>Mary Ellen Bauder</td>\n",
       "      <td>NaN</td>\n",
       "      <td>NaN</td>\n",
       "      <td>miscellaneous,production_manager,producer</td>\n",
       "      <td>tt0837562,tt2398241,tt0844471,tt0118553</td>\n",
       "    </tr>\n",
       "    <tr>\n",
       "      <th>1</th>\n",
       "      <td>nm0061865</td>\n",
       "      <td>Joseph Bauer</td>\n",
       "      <td>NaN</td>\n",
       "      <td>NaN</td>\n",
       "      <td>composer,music_department,sound_department</td>\n",
       "      <td>tt0896534,tt6791238,tt0287072,tt1682940</td>\n",
       "    </tr>\n",
       "  </tbody>\n",
       "</table>\n",
       "</div>"
      ],
      "text/plain": [
       "      nconst       primary_name  birth_year  death_year  \\\n",
       "0  nm0061671  Mary Ellen Bauder         NaN         NaN   \n",
       "1  nm0061865       Joseph Bauer         NaN         NaN   \n",
       "\n",
       "                           primary_profession  \\\n",
       "0   miscellaneous,production_manager,producer   \n",
       "1  composer,music_department,sound_department   \n",
       "\n",
       "                          known_for_titles  \n",
       "0  tt0837562,tt2398241,tt0844471,tt0118553  \n",
       "1  tt0896534,tt6791238,tt0287072,tt1682940  "
      ]
     },
     "execution_count": 11,
     "metadata": {},
     "output_type": "execute_result"
    }
   ],
   "source": [
    "df_imdb_name_basics.head(2)"
   ]
  },
  {
   "cell_type": "markdown",
   "metadata": {},
   "source": [
    "In this df we see data associated with crew members and their associated movies. Given the nature of our study, we will probably ignore this table altogether, unless it proves necessary for joining tables. "
   ]
  },
  {
   "cell_type": "code",
   "execution_count": 12,
   "metadata": {
    "scrolled": true
   },
   "outputs": [
    {
     "data": {
      "text/html": [
       "<div>\n",
       "<style scoped>\n",
       "    .dataframe tbody tr th:only-of-type {\n",
       "        vertical-align: middle;\n",
       "    }\n",
       "\n",
       "    .dataframe tbody tr th {\n",
       "        vertical-align: top;\n",
       "    }\n",
       "\n",
       "    .dataframe thead th {\n",
       "        text-align: right;\n",
       "    }\n",
       "</style>\n",
       "<table border=\"1\" class=\"dataframe\">\n",
       "  <thead>\n",
       "    <tr style=\"text-align: right;\">\n",
       "      <th></th>\n",
       "      <th>tconst</th>\n",
       "      <th>primary_title</th>\n",
       "      <th>original_title</th>\n",
       "      <th>start_year</th>\n",
       "      <th>runtime_minutes</th>\n",
       "      <th>genres</th>\n",
       "    </tr>\n",
       "  </thead>\n",
       "  <tbody>\n",
       "    <tr>\n",
       "      <th>0</th>\n",
       "      <td>tt0063540</td>\n",
       "      <td>Sunghursh</td>\n",
       "      <td>Sunghursh</td>\n",
       "      <td>2013</td>\n",
       "      <td>175.0</td>\n",
       "      <td>Action,Crime,Drama</td>\n",
       "    </tr>\n",
       "    <tr>\n",
       "      <th>1</th>\n",
       "      <td>tt0066787</td>\n",
       "      <td>One Day Before the Rainy Season</td>\n",
       "      <td>Ashad Ka Ek Din</td>\n",
       "      <td>2019</td>\n",
       "      <td>114.0</td>\n",
       "      <td>Biography,Drama</td>\n",
       "    </tr>\n",
       "  </tbody>\n",
       "</table>\n",
       "</div>"
      ],
      "text/plain": [
       "      tconst                    primary_title   original_title  start_year  \\\n",
       "0  tt0063540                        Sunghursh        Sunghursh        2013   \n",
       "1  tt0066787  One Day Before the Rainy Season  Ashad Ka Ek Din        2019   \n",
       "\n",
       "   runtime_minutes              genres  \n",
       "0            175.0  Action,Crime,Drama  \n",
       "1            114.0     Biography,Drama  "
      ]
     },
     "execution_count": 12,
     "metadata": {},
     "output_type": "execute_result"
    }
   ],
   "source": [
    "df_imdb_title_basics.head(2)"
   ]
  },
  {
   "cell_type": "markdown",
   "metadata": {},
   "source": [
    "Here we see the genre data and that it can be joined to the \"df_imdb_title_ratings\" df. "
   ]
  },
  {
   "cell_type": "code",
   "execution_count": 13,
   "metadata": {
    "scrolled": false
   },
   "outputs": [
    {
     "data": {
      "text/html": [
       "<div>\n",
       "<style scoped>\n",
       "    .dataframe tbody tr th:only-of-type {\n",
       "        vertical-align: middle;\n",
       "    }\n",
       "\n",
       "    .dataframe tbody tr th {\n",
       "        vertical-align: top;\n",
       "    }\n",
       "\n",
       "    .dataframe thead th {\n",
       "        text-align: right;\n",
       "    }\n",
       "</style>\n",
       "<table border=\"1\" class=\"dataframe\">\n",
       "  <thead>\n",
       "    <tr style=\"text-align: right;\">\n",
       "      <th></th>\n",
       "      <th>tconst</th>\n",
       "      <th>ordering</th>\n",
       "      <th>nconst</th>\n",
       "      <th>category</th>\n",
       "      <th>job</th>\n",
       "      <th>characters</th>\n",
       "    </tr>\n",
       "  </thead>\n",
       "  <tbody>\n",
       "    <tr>\n",
       "      <th>0</th>\n",
       "      <td>tt0111414</td>\n",
       "      <td>1</td>\n",
       "      <td>nm0246005</td>\n",
       "      <td>actor</td>\n",
       "      <td>NaN</td>\n",
       "      <td>[\"The Man\"]</td>\n",
       "    </tr>\n",
       "    <tr>\n",
       "      <th>1</th>\n",
       "      <td>tt0111414</td>\n",
       "      <td>2</td>\n",
       "      <td>nm0398271</td>\n",
       "      <td>director</td>\n",
       "      <td>NaN</td>\n",
       "      <td>NaN</td>\n",
       "    </tr>\n",
       "  </tbody>\n",
       "</table>\n",
       "</div>"
      ],
      "text/plain": [
       "      tconst  ordering     nconst  category  job   characters\n",
       "0  tt0111414         1  nm0246005     actor  NaN  [\"The Man\"]\n",
       "1  tt0111414         2  nm0398271  director  NaN          NaN"
      ]
     },
     "execution_count": 13,
     "metadata": {},
     "output_type": "execute_result"
    }
   ],
   "source": [
    "df_imdb_title_principals.head(2)"
   ]
  },
  {
   "cell_type": "markdown",
   "metadata": {},
   "source": [
    "This df contains a joining column for all other columns, except the \"df_imdb_title_akas\" df. It provides parsed information on the roles of the cast and crew related dataframe. "
   ]
  },
  {
   "cell_type": "code",
   "execution_count": 14,
   "metadata": {
    "scrolled": false
   },
   "outputs": [
    {
     "data": {
      "text/html": [
       "<div>\n",
       "<style scoped>\n",
       "    .dataframe tbody tr th:only-of-type {\n",
       "        vertical-align: middle;\n",
       "    }\n",
       "\n",
       "    .dataframe tbody tr th {\n",
       "        vertical-align: top;\n",
       "    }\n",
       "\n",
       "    .dataframe thead th {\n",
       "        text-align: right;\n",
       "    }\n",
       "</style>\n",
       "<table border=\"1\" class=\"dataframe\">\n",
       "  <thead>\n",
       "    <tr style=\"text-align: right;\">\n",
       "      <th></th>\n",
       "      <th>id</th>\n",
       "      <th>review</th>\n",
       "      <th>rating</th>\n",
       "      <th>fresh</th>\n",
       "      <th>critic</th>\n",
       "      <th>top_critic</th>\n",
       "      <th>publisher</th>\n",
       "      <th>date</th>\n",
       "    </tr>\n",
       "  </thead>\n",
       "  <tbody>\n",
       "    <tr>\n",
       "      <th>0</th>\n",
       "      <td>3</td>\n",
       "      <td>A distinctly gallows take on contemporary fina...</td>\n",
       "      <td>3/5</td>\n",
       "      <td>fresh</td>\n",
       "      <td>PJ Nabarro</td>\n",
       "      <td>0</td>\n",
       "      <td>Patrick Nabarro</td>\n",
       "      <td>November 10, 2018</td>\n",
       "    </tr>\n",
       "    <tr>\n",
       "      <th>1</th>\n",
       "      <td>3</td>\n",
       "      <td>It's an allegory in search of a meaning that n...</td>\n",
       "      <td>NaN</td>\n",
       "      <td>rotten</td>\n",
       "      <td>Annalee Newitz</td>\n",
       "      <td>0</td>\n",
       "      <td>io9.com</td>\n",
       "      <td>May 23, 2018</td>\n",
       "    </tr>\n",
       "  </tbody>\n",
       "</table>\n",
       "</div>"
      ],
      "text/plain": [
       "   id                                             review rating   fresh  \\\n",
       "0   3  A distinctly gallows take on contemporary fina...    3/5   fresh   \n",
       "1   3  It's an allegory in search of a meaning that n...    NaN  rotten   \n",
       "\n",
       "           critic  top_critic        publisher               date  \n",
       "0      PJ Nabarro           0  Patrick Nabarro  November 10, 2018  \n",
       "1  Annalee Newitz           0          io9.com       May 23, 2018  "
      ]
     },
     "execution_count": 14,
     "metadata": {},
     "output_type": "execute_result"
    }
   ],
   "source": [
    "df_rt_reviews_tsv.head(2)"
   ]
  },
  {
   "cell_type": "markdown",
   "metadata": {},
   "source": [
    "It seems the above dataframe contains review information, and names and publishing means of the critic (also read \"movie-viewer\") who posted the same. It could be joined to specific movie using the id column. \n",
    "\n",
    "We will verify if this is the case with the following df. "
   ]
  },
  {
   "cell_type": "code",
   "execution_count": 15,
   "metadata": {
    "scrolled": true
   },
   "outputs": [
    {
     "data": {
      "text/html": [
       "<div>\n",
       "<style scoped>\n",
       "    .dataframe tbody tr th:only-of-type {\n",
       "        vertical-align: middle;\n",
       "    }\n",
       "\n",
       "    .dataframe tbody tr th {\n",
       "        vertical-align: top;\n",
       "    }\n",
       "\n",
       "    .dataframe thead th {\n",
       "        text-align: right;\n",
       "    }\n",
       "</style>\n",
       "<table border=\"1\" class=\"dataframe\">\n",
       "  <thead>\n",
       "    <tr style=\"text-align: right;\">\n",
       "      <th></th>\n",
       "      <th>id</th>\n",
       "      <th>synopsis</th>\n",
       "      <th>rating</th>\n",
       "      <th>genre</th>\n",
       "      <th>director</th>\n",
       "      <th>writer</th>\n",
       "      <th>theater_date</th>\n",
       "      <th>dvd_date</th>\n",
       "      <th>currency</th>\n",
       "      <th>box_office</th>\n",
       "      <th>runtime</th>\n",
       "      <th>studio</th>\n",
       "    </tr>\n",
       "  </thead>\n",
       "  <tbody>\n",
       "    <tr>\n",
       "      <th>0</th>\n",
       "      <td>1</td>\n",
       "      <td>This gritty, fast-paced, and innovative police...</td>\n",
       "      <td>R</td>\n",
       "      <td>Action and Adventure|Classics|Drama</td>\n",
       "      <td>William Friedkin</td>\n",
       "      <td>Ernest Tidyman</td>\n",
       "      <td>Oct 9, 1971</td>\n",
       "      <td>Sep 25, 2001</td>\n",
       "      <td>NaN</td>\n",
       "      <td>NaN</td>\n",
       "      <td>104 minutes</td>\n",
       "      <td>NaN</td>\n",
       "    </tr>\n",
       "    <tr>\n",
       "      <th>1</th>\n",
       "      <td>3</td>\n",
       "      <td>New York City, not-too-distant-future: Eric Pa...</td>\n",
       "      <td>R</td>\n",
       "      <td>Drama|Science Fiction and Fantasy</td>\n",
       "      <td>David Cronenberg</td>\n",
       "      <td>David Cronenberg|Don DeLillo</td>\n",
       "      <td>Aug 17, 2012</td>\n",
       "      <td>Jan 1, 2013</td>\n",
       "      <td>$</td>\n",
       "      <td>600,000</td>\n",
       "      <td>108 minutes</td>\n",
       "      <td>Entertainment One</td>\n",
       "    </tr>\n",
       "  </tbody>\n",
       "</table>\n",
       "</div>"
      ],
      "text/plain": [
       "   id                                           synopsis rating  \\\n",
       "0   1  This gritty, fast-paced, and innovative police...      R   \n",
       "1   3  New York City, not-too-distant-future: Eric Pa...      R   \n",
       "\n",
       "                                 genre          director  \\\n",
       "0  Action and Adventure|Classics|Drama  William Friedkin   \n",
       "1    Drama|Science Fiction and Fantasy  David Cronenberg   \n",
       "\n",
       "                         writer  theater_date      dvd_date currency  \\\n",
       "0                Ernest Tidyman   Oct 9, 1971  Sep 25, 2001      NaN   \n",
       "1  David Cronenberg|Don DeLillo  Aug 17, 2012   Jan 1, 2013        $   \n",
       "\n",
       "  box_office      runtime             studio  \n",
       "0        NaN  104 minutes                NaN  \n",
       "1    600,000  108 minutes  Entertainment One  "
      ]
     },
     "execution_count": 15,
     "metadata": {},
     "output_type": "execute_result"
    }
   ],
   "source": [
    "df_rt_movie_info_tsv.head(2)"
   ]
  },
  {
   "cell_type": "markdown",
   "metadata": {},
   "source": [
    "Our original assumption seems correct in that the RottenTomatoes DataFrames can be joined using the \"id\" column in the previous table. However, we do not have the name of the film which might be useful for our word count analysis - however, it might not be necessary if we already have enough data samples from IMDB, for example.  \n",
    "\n",
    "Additionally this dataframe contains \"writer\", \"director\", \"dvd_date\", and \"studio\" columns which will not be useful for our analysis, but the \"director\" and \"writer\" columns could be used for joining to movie titles. We will also need to further investigate the \"rating\" columns as it seems that the column in this table is specifying the Motion Picture Association (MPA) rating system, rather than point ratings associated with a review."
   ]
  },
  {
   "cell_type": "code",
   "execution_count": 16,
   "metadata": {},
   "outputs": [
    {
     "data": {
      "text/html": [
       "<div>\n",
       "<style scoped>\n",
       "    .dataframe tbody tr th:only-of-type {\n",
       "        vertical-align: middle;\n",
       "    }\n",
       "\n",
       "    .dataframe tbody tr th {\n",
       "        vertical-align: top;\n",
       "    }\n",
       "\n",
       "    .dataframe thead th {\n",
       "        text-align: right;\n",
       "    }\n",
       "</style>\n",
       "<table border=\"1\" class=\"dataframe\">\n",
       "  <thead>\n",
       "    <tr style=\"text-align: right;\">\n",
       "      <th></th>\n",
       "      <th>Unnamed: 0</th>\n",
       "      <th>genre_ids</th>\n",
       "      <th>id</th>\n",
       "      <th>original_language</th>\n",
       "      <th>original_title</th>\n",
       "      <th>popularity</th>\n",
       "      <th>release_date</th>\n",
       "      <th>title</th>\n",
       "      <th>vote_average</th>\n",
       "      <th>vote_count</th>\n",
       "    </tr>\n",
       "  </thead>\n",
       "  <tbody>\n",
       "    <tr>\n",
       "      <th>0</th>\n",
       "      <td>0</td>\n",
       "      <td>[12, 14, 10751]</td>\n",
       "      <td>12444</td>\n",
       "      <td>en</td>\n",
       "      <td>Harry Potter and the Deathly Hallows: Part 1</td>\n",
       "      <td>33.533</td>\n",
       "      <td>2010-11-19</td>\n",
       "      <td>Harry Potter and the Deathly Hallows: Part 1</td>\n",
       "      <td>7.7</td>\n",
       "      <td>10788</td>\n",
       "    </tr>\n",
       "    <tr>\n",
       "      <th>1</th>\n",
       "      <td>1</td>\n",
       "      <td>[14, 12, 16, 10751]</td>\n",
       "      <td>10191</td>\n",
       "      <td>en</td>\n",
       "      <td>How to Train Your Dragon</td>\n",
       "      <td>28.734</td>\n",
       "      <td>2010-03-26</td>\n",
       "      <td>How to Train Your Dragon</td>\n",
       "      <td>7.7</td>\n",
       "      <td>7610</td>\n",
       "    </tr>\n",
       "  </tbody>\n",
       "</table>\n",
       "</div>"
      ],
      "text/plain": [
       "   Unnamed: 0            genre_ids     id original_language  \\\n",
       "0           0      [12, 14, 10751]  12444                en   \n",
       "1           1  [14, 12, 16, 10751]  10191                en   \n",
       "\n",
       "                                 original_title  popularity release_date  \\\n",
       "0  Harry Potter and the Deathly Hallows: Part 1      33.533   2010-11-19   \n",
       "1                      How to Train Your Dragon      28.734   2010-03-26   \n",
       "\n",
       "                                          title  vote_average  vote_count  \n",
       "0  Harry Potter and the Deathly Hallows: Part 1           7.7       10788  \n",
       "1                      How to Train Your Dragon           7.7        7610  "
      ]
     },
     "execution_count": 16,
     "metadata": {},
     "output_type": "execute_result"
    }
   ],
   "source": [
    "df_tmdb_movies_csv.head(2)"
   ]
  },
  {
   "cell_type": "markdown",
   "metadata": {},
   "source": [
    "In the above we see that the \"Unnamed:0\" column can probably be deleted as it seems to contain an index rather than the primary key, as there is another column named \"id\". \n",
    "\n",
    "We can also probably delete one of the title columns. We will be keeping the \"title\" column, rather than the \"original title\" column, as we are making the assumption that the latter contains titles used while working on the movie (or prerelease titles)."
   ]
  },
  {
   "cell_type": "code",
   "execution_count": 17,
   "metadata": {
    "scrolled": true
   },
   "outputs": [
    {
     "data": {
      "text/html": [
       "<div>\n",
       "<style scoped>\n",
       "    .dataframe tbody tr th:only-of-type {\n",
       "        vertical-align: middle;\n",
       "    }\n",
       "\n",
       "    .dataframe tbody tr th {\n",
       "        vertical-align: top;\n",
       "    }\n",
       "\n",
       "    .dataframe thead th {\n",
       "        text-align: right;\n",
       "    }\n",
       "</style>\n",
       "<table border=\"1\" class=\"dataframe\">\n",
       "  <thead>\n",
       "    <tr style=\"text-align: right;\">\n",
       "      <th></th>\n",
       "      <th>id</th>\n",
       "      <th>release_date</th>\n",
       "      <th>movie</th>\n",
       "      <th>production_budget</th>\n",
       "      <th>domestic_gross</th>\n",
       "      <th>worldwide_gross</th>\n",
       "    </tr>\n",
       "  </thead>\n",
       "  <tbody>\n",
       "    <tr>\n",
       "      <th>0</th>\n",
       "      <td>1</td>\n",
       "      <td>Dec 18, 2009</td>\n",
       "      <td>Avatar</td>\n",
       "      <td>$425,000,000</td>\n",
       "      <td>$760,507,625</td>\n",
       "      <td>$2,776,345,279</td>\n",
       "    </tr>\n",
       "    <tr>\n",
       "      <th>1</th>\n",
       "      <td>2</td>\n",
       "      <td>May 20, 2011</td>\n",
       "      <td>Pirates of the Caribbean: On Stranger Tides</td>\n",
       "      <td>$410,600,000</td>\n",
       "      <td>$241,063,875</td>\n",
       "      <td>$1,045,663,875</td>\n",
       "    </tr>\n",
       "  </tbody>\n",
       "</table>\n",
       "</div>"
      ],
      "text/plain": [
       "   id  release_date                                        movie  \\\n",
       "0   1  Dec 18, 2009                                       Avatar   \n",
       "1   2  May 20, 2011  Pirates of the Caribbean: On Stranger Tides   \n",
       "\n",
       "  production_budget domestic_gross worldwide_gross  \n",
       "0      $425,000,000   $760,507,625  $2,776,345,279  \n",
       "1      $410,600,000   $241,063,875  $1,045,663,875  "
      ]
     },
     "execution_count": 17,
     "metadata": {},
     "output_type": "execute_result"
    }
   ],
   "source": [
    "df_tn_movie_budgets_csv.head(2)"
   ]
  },
  {
   "cell_type": "code",
   "execution_count": 18,
   "metadata": {
    "scrolled": true
   },
   "outputs": [
    {
     "data": {
      "text/html": [
       "<div>\n",
       "<style scoped>\n",
       "    .dataframe tbody tr th:only-of-type {\n",
       "        vertical-align: middle;\n",
       "    }\n",
       "\n",
       "    .dataframe tbody tr th {\n",
       "        vertical-align: top;\n",
       "    }\n",
       "\n",
       "    .dataframe thead th {\n",
       "        text-align: right;\n",
       "    }\n",
       "</style>\n",
       "<table border=\"1\" class=\"dataframe\">\n",
       "  <thead>\n",
       "    <tr style=\"text-align: right;\">\n",
       "      <th></th>\n",
       "      <th>title</th>\n",
       "      <th>studio</th>\n",
       "      <th>domestic_gross</th>\n",
       "      <th>foreign_gross</th>\n",
       "      <th>year</th>\n",
       "    </tr>\n",
       "  </thead>\n",
       "  <tbody>\n",
       "    <tr>\n",
       "      <th>0</th>\n",
       "      <td>Toy Story 3</td>\n",
       "      <td>BV</td>\n",
       "      <td>415000000.0</td>\n",
       "      <td>652000000</td>\n",
       "      <td>2010</td>\n",
       "    </tr>\n",
       "    <tr>\n",
       "      <th>1</th>\n",
       "      <td>Alice in Wonderland (2010)</td>\n",
       "      <td>BV</td>\n",
       "      <td>334200000.0</td>\n",
       "      <td>691300000</td>\n",
       "      <td>2010</td>\n",
       "    </tr>\n",
       "  </tbody>\n",
       "</table>\n",
       "</div>"
      ],
      "text/plain": [
       "                        title studio  domestic_gross foreign_gross  year\n",
       "0                 Toy Story 3     BV     415000000.0     652000000  2010\n",
       "1  Alice in Wonderland (2010)     BV     334200000.0     691300000  2010"
      ]
     },
     "execution_count": 18,
     "metadata": {},
     "output_type": "execute_result"
    }
   ],
   "source": [
    "df_bom_movie_gross_csv.head(2)"
   ]
  },
  {
   "cell_type": "markdown",
   "metadata": {},
   "source": [
    "In the above we can see both dataframes contain financial data.\n",
    "\n",
    "We don't need both dataframes and will choose the former as it contains the full release date and the production budget. Both will be useful for our analysis, and the exact release date can allow us more granularity on when to release Microsoft's first film.  "
   ]
  },
  {
   "cell_type": "markdown",
   "metadata": {},
   "source": [
    "<a id=\"Iec\"></a>\n",
    "## Initial exploration and cleanup"
   ]
  },
  {
   "cell_type": "markdown",
   "metadata": {},
   "source": [
    "Let's take a quick recap on what we've learned from each dataset so far.\n",
    "\n",
    "1. df_imdb_title_crew: is a joining table, it joins between df_imdb_title_ratings and df_imdb_title_basics, which we can use to title ratings, gender, gross income and ROI (useful for testing our first and second hypotheses) by joining on movie titles with the df_tn_movie_budgets_csv <br><br>\n",
    "\n",
    "2. df_tn_movie_budgets_csv: contains financial information as well as the name of the movies, which we will use to join on IMDB tables. <br><br>\n",
    "\n",
    "3. df_tmdb_movies_csv: can also be joined to df_tn_movie_budgets_csv using the title field, which can inform our first and third hypotheses. <br><br>\n",
    "\n",
    "4. df_rt_movie_info_tsv: can join with df_rt_reviews_tsv using the id columns, and we can then compare ratings, genre and release date, as well as gross domestic income for hypotheses 1,2 and 4.  <br><br>\n",
    "\n",
    "Now we will start examining and cleaning the data. Let's make note that for our analytical purposes df_imdb_title_principals and df_imdb_name_basics won't be useful, so we will br ignoring these tables altogether.\n",
    "\n",
    "During the cleanup process we will be looking at potential missing data that could be expressed as other than null. Unique values that could be indicative of missing data, include the following:\n",
    "- Impossible values\n",
    "- Null categories\n",
    "- 0's where not logical\n"
   ]
  },
  {
   "cell_type": "code",
   "execution_count": 19,
   "metadata": {
    "scrolled": true
   },
   "outputs": [
    {
     "name": "stdout",
     "output_type": "stream",
     "text": [
      "<class 'pandas.core.frame.DataFrame'>\n",
      "RangeIndex: 73856 entries, 0 to 73855\n",
      "Data columns (total 3 columns):\n",
      "tconst           73856 non-null object\n",
      "averagerating    73856 non-null float64\n",
      "numvotes         73856 non-null int64\n",
      "dtypes: float64(1), int64(1), object(1)\n",
      "memory usage: 1.7+ MB\n"
     ]
    }
   ],
   "source": [
    "df_imdb_title_ratings.info() \n",
    "# Since there are no noticeable nulls, and we can \n",
    "# safely assume all columns are foreign keys given our \n",
    "# initial lookthrough, we will continue with the next df. \n"
   ]
  },
  {
   "cell_type": "code",
   "execution_count": 20,
   "metadata": {},
   "outputs": [
    {
     "data": {
      "text/html": [
       "<div>\n",
       "<style scoped>\n",
       "    .dataframe tbody tr th:only-of-type {\n",
       "        vertical-align: middle;\n",
       "    }\n",
       "\n",
       "    .dataframe tbody tr th {\n",
       "        vertical-align: top;\n",
       "    }\n",
       "\n",
       "    .dataframe thead th {\n",
       "        text-align: right;\n",
       "    }\n",
       "</style>\n",
       "<table border=\"1\" class=\"dataframe\">\n",
       "  <thead>\n",
       "    <tr style=\"text-align: right;\">\n",
       "      <th></th>\n",
       "      <th>tconst</th>\n",
       "    </tr>\n",
       "  </thead>\n",
       "  <tbody>\n",
       "    <tr>\n",
       "      <th>count</th>\n",
       "      <td>73856</td>\n",
       "    </tr>\n",
       "    <tr>\n",
       "      <th>unique</th>\n",
       "      <td>73856</td>\n",
       "    </tr>\n",
       "    <tr>\n",
       "      <th>top</th>\n",
       "      <td>tt5281646</td>\n",
       "    </tr>\n",
       "    <tr>\n",
       "      <th>freq</th>\n",
       "      <td>1</td>\n",
       "    </tr>\n",
       "  </tbody>\n",
       "</table>\n",
       "</div>"
      ],
      "text/plain": [
       "           tconst\n",
       "count       73856\n",
       "unique      73856\n",
       "top     tt5281646\n",
       "freq            1"
      ]
     },
     "execution_count": 20,
     "metadata": {},
     "output_type": "execute_result"
    }
   ],
   "source": [
    "df_imdb_title_ratings.describe(include=np.object)\n",
    "# Given our initial lookthrough, and that \n",
    "# the \"tconst\" column contains all unique values\n",
    "# we can safely assume they are primery and a foreign key."
   ]
  },
  {
   "cell_type": "code",
   "execution_count": 21,
   "metadata": {
    "scrolled": true
   },
   "outputs": [
    {
     "data": {
      "text/html": [
       "<div>\n",
       "<style scoped>\n",
       "    .dataframe tbody tr th:only-of-type {\n",
       "        vertical-align: middle;\n",
       "    }\n",
       "\n",
       "    .dataframe tbody tr th {\n",
       "        vertical-align: top;\n",
       "    }\n",
       "\n",
       "    .dataframe thead th {\n",
       "        text-align: right;\n",
       "    }\n",
       "</style>\n",
       "<table border=\"1\" class=\"dataframe\">\n",
       "  <thead>\n",
       "    <tr style=\"text-align: right;\">\n",
       "      <th></th>\n",
       "      <th>averagerating</th>\n",
       "      <th>numvotes</th>\n",
       "    </tr>\n",
       "  </thead>\n",
       "  <tbody>\n",
       "    <tr>\n",
       "      <th>count</th>\n",
       "      <td>73856.000000</td>\n",
       "      <td>7.385600e+04</td>\n",
       "    </tr>\n",
       "    <tr>\n",
       "      <th>mean</th>\n",
       "      <td>6.332729</td>\n",
       "      <td>3.523662e+03</td>\n",
       "    </tr>\n",
       "    <tr>\n",
       "      <th>std</th>\n",
       "      <td>1.474978</td>\n",
       "      <td>3.029402e+04</td>\n",
       "    </tr>\n",
       "    <tr>\n",
       "      <th>min</th>\n",
       "      <td>1.000000</td>\n",
       "      <td>5.000000e+00</td>\n",
       "    </tr>\n",
       "    <tr>\n",
       "      <th>25%</th>\n",
       "      <td>5.500000</td>\n",
       "      <td>1.400000e+01</td>\n",
       "    </tr>\n",
       "    <tr>\n",
       "      <th>50%</th>\n",
       "      <td>6.500000</td>\n",
       "      <td>4.900000e+01</td>\n",
       "    </tr>\n",
       "    <tr>\n",
       "      <th>75%</th>\n",
       "      <td>7.400000</td>\n",
       "      <td>2.820000e+02</td>\n",
       "    </tr>\n",
       "    <tr>\n",
       "      <th>max</th>\n",
       "      <td>10.000000</td>\n",
       "      <td>1.841066e+06</td>\n",
       "    </tr>\n",
       "  </tbody>\n",
       "</table>\n",
       "</div>"
      ],
      "text/plain": [
       "       averagerating      numvotes\n",
       "count   73856.000000  7.385600e+04\n",
       "mean        6.332729  3.523662e+03\n",
       "std         1.474978  3.029402e+04\n",
       "min         1.000000  5.000000e+00\n",
       "25%         5.500000  1.400000e+01\n",
       "50%         6.500000  4.900000e+01\n",
       "75%         7.400000  2.820000e+02\n",
       "max        10.000000  1.841066e+06"
      ]
     },
     "execution_count": 21,
     "metadata": {},
     "output_type": "execute_result"
    }
   ],
   "source": [
    "df_imdb_title_ratings.describe() \n",
    "# Here we can note that the averages for ratings\n",
    "# don't vary significantly. "
   ]
  },
  {
   "cell_type": "code",
   "execution_count": 22,
   "metadata": {
    "scrolled": true
   },
   "outputs": [
    {
     "name": "stdout",
     "output_type": "stream",
     "text": [
      "tt5281646    1\n",
      "tt4602342    1\n",
      "tt3810760    1\n",
      "tt5004776    1\n",
      "tt4067578    1\n",
      "            ..\n",
      "tt0831280    1\n",
      "tt3720802    1\n",
      "tt5652594    1\n",
      "tt7564298    1\n",
      "tt5477450    1\n",
      "Name: tconst, Length: 73856, dtype: int64\n",
      "7.0     2262\n",
      "6.6     2251\n",
      "7.2     2249\n",
      "6.8     2239\n",
      "6.5     2221\n",
      "        ... \n",
      "9.6       18\n",
      "10.0      16\n",
      "9.8       15\n",
      "9.7       12\n",
      "9.9        5\n",
      "Name: averagerating, Length: 91, dtype: int64\n",
      "6        2875\n",
      "5        2699\n",
      "7        2476\n",
      "8        2167\n",
      "9        1929\n",
      "         ... \n",
      "18286       1\n",
      "16289       1\n",
      "1958        1\n",
      "4007        1\n",
      "4098        1\n",
      "Name: numvotes, Length: 7349, dtype: int64\n"
     ]
    }
   ],
   "source": [
    "for column in df_imdb_title_ratings.columns:\n",
    "    print(df_imdb_title_ratings[column].value_counts())\n",
    "# None of the following seems to be possible \n",
    "# null values so let's move on."
   ]
  },
  {
   "cell_type": "code",
   "execution_count": 23,
   "metadata": {
    "scrolled": true
   },
   "outputs": [
    {
     "name": "stdout",
     "output_type": "stream",
     "text": [
      "tt5238664    1\n",
      "tt4838440    1\n",
      "tt6695888    1\n",
      "tt2330366    1\n",
      "tt3722174    1\n",
      "            ..\n",
      "tt6254720    1\n",
      "tt6787962    1\n",
      "tt2231034    1\n",
      "tt2312300    1\n",
      "tt5477450    1\n",
      "Name: tconst, Length: 146144, dtype: int64\n",
      "Home                                                                     24\n",
      "The Return                                                               20\n",
      "Broken                                                                   20\n",
      "Homecoming                                                               16\n",
      "Alone                                                                    16\n",
      "                                                                         ..\n",
      "Beauty of the Mind                                                        1\n",
      "Kutty Pisasu                                                              1\n",
      "Ensemble, nous allons vivre une très, très grande histoire d'amour...     1\n",
      "Dying To Clothe You                                                       1\n",
      "In the Stream                                                             1\n",
      "Name: primary_title, Length: 136071, dtype: int64\n",
      "Broken                                                                            19\n",
      "Home                                                                              18\n",
      "The Return                                                                        17\n",
      "Homecoming                                                                        13\n",
      "Freedom                                                                           13\n",
      "                                                                                  ..\n",
      "Are We the Waiting                                                                 1\n",
      "The Fall of the National Conference of Black Mayors: Black Mayors of The World     1\n",
      "Mary Janes: The Women of Weed                                                      1\n",
      "Wairua Spirit                                                                      1\n",
      "In the Stream                                                                      1\n",
      "Name: original_title, Length: 137773, dtype: int64\n",
      "2017    17504\n",
      "2016    17272\n",
      "2018    16849\n",
      "2015    16243\n",
      "2014    15589\n",
      "2013    14709\n",
      "2012    13787\n",
      "2011    12900\n",
      "2010    11849\n",
      "2019     8379\n",
      "2020      937\n",
      "2021       83\n",
      "2022       32\n",
      "2023        5\n",
      "2024        2\n",
      "2027        1\n",
      "2026        1\n",
      "2025        1\n",
      "2115        1\n",
      "Name: start_year, dtype: int64\n",
      "90.0     7131\n",
      "80.0     3526\n",
      "85.0     2915\n",
      "100.0    2662\n",
      "95.0     2549\n",
      "         ... \n",
      "382.0       1\n",
      "724.0       1\n",
      "808.0       1\n",
      "287.0       1\n",
      "540.0       1\n",
      "Name: runtime_minutes, Length: 367, dtype: int64\n",
      "Documentary                     32185\n",
      "Drama                           21486\n",
      "Comedy                           9177\n",
      "Horror                           4372\n",
      "Comedy,Drama                     3519\n",
      "                                ...  \n",
      "Biography,Fantasy,History           1\n",
      "Biography,History,Musical           1\n",
      "Adventure,Romance,Sport             1\n",
      "Horror,Musical,Romance              1\n",
      "Documentary,Music,Reality-TV        1\n",
      "Name: genres, Length: 1085, dtype: int64\n",
      "<class 'pandas.core.frame.DataFrame'>\n",
      "RangeIndex: 146144 entries, 0 to 146143\n",
      "Data columns (total 6 columns):\n",
      "tconst             146144 non-null object\n",
      "primary_title      146144 non-null object\n",
      "original_title     146123 non-null object\n",
      "start_year         146144 non-null int64\n",
      "runtime_minutes    114405 non-null float64\n",
      "genres             140736 non-null object\n",
      "dtypes: float64(1), int64(1), object(4)\n",
      "memory usage: 6.7+ MB\n",
      "None\n"
     ]
    },
    {
     "data": {
      "text/html": [
       "<div>\n",
       "<style scoped>\n",
       "    .dataframe tbody tr th:only-of-type {\n",
       "        vertical-align: middle;\n",
       "    }\n",
       "\n",
       "    .dataframe tbody tr th {\n",
       "        vertical-align: top;\n",
       "    }\n",
       "\n",
       "    .dataframe thead th {\n",
       "        text-align: right;\n",
       "    }\n",
       "</style>\n",
       "<table border=\"1\" class=\"dataframe\">\n",
       "  <thead>\n",
       "    <tr style=\"text-align: right;\">\n",
       "      <th></th>\n",
       "      <th>start_year</th>\n",
       "      <th>runtime_minutes</th>\n",
       "    </tr>\n",
       "  </thead>\n",
       "  <tbody>\n",
       "    <tr>\n",
       "      <th>count</th>\n",
       "      <td>146144.000000</td>\n",
       "      <td>114405.000000</td>\n",
       "    </tr>\n",
       "    <tr>\n",
       "      <th>mean</th>\n",
       "      <td>2014.621798</td>\n",
       "      <td>86.187247</td>\n",
       "    </tr>\n",
       "    <tr>\n",
       "      <th>std</th>\n",
       "      <td>2.733583</td>\n",
       "      <td>166.360590</td>\n",
       "    </tr>\n",
       "    <tr>\n",
       "      <th>min</th>\n",
       "      <td>2010.000000</td>\n",
       "      <td>1.000000</td>\n",
       "    </tr>\n",
       "    <tr>\n",
       "      <th>25%</th>\n",
       "      <td>2012.000000</td>\n",
       "      <td>70.000000</td>\n",
       "    </tr>\n",
       "    <tr>\n",
       "      <th>50%</th>\n",
       "      <td>2015.000000</td>\n",
       "      <td>87.000000</td>\n",
       "    </tr>\n",
       "    <tr>\n",
       "      <th>75%</th>\n",
       "      <td>2017.000000</td>\n",
       "      <td>99.000000</td>\n",
       "    </tr>\n",
       "    <tr>\n",
       "      <th>max</th>\n",
       "      <td>2115.000000</td>\n",
       "      <td>51420.000000</td>\n",
       "    </tr>\n",
       "  </tbody>\n",
       "</table>\n",
       "</div>"
      ],
      "text/plain": [
       "          start_year  runtime_minutes\n",
       "count  146144.000000    114405.000000\n",
       "mean     2014.621798        86.187247\n",
       "std         2.733583       166.360590\n",
       "min      2010.000000         1.000000\n",
       "25%      2012.000000        70.000000\n",
       "50%      2015.000000        87.000000\n",
       "75%      2017.000000        99.000000\n",
       "max      2115.000000     51420.000000"
      ]
     },
     "execution_count": 23,
     "metadata": {},
     "output_type": "execute_result"
    }
   ],
   "source": [
    "for column in df_imdb_title_basics.columns:\n",
    "    print(df_imdb_title_basics[column].value_counts())\n",
    "    \n",
    "print(df_imdb_title_basics.info())\n",
    "df_imdb_title_basics.describe() \n",
    "\n",
    "# Again we see no indication of othery types of null values\n",
    "# and we see little effect on the \"genre\" and \"runtime_min\"\n",
    "# columns"
   ]
  },
  {
   "cell_type": "code",
   "execution_count": 24,
   "metadata": {
    "scrolled": true
   },
   "outputs": [
    {
     "name": "stdout",
     "output_type": "stream",
     "text": [
      "<class 'pandas.core.frame.DataFrame'>\n",
      "Int64Index: 140736 entries, 0 to 146143\n",
      "Data columns (total 6 columns):\n",
      "tconst             140736 non-null object\n",
      "primary_title      140736 non-null object\n",
      "original_title     140734 non-null object\n",
      "start_year         140736 non-null int64\n",
      "runtime_minutes    112233 non-null float64\n",
      "genres             140736 non-null object\n",
      "dtypes: float64(1), int64(1), object(4)\n",
      "memory usage: 7.5+ MB\n",
      "None\n"
     ]
    },
    {
     "data": {
      "text/html": [
       "<div>\n",
       "<style scoped>\n",
       "    .dataframe tbody tr th:only-of-type {\n",
       "        vertical-align: middle;\n",
       "    }\n",
       "\n",
       "    .dataframe tbody tr th {\n",
       "        vertical-align: top;\n",
       "    }\n",
       "\n",
       "    .dataframe thead th {\n",
       "        text-align: right;\n",
       "    }\n",
       "</style>\n",
       "<table border=\"1\" class=\"dataframe\">\n",
       "  <thead>\n",
       "    <tr style=\"text-align: right;\">\n",
       "      <th></th>\n",
       "      <th>tconst</th>\n",
       "      <th>primary_title</th>\n",
       "      <th>original_title</th>\n",
       "      <th>start_year</th>\n",
       "      <th>runtime_minutes</th>\n",
       "      <th>genres</th>\n",
       "    </tr>\n",
       "  </thead>\n",
       "  <tbody>\n",
       "    <tr>\n",
       "      <th>0</th>\n",
       "      <td>tt0063540</td>\n",
       "      <td>Sunghursh</td>\n",
       "      <td>Sunghursh</td>\n",
       "      <td>2013</td>\n",
       "      <td>175.0</td>\n",
       "      <td>Action,Crime,Drama</td>\n",
       "    </tr>\n",
       "    <tr>\n",
       "      <th>1</th>\n",
       "      <td>tt0066787</td>\n",
       "      <td>One Day Before the Rainy Season</td>\n",
       "      <td>Ashad Ka Ek Din</td>\n",
       "      <td>2019</td>\n",
       "      <td>114.0</td>\n",
       "      <td>Biography,Drama</td>\n",
       "    </tr>\n",
       "  </tbody>\n",
       "</table>\n",
       "</div>"
      ],
      "text/plain": [
       "      tconst                    primary_title   original_title  start_year  \\\n",
       "0  tt0063540                        Sunghursh        Sunghursh        2013   \n",
       "1  tt0066787  One Day Before the Rainy Season  Ashad Ka Ek Din        2019   \n",
       "\n",
       "   runtime_minutes              genres  \n",
       "0            175.0  Action,Crime,Drama  \n",
       "1            114.0     Biography,Drama  "
      ]
     },
     "execution_count": 24,
     "metadata": {},
     "output_type": "execute_result"
    }
   ],
   "source": [
    "# Let's continue by removing columns we won't \n",
    "# need for our analysis\n",
    "df_imdb_title_genre = df_imdb_title_basics.copy()\n",
    "\n",
    "# Also, since we will need genre, let's remove \n",
    "# columns with nulls in the genre column \n",
    "# since these would constitute only  the 3% of the data.\n",
    "df_imdb_title_genre.dropna(subset=[\"genres\"],inplace=True)\n",
    "\n",
    "print(df_imdb_title_genre.info())\n",
    "df_imdb_title_genre.head(2)"
   ]
  },
  {
   "cell_type": "code",
   "execution_count": 25,
   "metadata": {},
   "outputs": [],
   "source": [
    "# Converting genre column into a list --- MIGHT HAVE TO JOIN BEFORE EXPANSION\n",
    "df_imdb_title_genre[\"genres\"] = df_imdb_title_genre[\"genres\"].str.split(\",\")\n",
    "df_imdb_title_genre_expanded = df_imdb_title_genre.copy()\n",
    "\n",
    "# Expand list into rows\n",
    "rows = []\n",
    "_ = df_imdb_title_genre_expanded.apply(lambda row: [rows.append([row['tconst'], row['primary_title']\n",
    "                                                        , row[\"original_title\"], row[\"start_year\"] \n",
    "                                                        , row[\"runtime_minutes\"], nn]) \n",
    "                         for nn in row.genres], axis=1)\n",
    "df_imdb_title_genre_expanded = pd.DataFrame(rows, columns=df_imdb_title_genre_expanded.columns)\n"
   ]
  },
  {
   "cell_type": "code",
   "execution_count": 26,
   "metadata": {},
   "outputs": [
    {
     "data": {
      "text/html": [
       "<div>\n",
       "<style scoped>\n",
       "    .dataframe tbody tr th:only-of-type {\n",
       "        vertical-align: middle;\n",
       "    }\n",
       "\n",
       "    .dataframe tbody tr th {\n",
       "        vertical-align: top;\n",
       "    }\n",
       "\n",
       "    .dataframe thead th {\n",
       "        text-align: right;\n",
       "    }\n",
       "</style>\n",
       "<table border=\"1\" class=\"dataframe\">\n",
       "  <thead>\n",
       "    <tr style=\"text-align: right;\">\n",
       "      <th></th>\n",
       "      <th>tconst</th>\n",
       "      <th>primary_title</th>\n",
       "      <th>original_title</th>\n",
       "      <th>start_year</th>\n",
       "      <th>runtime_minutes</th>\n",
       "      <th>genres</th>\n",
       "    </tr>\n",
       "  </thead>\n",
       "  <tbody>\n",
       "    <tr>\n",
       "      <th>0</th>\n",
       "      <td>tt0063540</td>\n",
       "      <td>Sunghursh</td>\n",
       "      <td>Sunghursh</td>\n",
       "      <td>2013</td>\n",
       "      <td>175.0</td>\n",
       "      <td>[Action, Crime, Drama]</td>\n",
       "    </tr>\n",
       "    <tr>\n",
       "      <th>1</th>\n",
       "      <td>tt0066787</td>\n",
       "      <td>One Day Before the Rainy Season</td>\n",
       "      <td>Ashad Ka Ek Din</td>\n",
       "      <td>2019</td>\n",
       "      <td>114.0</td>\n",
       "      <td>[Biography, Drama]</td>\n",
       "    </tr>\n",
       "  </tbody>\n",
       "</table>\n",
       "</div>"
      ],
      "text/plain": [
       "      tconst                    primary_title   original_title  start_year  \\\n",
       "0  tt0063540                        Sunghursh        Sunghursh        2013   \n",
       "1  tt0066787  One Day Before the Rainy Season  Ashad Ka Ek Din        2019   \n",
       "\n",
       "   runtime_minutes                  genres  \n",
       "0            175.0  [Action, Crime, Drama]  \n",
       "1            114.0      [Biography, Drama]  "
      ]
     },
     "execution_count": 26,
     "metadata": {},
     "output_type": "execute_result"
    }
   ],
   "source": [
    "df_imdb_title_genre.head(2)"
   ]
  },
  {
   "cell_type": "code",
   "execution_count": 27,
   "metadata": {},
   "outputs": [
    {
     "data": {
      "text/html": [
       "<div>\n",
       "<style scoped>\n",
       "    .dataframe tbody tr th:only-of-type {\n",
       "        vertical-align: middle;\n",
       "    }\n",
       "\n",
       "    .dataframe tbody tr th {\n",
       "        vertical-align: top;\n",
       "    }\n",
       "\n",
       "    .dataframe thead th {\n",
       "        text-align: right;\n",
       "    }\n",
       "</style>\n",
       "<table border=\"1\" class=\"dataframe\">\n",
       "  <thead>\n",
       "    <tr style=\"text-align: right;\">\n",
       "      <th></th>\n",
       "      <th>tconst</th>\n",
       "      <th>primary_title</th>\n",
       "      <th>original_title</th>\n",
       "      <th>start_year</th>\n",
       "      <th>runtime_minutes</th>\n",
       "      <th>genres</th>\n",
       "    </tr>\n",
       "  </thead>\n",
       "  <tbody>\n",
       "    <tr>\n",
       "      <th>0</th>\n",
       "      <td>tt0063540</td>\n",
       "      <td>Sunghursh</td>\n",
       "      <td>Sunghursh</td>\n",
       "      <td>2013</td>\n",
       "      <td>175.0</td>\n",
       "      <td>Action</td>\n",
       "    </tr>\n",
       "    <tr>\n",
       "      <th>1</th>\n",
       "      <td>tt0063540</td>\n",
       "      <td>Sunghursh</td>\n",
       "      <td>Sunghursh</td>\n",
       "      <td>2013</td>\n",
       "      <td>175.0</td>\n",
       "      <td>Crime</td>\n",
       "    </tr>\n",
       "  </tbody>\n",
       "</table>\n",
       "</div>"
      ],
      "text/plain": [
       "      tconst primary_title original_title  start_year  runtime_minutes  genres\n",
       "0  tt0063540     Sunghursh      Sunghursh        2013            175.0  Action\n",
       "1  tt0063540     Sunghursh      Sunghursh        2013            175.0   Crime"
      ]
     },
     "execution_count": 27,
     "metadata": {},
     "output_type": "execute_result"
    }
   ],
   "source": [
    "df_imdb_title_genre_expanded.head(2)"
   ]
  },
  {
   "cell_type": "code",
   "execution_count": 28,
   "metadata": {
    "scrolled": true
   },
   "outputs": [
    {
     "name": "stdout",
     "output_type": "stream",
     "text": [
      "4      58\n",
      "53     58\n",
      "61     58\n",
      "65     58\n",
      "69     58\n",
      "       ..\n",
      "85     57\n",
      "100    57\n",
      "96     57\n",
      "92     57\n",
      "97     57\n",
      "Name: id, Length: 100, dtype: int64\n",
      "Dec 31, 2014    24\n",
      "Dec 31, 2015    23\n",
      "Dec 31, 2010    15\n",
      "Dec 31, 2008    14\n",
      "Dec 31, 2012    13\n",
      "                ..\n",
      "Sep 15, 1999     1\n",
      "Nov 27, 1991     1\n",
      "Feb 3, 2010      1\n",
      "Jun 25, 1999     1\n",
      "Feb 14, 1991     1\n",
      "Name: release_date, Length: 2418, dtype: int64\n",
      "Home                     3\n",
      "Halloween                3\n",
      "King Kong                3\n",
      "The Island               2\n",
      "Friday the 13th          2\n",
      "                        ..\n",
      "We Own the Night         1\n",
      "The Prisoner of Zenda    1\n",
      "Elektra                  1\n",
      "Goodbye Bafana           1\n",
      "What Lies Beneath        1\n",
      "Name: movie, Length: 5698, dtype: int64\n",
      "$20,000,000    231\n",
      "$10,000,000    212\n",
      "$30,000,000    177\n",
      "$15,000,000    173\n",
      "$25,000,000    171\n",
      "              ... \n",
      "$77,000,000      1\n",
      "$23,600,000      1\n",
      "$323,000         1\n",
      "$7,800,000       1\n",
      "$775,000         1\n",
      "Name: production_budget, Length: 509, dtype: int64\n",
      "$0              548\n",
      "$8,000,000        9\n",
      "$2,000,000        7\n",
      "$7,000,000        7\n",
      "$10,000,000       6\n",
      "               ... \n",
      "$4,420,000        1\n",
      "$1,985,292        1\n",
      "$3,330            1\n",
      "$213,511,408      1\n",
      "$18,000           1\n",
      "Name: domestic_gross, Length: 5164, dtype: int64\n",
      "$0              367\n",
      "$8,000,000        9\n",
      "$7,000,000        6\n",
      "$2,000,000        6\n",
      "$15,000,000       4\n",
      "               ... \n",
      "$6,908,640        1\n",
      "$225,925,989      1\n",
      "$276,294,164      1\n",
      "$457,683,805      1\n",
      "$1,297,745        1\n",
      "Name: worldwide_gross, Length: 5356, dtype: int64\n",
      "<class 'pandas.core.frame.DataFrame'>\n",
      "RangeIndex: 5782 entries, 0 to 5781\n",
      "Data columns (total 6 columns):\n",
      "id                   5782 non-null int64\n",
      "release_date         5782 non-null object\n",
      "movie                5782 non-null object\n",
      "production_budget    5782 non-null object\n",
      "domestic_gross       5782 non-null object\n",
      "worldwide_gross      5782 non-null object\n",
      "dtypes: int64(1), object(5)\n",
      "memory usage: 271.2+ KB\n"
     ]
    }
   ],
   "source": [
    "for column in df_tn_movie_budgets_csv.columns:\n",
    "    print(df_tn_movie_budgets_csv[column].value_counts())\n",
    "    \n",
    "df_tn_movie_budgets_csv.info()\n",
    "\n",
    "# Again no noticeable null placeholder values and no nulls"
   ]
  },
  {
   "cell_type": "code",
   "execution_count": 29,
   "metadata": {
    "scrolled": true
   },
   "outputs": [
    {
     "data": {
      "text/html": [
       "<div>\n",
       "<style scoped>\n",
       "    .dataframe tbody tr th:only-of-type {\n",
       "        vertical-align: middle;\n",
       "    }\n",
       "\n",
       "    .dataframe tbody tr th {\n",
       "        vertical-align: top;\n",
       "    }\n",
       "\n",
       "    .dataframe thead th {\n",
       "        text-align: right;\n",
       "    }\n",
       "</style>\n",
       "<table border=\"1\" class=\"dataframe\">\n",
       "  <thead>\n",
       "    <tr style=\"text-align: right;\">\n",
       "      <th></th>\n",
       "      <th>release_date</th>\n",
       "      <th>movie</th>\n",
       "      <th>production_budget</th>\n",
       "      <th>domestic_gross</th>\n",
       "      <th>worldwide_gross</th>\n",
       "      <th>day</th>\n",
       "      <th>month</th>\n",
       "      <th>year</th>\n",
       "    </tr>\n",
       "  </thead>\n",
       "  <tbody>\n",
       "    <tr>\n",
       "      <th>0</th>\n",
       "      <td>2009-12-18</td>\n",
       "      <td>Avatar</td>\n",
       "      <td>$425,000,000</td>\n",
       "      <td>$760,507,625</td>\n",
       "      <td>$2,776,345,279</td>\n",
       "      <td>18</td>\n",
       "      <td>12</td>\n",
       "      <td>2009</td>\n",
       "    </tr>\n",
       "    <tr>\n",
       "      <th>1</th>\n",
       "      <td>2011-05-20</td>\n",
       "      <td>Pirates of the Caribbean: On Stranger Tides</td>\n",
       "      <td>$410,600,000</td>\n",
       "      <td>$241,063,875</td>\n",
       "      <td>$1,045,663,875</td>\n",
       "      <td>20</td>\n",
       "      <td>5</td>\n",
       "      <td>2011</td>\n",
       "    </tr>\n",
       "  </tbody>\n",
       "</table>\n",
       "</div>"
      ],
      "text/plain": [
       "  release_date                                        movie production_budget  \\\n",
       "0   2009-12-18                                       Avatar      $425,000,000   \n",
       "1   2011-05-20  Pirates of the Caribbean: On Stranger Tides      $410,600,000   \n",
       "\n",
       "  domestic_gross worldwide_gross  day  month  year  \n",
       "0   $760,507,625  $2,776,345,279   18     12  2009  \n",
       "1   $241,063,875  $1,045,663,875   20      5  2011  "
      ]
     },
     "execution_count": 29,
     "metadata": {},
     "output_type": "execute_result"
    }
   ],
   "source": [
    "# Dropping id column which won't be useful for us\n",
    "df_tn_movie_budgets = df_tn_movie_budgets_csv.drop(\"id\", axis=1)\n",
    "\n",
    "# Expanding release_date column\n",
    "df_tn_movie_budgets['release_date'] = pd.to_datetime(df_tn_movie_budgets['release_date'])\n",
    "\n",
    "df_tn_movie_budgets['day'] = df_tn_movie_budgets['release_date'].dt.day\n",
    "df_tn_movie_budgets['month'] = df_tn_movie_budgets['release_date'].dt.month\n",
    "df_tn_movie_budgets['year'] = df_tn_movie_budgets['release_date'].dt.year\n",
    "\n",
    "df_tn_movie_budgets.head(2)"
   ]
  },
  {
   "cell_type": "code",
   "execution_count": 30,
   "metadata": {},
   "outputs": [],
   "source": [
    "# Convert amounts in string currency to float\n",
    "currency_columns = [\"production_budget\", \"domestic_gross\", \"worldwide_gross\"]\n",
    "\n",
    "for column in currency_columns:\n",
    "    df_tn_movie_budgets[[column]] = df_tn_movie_budgets[[column]].replace('[\\$,]','',regex=True).astype(float)\n"
   ]
  },
  {
   "cell_type": "code",
   "execution_count": 31,
   "metadata": {},
   "outputs": [
    {
     "name": "stdout",
     "output_type": "stream",
     "text": [
      "<class 'pandas.core.frame.DataFrame'>\n",
      "RangeIndex: 5782 entries, 0 to 5781\n",
      "Data columns (total 8 columns):\n",
      "release_date         5782 non-null datetime64[ns]\n",
      "movie                5782 non-null object\n",
      "production_budget    5782 non-null float64\n",
      "domestic_gross       5782 non-null float64\n",
      "worldwide_gross      5782 non-null float64\n",
      "day                  5782 non-null int64\n",
      "month                5782 non-null int64\n",
      "year                 5782 non-null int64\n",
      "dtypes: datetime64[ns](1), float64(3), int64(3), object(1)\n",
      "memory usage: 361.5+ KB\n"
     ]
    },
    {
     "data": {
      "text/html": [
       "<div>\n",
       "<style scoped>\n",
       "    .dataframe tbody tr th:only-of-type {\n",
       "        vertical-align: middle;\n",
       "    }\n",
       "\n",
       "    .dataframe tbody tr th {\n",
       "        vertical-align: top;\n",
       "    }\n",
       "\n",
       "    .dataframe thead th {\n",
       "        text-align: right;\n",
       "    }\n",
       "</style>\n",
       "<table border=\"1\" class=\"dataframe\">\n",
       "  <thead>\n",
       "    <tr style=\"text-align: right;\">\n",
       "      <th></th>\n",
       "      <th>release_date</th>\n",
       "      <th>movie</th>\n",
       "      <th>production_budget</th>\n",
       "      <th>domestic_gross</th>\n",
       "      <th>worldwide_gross</th>\n",
       "      <th>day</th>\n",
       "      <th>month</th>\n",
       "      <th>year</th>\n",
       "    </tr>\n",
       "  </thead>\n",
       "  <tbody>\n",
       "    <tr>\n",
       "      <th>0</th>\n",
       "      <td>2009-12-18</td>\n",
       "      <td>Avatar</td>\n",
       "      <td>425000000.0</td>\n",
       "      <td>760507625.0</td>\n",
       "      <td>2.776345e+09</td>\n",
       "      <td>18</td>\n",
       "      <td>12</td>\n",
       "      <td>2009</td>\n",
       "    </tr>\n",
       "    <tr>\n",
       "      <th>1</th>\n",
       "      <td>2011-05-20</td>\n",
       "      <td>Pirates of the Caribbean: On Stranger Tides</td>\n",
       "      <td>410600000.0</td>\n",
       "      <td>241063875.0</td>\n",
       "      <td>1.045664e+09</td>\n",
       "      <td>20</td>\n",
       "      <td>5</td>\n",
       "      <td>2011</td>\n",
       "    </tr>\n",
       "  </tbody>\n",
       "</table>\n",
       "</div>"
      ],
      "text/plain": [
       "  release_date                                        movie  \\\n",
       "0   2009-12-18                                       Avatar   \n",
       "1   2011-05-20  Pirates of the Caribbean: On Stranger Tides   \n",
       "\n",
       "   production_budget  domestic_gross  worldwide_gross  day  month  year  \n",
       "0        425000000.0     760507625.0     2.776345e+09   18     12  2009  \n",
       "1        410600000.0     241063875.0     1.045664e+09   20      5  2011  "
      ]
     },
     "execution_count": 31,
     "metadata": {},
     "output_type": "execute_result"
    }
   ],
   "source": [
    "# Double check changes\n",
    "df_tn_movie_budgets.info()\n",
    "df_tn_movie_budgets.head(2)"
   ]
  },
  {
   "cell_type": "code",
   "execution_count": 32,
   "metadata": {},
   "outputs": [
    {
     "name": "stdout",
     "output_type": "stream",
     "text": [
      "<class 'pandas.core.frame.DataFrame'>\n",
      "RangeIndex: 5782 entries, 0 to 5781\n",
      "Data columns (total 8 columns):\n",
      "release_date         5782 non-null datetime64[ns]\n",
      "movie                5782 non-null object\n",
      "production_budget    5782 non-null float64\n",
      "domestic_gross       5782 non-null float64\n",
      "worldwide_gross      5782 non-null float64\n",
      "day                  5782 non-null int64\n",
      "month                5782 non-null int64\n",
      "year                 5782 non-null int64\n",
      "dtypes: datetime64[ns](1), float64(3), int64(3), object(1)\n",
      "memory usage: 361.5+ KB\n"
     ]
    }
   ],
   "source": [
    "df_tn_movie_budgets.info()"
   ]
  },
  {
   "cell_type": "code",
   "execution_count": 33,
   "metadata": {
    "scrolled": true
   },
   "outputs": [
    {
     "name": "stdout",
     "output_type": "stream",
     "text": [
      "2047     1\n",
      "5448     1\n",
      "3371     1\n",
      "13612    1\n",
      "15661    1\n",
      "        ..\n",
      "12979    1\n",
      "2740     1\n",
      "693      1\n",
      "6838     1\n",
      "0        1\n",
      "Name: Unnamed: 0, Length: 26517, dtype: int64\n",
      "[99]                        3700\n",
      "[]                          2479\n",
      "[18]                        2268\n",
      "[35]                        1660\n",
      "[27]                        1145\n",
      "                            ... \n",
      "[28, 12, 16, 878, 10752]       1\n",
      "[28, 14, 27, 18]               1\n",
      "[16, 12, 18, 10751, 878]       1\n",
      "[16, 28, 35, 9648]             1\n",
      "[53, 35, 27, 18, 9648]         1\n",
      "Name: genre_ids, Length: 2477, dtype: int64\n",
      "292086    3\n",
      "463839    3\n",
      "11976     3\n",
      "391872    3\n",
      "416572    3\n",
      "         ..\n",
      "356987    1\n",
      "350846    1\n",
      "479871    1\n",
      "500353    1\n",
      "524288    1\n",
      "Name: id, Length: 25497, dtype: int64\n",
      "en    23291\n",
      "fr      507\n",
      "es      455\n",
      "ru      298\n",
      "ja      265\n",
      "      ...  \n",
      "ps        1\n",
      "sw        1\n",
      "bo        1\n",
      "nb        1\n",
      "si        1\n",
      "Name: original_language, Length: 76, dtype: int64\n",
      "Eden                               7\n",
      "Home                               6\n",
      "Truth or Dare                      5\n",
      "Aftermath                          5\n",
      "Lucky                              5\n",
      "                                  ..\n",
      "The Mistake                        1\n",
      "Jodi Arias: Dirty Little Secret    1\n",
      "Cut/Print                          1\n",
      "So You Said Yes                    1\n",
      "How to Change the World            1\n",
      "Name: original_title, Length: 24835, dtype: int64\n",
      "0.600     7037\n",
      "1.400      649\n",
      "0.840      587\n",
      "0.624      104\n",
      "0.625       92\n",
      "          ... \n",
      "3.742        1\n",
      "14.749       1\n",
      "7.924        1\n",
      "8.414        1\n",
      "9.060        1\n",
      "Name: popularity, Length: 7425, dtype: int64\n",
      "2010-01-01    269\n",
      "2011-01-01    200\n",
      "2012-01-01    155\n",
      "2014-01-01    155\n",
      "2013-01-01    145\n",
      "             ... \n",
      "2015-09-22      1\n",
      "1999-10-01      1\n",
      "2015-12-22      1\n",
      "2017-11-06      1\n",
      "2010-03-25      1\n",
      "Name: release_date, Length: 3433, dtype: int64\n",
      "Eden                                 7\n",
      "Home                                 7\n",
      "Truth or Dare                        5\n",
      "The Box                              5\n",
      "Aftermath                            5\n",
      "                                    ..\n",
      "Gang of Roses 2: Next Generation     1\n",
      "Al Madrigal: Shrimpin' Ain't Easy    1\n",
      "Bad Building                         1\n",
      "Mojin: The Lost Legend               1\n",
      "How to Change the World              1\n",
      "Name: title, Length: 24688, dtype: int64\n",
      "6.0     1940\n",
      "7.0     1560\n",
      "5.0     1486\n",
      "10.0    1252\n",
      "8.0     1231\n",
      "        ... \n",
      "9.4        6\n",
      "1.2        3\n",
      "1.4        3\n",
      "9.1        2\n",
      "9.7        2\n",
      "Name: vote_average, Length: 91, dtype: int64\n",
      "1       6541\n",
      "2       3044\n",
      "3       1757\n",
      "4       1347\n",
      "5        969\n",
      "        ... \n",
      "2328       1\n",
      "6538       1\n",
      "489        1\n",
      "2600       1\n",
      "2049       1\n",
      "Name: vote_count, Length: 1693, dtype: int64\n",
      "<class 'pandas.core.frame.DataFrame'>\n",
      "RangeIndex: 26517 entries, 0 to 26516\n",
      "Data columns (total 10 columns):\n",
      "Unnamed: 0           26517 non-null int64\n",
      "genre_ids            26517 non-null object\n",
      "id                   26517 non-null int64\n",
      "original_language    26517 non-null object\n",
      "original_title       26517 non-null object\n",
      "popularity           26517 non-null float64\n",
      "release_date         26517 non-null object\n",
      "title                26517 non-null object\n",
      "vote_average         26517 non-null float64\n",
      "vote_count           26517 non-null int64\n",
      "dtypes: float64(2), int64(3), object(5)\n",
      "memory usage: 2.0+ MB\n"
     ]
    }
   ],
   "source": [
    "for column in df_tmdb_movies_csv.columns:\n",
    "    print(df_tmdb_movies_csv[column].value_counts())\n",
    "    \n",
    "df_tmdb_movies_csv.info()\n"
   ]
  },
  {
   "cell_type": "code",
   "execution_count": 34,
   "metadata": {
    "scrolled": false
   },
   "outputs": [
    {
     "name": "stdout",
     "output_type": "stream",
     "text": [
      "<class 'pandas.core.frame.DataFrame'>\n",
      "Int64Index: 23291 entries, 0 to 26516\n",
      "Data columns (total 10 columns):\n",
      "id                   23291 non-null int64\n",
      "original_language    23291 non-null object\n",
      "original_title       23291 non-null object\n",
      "release_date         23291 non-null datetime64[ns]\n",
      "title                23291 non-null object\n",
      "vote_average         23291 non-null float64\n",
      "vote_count           23291 non-null int64\n",
      "day                  23291 non-null int64\n",
      "month                23291 non-null int64\n",
      "year                 23291 non-null int64\n",
      "dtypes: datetime64[ns](1), float64(1), int64(5), object(3)\n",
      "memory usage: 2.0+ MB\n"
     ]
    },
    {
     "data": {
      "text/html": [
       "<div>\n",
       "<style scoped>\n",
       "    .dataframe tbody tr th:only-of-type {\n",
       "        vertical-align: middle;\n",
       "    }\n",
       "\n",
       "    .dataframe tbody tr th {\n",
       "        vertical-align: top;\n",
       "    }\n",
       "\n",
       "    .dataframe thead th {\n",
       "        text-align: right;\n",
       "    }\n",
       "</style>\n",
       "<table border=\"1\" class=\"dataframe\">\n",
       "  <thead>\n",
       "    <tr style=\"text-align: right;\">\n",
       "      <th></th>\n",
       "      <th>id</th>\n",
       "      <th>original_language</th>\n",
       "      <th>original_title</th>\n",
       "      <th>release_date</th>\n",
       "      <th>title</th>\n",
       "      <th>vote_average</th>\n",
       "      <th>vote_count</th>\n",
       "      <th>day</th>\n",
       "      <th>month</th>\n",
       "      <th>year</th>\n",
       "    </tr>\n",
       "  </thead>\n",
       "  <tbody>\n",
       "    <tr>\n",
       "      <th>0</th>\n",
       "      <td>12444</td>\n",
       "      <td>en</td>\n",
       "      <td>Harry Potter and the Deathly Hallows: Part 1</td>\n",
       "      <td>2010-11-19</td>\n",
       "      <td>Harry Potter and the Deathly Hallows: Part 1</td>\n",
       "      <td>7.7</td>\n",
       "      <td>10788</td>\n",
       "      <td>19</td>\n",
       "      <td>11</td>\n",
       "      <td>2010</td>\n",
       "    </tr>\n",
       "    <tr>\n",
       "      <th>1</th>\n",
       "      <td>10191</td>\n",
       "      <td>en</td>\n",
       "      <td>How to Train Your Dragon</td>\n",
       "      <td>2010-03-26</td>\n",
       "      <td>How to Train Your Dragon</td>\n",
       "      <td>7.7</td>\n",
       "      <td>7610</td>\n",
       "      <td>26</td>\n",
       "      <td>3</td>\n",
       "      <td>2010</td>\n",
       "    </tr>\n",
       "  </tbody>\n",
       "</table>\n",
       "</div>"
      ],
      "text/plain": [
       "      id original_language                                original_title  \\\n",
       "0  12444                en  Harry Potter and the Deathly Hallows: Part 1   \n",
       "1  10191                en                      How to Train Your Dragon   \n",
       "\n",
       "  release_date                                         title  vote_average  \\\n",
       "0   2010-11-19  Harry Potter and the Deathly Hallows: Part 1           7.7   \n",
       "1   2010-03-26                      How to Train Your Dragon           7.7   \n",
       "\n",
       "   vote_count  day  month  year  \n",
       "0       10788   19     11  2010  \n",
       "1        7610   26      3  2010  "
      ]
     },
     "execution_count": 34,
     "metadata": {},
     "output_type": "execute_result"
    }
   ],
   "source": [
    "# First let's drop the columns we won't need, \n",
    "# and let's keep titles in english for ease of comparison\n",
    "df_tmdb_movies = df_tmdb_movies_csv.drop([\"Unnamed: 0\",\"genre_ids\",\"popularity\"], axis=1)\n",
    "\n",
    "df_tmdb_movies = df_tmdb_movies.loc[df_tmdb_movies.original_language =='en']\n",
    "\n",
    "# Then let's expand on the release date into three columns, one for day, month and year \n",
    "# for ease of visualization\n",
    "df_tmdb_movies['release_date'] = pd.to_datetime(df_tmdb_movies['release_date'])\n",
    "\n",
    "df_tmdb_movies['day'] = df_tmdb_movies['release_date'].dt.day\n",
    "df_tmdb_movies['month'] = df_tmdb_movies['release_date'].dt.month\n",
    "df_tmdb_movies['year'] = df_tmdb_movies['release_date'].dt.year\n",
    "\n",
    "\n",
    "df_tmdb_movies.info()\n",
    "\n",
    "df_tmdb_movies.head(2)"
   ]
  },
  {
   "cell_type": "code",
   "execution_count": 35,
   "metadata": {
    "scrolled": true
   },
   "outputs": [
    {
     "name": "stdout",
     "output_type": "stream",
     "text": [
      "2000    1\n",
      "697     1\n",
      "673     1\n",
      "674     1\n",
      "675     1\n",
      "       ..\n",
      "1347    1\n",
      "1349    1\n",
      "1350    1\n",
      "1351    1\n",
      "1       1\n",
      "Name: id, Length: 1560, dtype: int64\n",
      "A group of air crash survivors are stranded in the Mongolian desert with no chance of rescue. Facing a brutal environment, dwindling resources, and an attack by desert smugglers, they realize their only hope is doing the \"impossible\"--building a new plane from the wreckage.                                                                                                                                                                                                                                                                                                                                                                                                                                                                                                                                                                                                                                                                                                                                                                                                                                                                                                                                                                                                                                                                                                                                                                                                                                                                                                                                                                                       2\n",
      "Director Joe Johnston takes over the creative reins from Steven Spielberg for this third installment in the thriller franchise. Sam Neill returns as Dr. Alan Grant, a scientist who's tricked by wealthy couple Paul and Amanda Kirby (William H. Macy and Tea Leoni) into a fly-over of Isla Sorna. The object of their sightseeing tour is one of the Costa Rican islands populated by ferocious, genetically bred dinosaurs and the \"site B\" setting of Jurassic Park 2: The Lost World (1997). After their plane crash-lands, it's revealed that the Kirbys are actually seeking their teenage son, lost on the island after a paragliding accident. Trapped on Isla Sorna, Grant and his companions discover some painful truths the hard way. Among their discoveries: some of the scaly monsters possess more advanced communicative abilities than previously believed, the dreaded Tyrannosaurus Rex has a larger and more lethal competitor, and flying Pteranodons pose an even graver threat than some of their land-locked brethren. Jurassic Park III is the first in the series not to be based upon a novel by original author Michael Crichton.                                                                                                                                                                                                                                                                                                                                                                                                                                                                                                        1\n",
      "Special government agent James West, long on charm and wit, and special government agent Artemus Gordon, a master of disguises and a brilliant inventor of gadgets large and small, are each sent to track down the diabolical genius Dr. Arliss Loveless. Loveless is plotting to assassinate the President of the United States with the aid of his monstrously huge walking weapon-transport vehicle called The Tarantula. West and Gordon begin as competitors but soon pool their talents to become a wily team of operatives who trust each other... most of the time.                                                                                                                                                                                                                                                                                                                                                                                                                                                                                                                                                                                                                                                                                                                                                                                                                                                                                                                                                                                                                                                                                             1\n",
      "Winner of the Grand Jury Prize at the Cannes Film Festival, Nadine Labaki's CAPERNAUM (\"Chaos\") tells the story of Zain (Zain al Rafeea), a Lebanese boy who sues his parents for the \"crime\" of giving him life. CAPERNAUM follows Zain, a gutsy streetwise child as he flees his negligent parents, survives through his wits on the streets, takes care of Ethiopian refugee Rahil (Yordanos Shiferaw) and her baby son, Yonas (Boluwatife Treasure Bankole), being jailed for a crime, and finally, seeks justice in a courtroom. CAPERNAUM was made with a cast of non-professionals playing characters whose lives closely parallel their own. Following her script, Labaki placed her performers in scenes and asked them to react spontaneously with their own words and gestures. When the non-actors's instincts diverged from the written script, Labaki adapted the screenplay to follow them. While steeped in the quiet routines of ordinary people, CAPERNAUM is a film with an expansive palette: without warning it can ignite with emotional intensity, surprise with unexpected tenderness, and inspire with flashes of poetic imagery. Although it is set in the depths of a society's systematic inhumanity, CAPERNAUM is ultimately a hopeful film that stirs the heart as deeply as it cries out for action.                                                                                                                                                                                                                                                                                                                                      1\n",
      "Elvis plays a rock &amp; roll singer who becomes an auto racer in this tuneful adventure. When not singing and driving, he is tangling with oodles of pretty girls.                                                                                                                                                                                                                                                                                                                                                                                                                                                                                                                                                                                                                                                                                                                                                                                                                                                                                                                                                                                                                                                                                                                                                                                                                                                                                                                                                                                                                                                                                                      1\n",
      "                                                                                                                                                                                                                                                                                                                                                                                                                                                                                                                                                                                                                                                                                                                                                                                                                                                                                                                                                                                                                                                                                                                                                                                                                                                                                                                                                                                                                                                                                                                                                                                                                                                                        ..\n",
      "\"Inherent Vice,\" is the seventh feature from Paul Thomas Anderson and the first ever film adaption of a Thomas Pynchon novel. When private eye Doc Sportello's ex-old lady suddenly out of nowhere shows up with a story about her current billionaire land developer boyfriend whom she just happens to be in love with, and a plot by his wife and her boyfriend to kidnap that billionaire and throw him in a looney bin...well, easy for her to say. It's the tail end of the psychedelic                                                                                                                                                                                                                                                                                                                                                                                                                                                                                                                                                                                                                                                                                                                                                                                                                                                                                                                                                                                                                                                                                                                                                                            1\n",
      "Zachary Scott made his screen debut in this clever bit of film noir that has gained a cult reputation in recent years. Dutch mystery novelist Cornelius Leyden (Peter Lorre) is travelling through Istanbul when he meets Col. Haki (Kurt Katch), head of the secret police and a big fan of Leyden's work. He offers to tell Leyden about Dimitrios Makropoulos (Zachary Scott), a notorious criminal whose body was just found washed up on the beach. It seems that Makropoulos was involved in nearly every sort of lawless act imaginable, from murder and blackmail to espionage and political assassination. Fascinated, Leyden decides that Makropoulos would be a fine subject for his next book, and he begins researching his life, beginning with Haki's dossier on the criminal. Leyden's research takes him through much of Europe; while en route by rail to Sofia, he meets a large man with an ingratiating chuckle, Mr. Peters (Sydney Greenstreet), who informs Leyden that \"There is not enough kindness in the world,\" and tells him of a good hotel in town. Grateful for the advice, Leyden checks in, only to later find Peters ransacking his room and holding him at gunpoint; it seems that Peters had business with Makropoulos, and he isn't entirely convinced that the master criminal is dead -- especially since his body was found with shabby clothes and no money, and the police in Istanbul had never actually seen a photo of Makropoulos. Based on a novel by Eric Ambler, The Mask of Dimitrios also features Faye Emerson, who was in the news at the time, as she had just wed the son of President Franklin D. Roosevelt.    1\n",
      "A straight-arrow accountant hits it off with a wild, highly adventurous woman, and together they impulsively embark upon an unpredictable journey. A modern take on a screwball comedy with dramatic overtones, the film follows the mismatched couple as they find themselves in deeper trouble than either of them ever expected.                                                                                                                                                                                                                                                                                                                                                                                                                                                                                                                                                                                                                                                                                                                                                                                                                                                                                                                                                                                                                                                                                                                                                                                                                                                                                                                                      1\n",
      "In this taut, creepy melodrama, a housemaid works as the companion of an aging, retired British actress. One day the maid (Ida Lupino) is visited by her two looney half sisters. The actress finds the slightly mad sisters intolerable and demands that they leave. Unfortunately, the maid realizes that if the sisters are sent away they will end up involuntarily committed to an insane asylum and so the maid kills the actress and lets the sisters stay. Things go well until a suspicious relative shows up and starts to investigate. Nominated for Oscars for Best Interior Decoration and Best Score, Ladies in Retirement is based upon a stage play that was in turn based upon the true story from 1886.                                                                                                                                                                                                                                                                                                                                                                                                                                                                                                                                                                                                                                                                                                                                                                                                                                                                                                                                                1\n",
      "Niels Arden Oplev, the acclaimed director of the original The Girl with the Dragon Tattoo, makes his American theatrical debut with the new action thriller, DEAD MAN DOWN. Colin Farrell and Noomi Rapace star as two strangers who are irresistibly drawn to one another by their mutual desire for revenge. The film co-stars Academy Award (R) nominee Terrence Howard and Dominic Cooper, from a screenplay by J.H.Wyman (Fringe). (c) Film District                                                                                                                                                                                                                                                                                                                                                                                                                                                                                                                                                                                                                                                                                                                                                                                                                                                                                                                                                                                                                                                                                                                                                                                                                1\n",
      "Name: synopsis, Length: 1497, dtype: int64\n",
      "R        521\n",
      "NR       503\n",
      "PG       240\n",
      "PG-13    235\n",
      "G         57\n",
      "NC17       1\n",
      "Name: rating, dtype: int64\n",
      "Drama                                                               151\n",
      "Comedy                                                              110\n",
      "Comedy|Drama                                                         80\n",
      "Drama|Mystery and Suspense                                           67\n",
      "Art House and International|Drama                                    62\n",
      "                                                                   ... \n",
      "Classics|Horror|Mystery and Suspense|Science Fiction and Fantasy      1\n",
      "Classics|Mystery and Suspense                                         1\n",
      "Drama|Kids and Family|Faith and Spirituality                          1\n",
      "Action and Adventure|Classics|Horror                                  1\n",
      "Animation|Documentary|Drama                                           1\n",
      "Name: genre, Length: 299, dtype: int64\n"
     ]
    },
    {
     "name": "stdout",
     "output_type": "stream",
     "text": [
      "Steven Spielberg    10\n",
      "Clint Eastwood       8\n",
      "Woody Allen          4\n",
      "Jim Jarmusch         4\n",
      "Yimou Zhang          4\n",
      "                    ..\n",
      "Peter Landesman      1\n",
      "Nicholas Stoller     1\n",
      "Brian Hecker         1\n",
      "Rose Troche          1\n",
      "Peque Gallaga        1\n",
      "Name: director, Length: 1125, dtype: int64\n",
      "Woody Allen                       4\n",
      "John Hughes                       3\n",
      "Jim Jarmusch                      3\n",
      "Sylvester Stallone                3\n",
      "Hong Sang-soo                     3\n",
      "                                 ..\n",
      "Harold Pinter                     1\n",
      "Sergio Sollima|Sergio Donati      1\n",
      "Jean-Luc Godard                   1\n",
      "Pauly Shore|Kirk Fox              1\n",
      "Jonathan Bernstein|James Greer    1\n",
      "Name: writer, Length: 1069, dtype: int64\n",
      "Jan 1, 1987     8\n",
      "Jan 1, 1994     5\n",
      "Jan 1, 1973     4\n",
      "Jun 1, 1994     4\n",
      "Jun 1, 1990     4\n",
      "               ..\n",
      "Apr 16, 2010    1\n",
      "May 30, 2003    1\n",
      "Jan 12, 2018    1\n",
      "Mar 19, 1993    1\n",
      "Nov 7, 2008     1\n",
      "Name: theater_date, Length: 1025, dtype: int64\n",
      "Jun 1, 2004     11\n",
      "Nov 6, 2001      7\n",
      "Sep 3, 2002      7\n",
      "Mar 8, 2005      6\n",
      "Sep 2, 2003      6\n",
      "                ..\n",
      "Mar 22, 2005     1\n",
      "Jun 29, 1999     1\n",
      "Sep 12, 2011     1\n",
      "Nov 9, 1999      1\n",
      "Jun 26, 1997     1\n",
      "Name: dvd_date, Length: 717, dtype: int64\n",
      "$    340\n",
      "Name: currency, dtype: int64\n",
      "200,000       2\n",
      "600,000       2\n",
      "20,900,803    2\n",
      "32,000,000    2\n",
      "3,200,000     1\n",
      "             ..\n",
      "14,244,145    1\n",
      "90,672,025    1\n",
      "5,051,927     1\n",
      "44,667,095    1\n",
      "26,800,000    1\n",
      "Name: box_office, Length: 336, dtype: int64\n",
      "90 minutes     72\n",
      "95 minutes     66\n",
      "100 minutes    51\n",
      "93 minutes     47\n",
      "96 minutes     43\n",
      "               ..\n",
      "166 minutes     1\n",
      "154 minutes     1\n",
      "6 minutes       1\n",
      "54 minutes      1\n",
      "7 minutes       1\n",
      "Name: runtime, Length: 142, dtype: int64\n",
      "Universal Pictures          35\n",
      "Paramount Pictures          27\n",
      "20th Century Fox            26\n",
      "Sony Pictures Classics      22\n",
      "Warner Bros. Pictures       21\n",
      "                            ..\n",
      "Artistic License Films       1\n",
      "Buffalo Films                1\n",
      "Cohen Media Group            1\n",
      "New Yorker Films             1\n",
      "Buena Vista Distribution     1\n",
      "Name: studio, Length: 200, dtype: int64\n",
      "<class 'pandas.core.frame.DataFrame'>\n",
      "RangeIndex: 1560 entries, 0 to 1559\n",
      "Data columns (total 12 columns):\n",
      "id              1560 non-null int64\n",
      "synopsis        1498 non-null object\n",
      "rating          1557 non-null object\n",
      "genre           1552 non-null object\n",
      "director        1361 non-null object\n",
      "writer          1111 non-null object\n",
      "theater_date    1201 non-null object\n",
      "dvd_date        1201 non-null object\n",
      "currency        340 non-null object\n",
      "box_office      340 non-null object\n",
      "runtime         1530 non-null object\n",
      "studio          494 non-null object\n",
      "dtypes: int64(1), object(11)\n",
      "memory usage: 146.4+ KB\n"
     ]
    }
   ],
   "source": [
    "for column in df_rt_movie_info_tsv.columns:\n",
    "    print(df_rt_movie_info_tsv[column].value_counts())\n",
    "    \n",
    "df_rt_movie_info_tsv.info()\n"
   ]
  },
  {
   "cell_type": "code",
   "execution_count": 36,
   "metadata": {
    "scrolled": true
   },
   "outputs": [
    {
     "name": "stdout",
     "output_type": "stream",
     "text": [
      "<class 'pandas.core.frame.DataFrame'>\n",
      "Int64Index: 1552 entries, 0 to 1559\n",
      "Data columns (total 8 columns):\n",
      "id              1552 non-null int64\n",
      "genre           1552 non-null object\n",
      "theater_date    1201 non-null datetime64[ns]\n",
      "box_office      340 non-null float64\n",
      "runtime         1526 non-null object\n",
      "day             1201 non-null float64\n",
      "month           1201 non-null float64\n",
      "year            1201 non-null float64\n",
      "dtypes: datetime64[ns](1), float64(4), int64(1), object(2)\n",
      "memory usage: 109.1+ KB\n"
     ]
    },
    {
     "data": {
      "text/html": [
       "<div>\n",
       "<style scoped>\n",
       "    .dataframe tbody tr th:only-of-type {\n",
       "        vertical-align: middle;\n",
       "    }\n",
       "\n",
       "    .dataframe tbody tr th {\n",
       "        vertical-align: top;\n",
       "    }\n",
       "\n",
       "    .dataframe thead th {\n",
       "        text-align: right;\n",
       "    }\n",
       "</style>\n",
       "<table border=\"1\" class=\"dataframe\">\n",
       "  <thead>\n",
       "    <tr style=\"text-align: right;\">\n",
       "      <th></th>\n",
       "      <th>id</th>\n",
       "      <th>genre</th>\n",
       "      <th>theater_date</th>\n",
       "      <th>box_office</th>\n",
       "      <th>runtime</th>\n",
       "      <th>day</th>\n",
       "      <th>month</th>\n",
       "      <th>year</th>\n",
       "    </tr>\n",
       "  </thead>\n",
       "  <tbody>\n",
       "    <tr>\n",
       "      <th>0</th>\n",
       "      <td>1</td>\n",
       "      <td>Action and Adventure|Classics|Drama</td>\n",
       "      <td>1971-10-09</td>\n",
       "      <td>NaN</td>\n",
       "      <td>104 minutes</td>\n",
       "      <td>9.0</td>\n",
       "      <td>10.0</td>\n",
       "      <td>1971.0</td>\n",
       "    </tr>\n",
       "    <tr>\n",
       "      <th>1</th>\n",
       "      <td>3</td>\n",
       "      <td>Drama|Science Fiction and Fantasy</td>\n",
       "      <td>2012-08-17</td>\n",
       "      <td>600000.0</td>\n",
       "      <td>108 minutes</td>\n",
       "      <td>17.0</td>\n",
       "      <td>8.0</td>\n",
       "      <td>2012.0</td>\n",
       "    </tr>\n",
       "  </tbody>\n",
       "</table>\n",
       "</div>"
      ],
      "text/plain": [
       "   id                                genre theater_date  box_office  \\\n",
       "0   1  Action and Adventure|Classics|Drama   1971-10-09         NaN   \n",
       "1   3    Drama|Science Fiction and Fantasy   2012-08-17    600000.0   \n",
       "\n",
       "       runtime   day  month    year  \n",
       "0  104 minutes   9.0   10.0  1971.0  \n",
       "1  108 minutes  17.0    8.0  2012.0  "
      ]
     },
     "execution_count": 36,
     "metadata": {},
     "output_type": "execute_result"
    }
   ],
   "source": [
    "# Here we can drop synopsis, rating, dvd_date among others\n",
    "df_rt_movie_info = df_rt_movie_info_tsv.drop([\"synopsis\",\"rating\",\"director\",\"writer\",\"dvd_date\",\"currency\",\"studio\"], axis=1)\n",
    "\n",
    "# Again let's expand on the theatre date into three columns, one for day, month and year \n",
    "# for ease of visualization\n",
    "\n",
    "df_rt_movie_info[\"theater_date\"] = pd.to_datetime(df_rt_movie_info[\"theater_date\"])\n",
    "\n",
    "df_rt_movie_info['day'] = df_rt_movie_info['theater_date'].dt.day\n",
    "df_rt_movie_info['month'] = df_rt_movie_info['theater_date'].dt.month\n",
    "df_rt_movie_info['year'] = df_rt_movie_info['theater_date'].dt.year\n",
    "\n",
    "# Since the nulls in the genre column constitute less then 1% of the total data\n",
    "# we will drop these rows. It is also important to note that genre is a list, and we \n",
    "# will have to parse these out later.\n",
    "df_rt_movie_info.dropna(subset=[\"genre\"],inplace=True)\n",
    "\n",
    "# Unfortunately, we cannot drop the nulls in the theatre_date and box_office columns, \n",
    "# we will instead keep them as is and make note of these. \n",
    "\n",
    "# Converting box_office to float\n",
    "df_rt_movie_info[\"box_office\"] = df_rt_movie_info[\"box_office\"].str.replace(',', '').astype(float)\n",
    "\n",
    "\n",
    "df_rt_movie_info.info()\n",
    "\n",
    "df_rt_movie_info.head(2)\n"
   ]
  },
  {
   "cell_type": "code",
   "execution_count": 37,
   "metadata": {},
   "outputs": [],
   "source": [
    "# Converting genre column into a list \n",
    "df_rt_movie_info[\"genre\"] = df_rt_movie_info[\"genre\"].str.split(\"|\")\n",
    "df_rt_movie_info_expanded = df_rt_movie_info.copy()\n",
    "\n",
    "\n",
    "# Expand list into rows\n",
    "rows = []\n",
    "_ = df_rt_movie_info_expanded.apply(lambda row: [rows.append([row['id'], nn\n",
    "                                                        , row[\"theater_date\"], row[\"box_office\"] \n",
    "                                                        , row[\"runtime\"], row[\"day\"], row[\"month\"], row[\"year\"]]) \n",
    "                         for nn in row.genre], axis=1)\n",
    "df_rt_movie_info_expanded = pd.DataFrame(rows, columns=df_rt_movie_info_expanded.columns)\n"
   ]
  },
  {
   "cell_type": "code",
   "execution_count": 38,
   "metadata": {},
   "outputs": [
    {
     "data": {
      "text/html": [
       "<div>\n",
       "<style scoped>\n",
       "    .dataframe tbody tr th:only-of-type {\n",
       "        vertical-align: middle;\n",
       "    }\n",
       "\n",
       "    .dataframe tbody tr th {\n",
       "        vertical-align: top;\n",
       "    }\n",
       "\n",
       "    .dataframe thead th {\n",
       "        text-align: right;\n",
       "    }\n",
       "</style>\n",
       "<table border=\"1\" class=\"dataframe\">\n",
       "  <thead>\n",
       "    <tr style=\"text-align: right;\">\n",
       "      <th></th>\n",
       "      <th>id</th>\n",
       "      <th>genre</th>\n",
       "      <th>theater_date</th>\n",
       "      <th>box_office</th>\n",
       "      <th>runtime</th>\n",
       "      <th>day</th>\n",
       "      <th>month</th>\n",
       "      <th>year</th>\n",
       "    </tr>\n",
       "  </thead>\n",
       "  <tbody>\n",
       "    <tr>\n",
       "      <th>0</th>\n",
       "      <td>1</td>\n",
       "      <td>[Action and Adventure, Classics, Drama]</td>\n",
       "      <td>1971-10-09</td>\n",
       "      <td>NaN</td>\n",
       "      <td>104 minutes</td>\n",
       "      <td>9.0</td>\n",
       "      <td>10.0</td>\n",
       "      <td>1971.0</td>\n",
       "    </tr>\n",
       "    <tr>\n",
       "      <th>1</th>\n",
       "      <td>3</td>\n",
       "      <td>[Drama, Science Fiction and Fantasy]</td>\n",
       "      <td>2012-08-17</td>\n",
       "      <td>600000.0</td>\n",
       "      <td>108 minutes</td>\n",
       "      <td>17.0</td>\n",
       "      <td>8.0</td>\n",
       "      <td>2012.0</td>\n",
       "    </tr>\n",
       "  </tbody>\n",
       "</table>\n",
       "</div>"
      ],
      "text/plain": [
       "   id                                    genre theater_date  box_office  \\\n",
       "0   1  [Action and Adventure, Classics, Drama]   1971-10-09         NaN   \n",
       "1   3     [Drama, Science Fiction and Fantasy]   2012-08-17    600000.0   \n",
       "\n",
       "       runtime   day  month    year  \n",
       "0  104 minutes   9.0   10.0  1971.0  \n",
       "1  108 minutes  17.0    8.0  2012.0  "
      ]
     },
     "execution_count": 38,
     "metadata": {},
     "output_type": "execute_result"
    }
   ],
   "source": [
    "df_rt_movie_info.head(2)"
   ]
  },
  {
   "cell_type": "code",
   "execution_count": 39,
   "metadata": {},
   "outputs": [
    {
     "data": {
      "text/html": [
       "<div>\n",
       "<style scoped>\n",
       "    .dataframe tbody tr th:only-of-type {\n",
       "        vertical-align: middle;\n",
       "    }\n",
       "\n",
       "    .dataframe tbody tr th {\n",
       "        vertical-align: top;\n",
       "    }\n",
       "\n",
       "    .dataframe thead th {\n",
       "        text-align: right;\n",
       "    }\n",
       "</style>\n",
       "<table border=\"1\" class=\"dataframe\">\n",
       "  <thead>\n",
       "    <tr style=\"text-align: right;\">\n",
       "      <th></th>\n",
       "      <th>id</th>\n",
       "      <th>genre</th>\n",
       "      <th>theater_date</th>\n",
       "      <th>box_office</th>\n",
       "      <th>runtime</th>\n",
       "      <th>day</th>\n",
       "      <th>month</th>\n",
       "      <th>year</th>\n",
       "    </tr>\n",
       "  </thead>\n",
       "  <tbody>\n",
       "    <tr>\n",
       "      <th>0</th>\n",
       "      <td>1</td>\n",
       "      <td>Action and Adventure</td>\n",
       "      <td>1971-10-09</td>\n",
       "      <td>NaN</td>\n",
       "      <td>104 minutes</td>\n",
       "      <td>9.0</td>\n",
       "      <td>10.0</td>\n",
       "      <td>1971.0</td>\n",
       "    </tr>\n",
       "    <tr>\n",
       "      <th>1</th>\n",
       "      <td>1</td>\n",
       "      <td>Classics</td>\n",
       "      <td>1971-10-09</td>\n",
       "      <td>NaN</td>\n",
       "      <td>104 minutes</td>\n",
       "      <td>9.0</td>\n",
       "      <td>10.0</td>\n",
       "      <td>1971.0</td>\n",
       "    </tr>\n",
       "  </tbody>\n",
       "</table>\n",
       "</div>"
      ],
      "text/plain": [
       "   id                 genre theater_date  box_office      runtime  day  month  \\\n",
       "0   1  Action and Adventure   1971-10-09         NaN  104 minutes  9.0   10.0   \n",
       "1   1              Classics   1971-10-09         NaN  104 minutes  9.0   10.0   \n",
       "\n",
       "     year  \n",
       "0  1971.0  \n",
       "1  1971.0  "
      ]
     },
     "execution_count": 39,
     "metadata": {},
     "output_type": "execute_result"
    }
   ],
   "source": [
    "df_rt_movie_info_expanded.head(2)"
   ]
  },
  {
   "cell_type": "code",
   "execution_count": 40,
   "metadata": {
    "scrolled": true
   },
   "outputs": [
    {
     "name": "stdout",
     "output_type": "stream",
     "text": [
      "782     338\n",
      "1067    275\n",
      "1525    262\n",
      "1777    260\n",
      "1083    260\n",
      "       ... \n",
      "28        1\n",
      "102       1\n",
      "348       1\n",
      "476       1\n",
      "1727      1\n",
      "Name: id, Length: 1135, dtype: int64\n",
      "Parental Content Review                                                                                                                                        24\n",
      "full review at Movies for the Masses                                                                                                                           15\n",
      "full review in Greek                                                                                                                                            9\n",
      "Click to read review                                                                                                                                            3\n",
      "click to read the full review                                                                                                                                   3\n",
      "                                                                                                                                                               ..\n",
      "Geisha offers a colorful glimpse that is as alien to most Western audiences as the dark side of the moon.                                                       1\n",
      "It's so accurate that it's barely parody.                                                                                                                       1\n",
      "Call Me by Your Name an ode to love and its precipices... [Full review in Spanish]                                                                              1\n",
      "This movie is two hours of Jones acting badly and Wuhl looking drawn.                                                                                           1\n",
      "Moody, involving and endlessly inventive, Treasure Planet lacks only the element of delight, of joyfulness that marks the very best animation has to offer.     1\n",
      "Name: review, Length: 48682, dtype: int64\n",
      "3/5       4327\n",
      "4/5       3672\n",
      "3/4       3577\n",
      "2/5       3160\n",
      "2/4       2712\n",
      "          ... \n",
      "2.3/10       1\n",
      "6.2/10       1\n",
      "2.3/4        1\n",
      "3.0/10       1\n",
      "1.8          1\n",
      "Name: rating, Length: 186, dtype: int64\n",
      "fresh     33035\n",
      "rotten    21397\n",
      "Name: fresh, dtype: int64\n",
      "Emanuel Levy          595\n",
      "Roger Ebert           461\n",
      "Dennis Schwartz       413\n",
      "Nell Minow            372\n",
      "James Berardinelli    348\n",
      "                     ... \n",
      "Rohit Vats              1\n",
      "Joi Childs              1\n",
      "Leah Garchik            1\n",
      "John Rico               1\n",
      "Joan Anderman           1\n",
      "Name: critic, Length: 3496, dtype: int64\n",
      "0    41336\n",
      "1    13096\n",
      "Name: top_critic, dtype: int64\n",
      "eFilmCritic.com         673\n",
      "EmanuelLevy.Com         591\n",
      "New York Times          590\n",
      "Washington Post         565\n",
      "Entertainment Weekly    541\n",
      "                       ... \n",
      "Richmond Post             1\n",
      "CineGods.com              1\n",
      "Screen Queens             1\n",
      "Reuters                   1\n",
      "Fresh and Frowsy          1\n",
      "Name: publisher, Length: 1281, dtype: int64\n",
      "January 1, 2000      4303\n",
      "May 20, 2003          202\n",
      "December 6, 2005      181\n",
      "September 7, 2011     124\n",
      "July 26, 2002         121\n",
      "                     ... \n",
      "October 12, 2008        1\n",
      "May 28, 2008            1\n",
      "June 16, 2011           1\n",
      "October 2, 2013         1\n",
      "October 18, 2003        1\n",
      "Name: date, Length: 5963, dtype: int64\n",
      "<class 'pandas.core.frame.DataFrame'>\n",
      "RangeIndex: 54432 entries, 0 to 54431\n",
      "Data columns (total 8 columns):\n",
      "id            54432 non-null int64\n",
      "review        48869 non-null object\n",
      "rating        40915 non-null object\n",
      "fresh         54432 non-null object\n",
      "critic        51710 non-null object\n",
      "top_critic    54432 non-null int64\n",
      "publisher     54123 non-null object\n",
      "date          54432 non-null object\n",
      "dtypes: int64(2), object(6)\n",
      "memory usage: 3.3+ MB\n"
     ]
    }
   ],
   "source": [
    "for column in df_rt_reviews_tsv.columns:\n",
    "    print(df_rt_reviews_tsv[column].value_counts())\n",
    "    \n",
    "df_rt_reviews_tsv.info()"
   ]
  },
  {
   "cell_type": "code",
   "execution_count": 41,
   "metadata": {},
   "outputs": [],
   "source": [
    "# Keeping only relevant columns\n",
    "df_rt_reviews = df_rt_reviews_tsv[[\"id\",\"rating\",\"top_critic\"]].copy()\n",
    "\n",
    "# Dropping nans from rating, since it is our main interest, regardless that\n",
    "# these rows constitute ~25% of the data in the df. \n",
    "df_rt_reviews.dropna(subset=[\"rating\"], inplace=True)\n",
    "\n",
    "# df_rt_reviews[\"rating\"] = df_rt_reviews[\"rating\"].astype(float)\n",
    "\n",
    "\n",
    "\n",
    "# Standardizing rating scores\n",
    "# df_rt_reviews[\"rating\"] = pd.eval(df_rt_reviews[\"rating\"].fillna(1000))\n"
   ]
  },
  {
   "cell_type": "code",
   "execution_count": 42,
   "metadata": {},
   "outputs": [],
   "source": [
    "to_del = []\n",
    "to_del_dedup = []\n",
    "i = 0\n",
    "\n",
    "# Try to change fraction into decimal if not, set as item to drop from column\n",
    "for row in df_rt_reviews[\"rating\"]:\n",
    "    try:\n",
    "        eval(row)\n",
    "    except Exception:\n",
    "        to_del.append(row)\n",
    "#     else:\n",
    "#         df_rt_reviews[\"rating\"].iloc[i] = (eval(row))\n",
    "#         i+=1\n",
    "        \n",
    "# Dedup list of items to del from column\n",
    "for value in to_del:\n",
    "    if value not in to_del_dedup:\n",
    "        to_del_dedup.append(value)\n"
   ]
  },
  {
   "cell_type": "code",
   "execution_count": 43,
   "metadata": {},
   "outputs": [],
   "source": [
    "df_rt_reviews = df_rt_reviews[~df_rt_reviews['rating'].isin(to_del_dedup)]"
   ]
  },
  {
   "cell_type": "code",
   "execution_count": 44,
   "metadata": {},
   "outputs": [
    {
     "name": "stderr",
     "output_type": "stream",
     "text": [
      "/Users/eduardo_calzadilla/anaconda3/lib/python3.6/site-packages/pandas/core/indexing.py:205: SettingWithCopyWarning: \n",
      "A value is trying to be set on a copy of a slice from a DataFrame\n",
      "\n",
      "See the caveats in the documentation: http://pandas.pydata.org/pandas-docs/stable/user_guide/indexing.html#returning-a-view-versus-a-copy\n",
      "  self._setitem_with_indexer(indexer, value)\n"
     ]
    }
   ],
   "source": [
    "i = 0\n",
    "\n",
    "for row in df_rt_reviews[\"rating\"]:\n",
    "    df_rt_reviews[\"rating\"].iloc[i] = (eval(row))\n",
    "    i+=1"
   ]
  },
  {
   "cell_type": "code",
   "execution_count": 45,
   "metadata": {
    "scrolled": true
   },
   "outputs": [],
   "source": [
    "df_rt_reviews[\"rating\"] = df_rt_reviews[\"rating\"].astype(float) # Verify altered column"
   ]
  },
  {
   "cell_type": "code",
   "execution_count": 46,
   "metadata": {
    "scrolled": false
   },
   "outputs": [
    {
     "name": "stdout",
     "output_type": "stream",
     "text": [
      "<class 'pandas.core.frame.DataFrame'>\n",
      "Int64Index: 34446 entries, 0 to 54431\n",
      "Data columns (total 3 columns):\n",
      "id            34446 non-null int64\n",
      "rating        34446 non-null float64\n",
      "top_critic    34446 non-null int64\n",
      "dtypes: float64(1), int64(2)\n",
      "memory usage: 1.1 MB\n"
     ]
    }
   ],
   "source": [
    "df_rt_reviews.info()"
   ]
  },
  {
   "cell_type": "markdown",
   "metadata": {},
   "source": [
    "While we are left with ~63% of the original dataset length, it is safer not to translate the letter grading into an approximately equivalent numerical grading. "
   ]
  },
  {
   "cell_type": "markdown",
   "metadata": {},
   "source": [
    "<a id=\"Tj\"></a>\n",
    "## Joins"
   ]
  },
  {
   "cell_type": "code",
   "execution_count": 47,
   "metadata": {},
   "outputs": [
    {
     "name": "stdout",
     "output_type": "stream",
     "text": [
      "<class 'pandas.core.frame.DataFrame'>\n",
      "RangeIndex: 73856 entries, 0 to 73855\n",
      "Data columns (total 3 columns):\n",
      "tconst           73856 non-null object\n",
      "averagerating    73856 non-null float64\n",
      "numvotes         73856 non-null int64\n",
      "dtypes: float64(1), int64(1), object(1)\n",
      "memory usage: 1.7+ MB\n"
     ]
    }
   ],
   "source": [
    "df_imdb_title_ratings.info()"
   ]
  },
  {
   "cell_type": "code",
   "execution_count": 48,
   "metadata": {},
   "outputs": [
    {
     "name": "stdout",
     "output_type": "stream",
     "text": [
      "<class 'pandas.core.frame.DataFrame'>\n",
      "Int64Index: 140736 entries, 0 to 146143\n",
      "Data columns (total 6 columns):\n",
      "tconst             140736 non-null object\n",
      "primary_title      140736 non-null object\n",
      "original_title     140734 non-null object\n",
      "start_year         140736 non-null int64\n",
      "runtime_minutes    112233 non-null float64\n",
      "genres             140736 non-null object\n",
      "dtypes: float64(1), int64(1), object(4)\n",
      "memory usage: 7.5+ MB\n"
     ]
    }
   ],
   "source": [
    "df_imdb_title_genre.info()"
   ]
  },
  {
   "cell_type": "code",
   "execution_count": 49,
   "metadata": {},
   "outputs": [],
   "source": [
    "# rceating an expanded set for the genre analysis, but keeping a regular set for ROI analysis\n",
    "df_imbd_title_and_ratings = df_imdb_title_ratings.join(df_imdb_title_genre.set_index('tconst'), on='tconst')\n",
    "\n",
    "df_imbd_title_and_ratings_expanded = df_imdb_title_ratings.join(df_imdb_title_genre_expanded.set_index('tconst'), on='tconst')\n"
   ]
  },
  {
   "cell_type": "code",
   "execution_count": 50,
   "metadata": {
    "scrolled": true
   },
   "outputs": [
    {
     "data": {
      "text/html": [
       "<div>\n",
       "<style scoped>\n",
       "    .dataframe tbody tr th:only-of-type {\n",
       "        vertical-align: middle;\n",
       "    }\n",
       "\n",
       "    .dataframe tbody tr th {\n",
       "        vertical-align: top;\n",
       "    }\n",
       "\n",
       "    .dataframe thead th {\n",
       "        text-align: right;\n",
       "    }\n",
       "</style>\n",
       "<table border=\"1\" class=\"dataframe\">\n",
       "  <thead>\n",
       "    <tr style=\"text-align: right;\">\n",
       "      <th></th>\n",
       "      <th>tconst</th>\n",
       "      <th>averagerating</th>\n",
       "      <th>numvotes</th>\n",
       "      <th>primary_title</th>\n",
       "      <th>original_title</th>\n",
       "      <th>start_year</th>\n",
       "      <th>runtime_minutes</th>\n",
       "      <th>genres</th>\n",
       "    </tr>\n",
       "  </thead>\n",
       "  <tbody>\n",
       "    <tr>\n",
       "      <th>0</th>\n",
       "      <td>tt10356526</td>\n",
       "      <td>8.3</td>\n",
       "      <td>31</td>\n",
       "      <td>Laiye Je Yaarian</td>\n",
       "      <td>Laiye Je Yaarian</td>\n",
       "      <td>2019.0</td>\n",
       "      <td>117.0</td>\n",
       "      <td>[Romance]</td>\n",
       "    </tr>\n",
       "    <tr>\n",
       "      <th>1</th>\n",
       "      <td>tt10384606</td>\n",
       "      <td>8.9</td>\n",
       "      <td>559</td>\n",
       "      <td>Borderless</td>\n",
       "      <td>Borderless</td>\n",
       "      <td>2019.0</td>\n",
       "      <td>87.0</td>\n",
       "      <td>[Documentary]</td>\n",
       "    </tr>\n",
       "  </tbody>\n",
       "</table>\n",
       "</div>"
      ],
      "text/plain": [
       "       tconst  averagerating  numvotes     primary_title    original_title  \\\n",
       "0  tt10356526            8.3        31  Laiye Je Yaarian  Laiye Je Yaarian   \n",
       "1  tt10384606            8.9       559        Borderless        Borderless   \n",
       "\n",
       "   start_year  runtime_minutes         genres  \n",
       "0      2019.0            117.0      [Romance]  \n",
       "1      2019.0             87.0  [Documentary]  "
      ]
     },
     "execution_count": 50,
     "metadata": {},
     "output_type": "execute_result"
    }
   ],
   "source": [
    "df_imbd_title_and_ratings.head(2)"
   ]
  },
  {
   "cell_type": "code",
   "execution_count": 51,
   "metadata": {
    "scrolled": true
   },
   "outputs": [
    {
     "name": "stdout",
     "output_type": "stream",
     "text": [
      "<class 'pandas.core.frame.DataFrame'>\n",
      "RangeIndex: 73856 entries, 0 to 73855\n",
      "Data columns (total 8 columns):\n",
      "tconst             73856 non-null object\n",
      "averagerating      73856 non-null float64\n",
      "numvotes           73856 non-null int64\n",
      "primary_title      73052 non-null object\n",
      "original_title     73052 non-null object\n",
      "start_year         73052 non-null float64\n",
      "runtime_minutes    65720 non-null float64\n",
      "genres             73052 non-null object\n",
      "dtypes: float64(3), int64(1), object(4)\n",
      "memory usage: 4.5+ MB\n"
     ]
    }
   ],
   "source": [
    "df_imbd_title_and_ratings.info()"
   ]
  },
  {
   "cell_type": "code",
   "execution_count": 52,
   "metadata": {
    "scrolled": true
   },
   "outputs": [
    {
     "data": {
      "text/html": [
       "<div>\n",
       "<style scoped>\n",
       "    .dataframe tbody tr th:only-of-type {\n",
       "        vertical-align: middle;\n",
       "    }\n",
       "\n",
       "    .dataframe tbody tr th {\n",
       "        vertical-align: top;\n",
       "    }\n",
       "\n",
       "    .dataframe thead th {\n",
       "        text-align: right;\n",
       "    }\n",
       "</style>\n",
       "<table border=\"1\" class=\"dataframe\">\n",
       "  <thead>\n",
       "    <tr style=\"text-align: right;\">\n",
       "      <th></th>\n",
       "      <th>tconst</th>\n",
       "      <th>averagerating</th>\n",
       "      <th>numvotes</th>\n",
       "      <th>primary_title</th>\n",
       "      <th>original_title</th>\n",
       "      <th>start_year</th>\n",
       "      <th>runtime_minutes</th>\n",
       "      <th>genres</th>\n",
       "    </tr>\n",
       "  </thead>\n",
       "  <tbody>\n",
       "    <tr>\n",
       "      <th>0</th>\n",
       "      <td>tt10356526</td>\n",
       "      <td>8.3</td>\n",
       "      <td>31</td>\n",
       "      <td>Laiye Je Yaarian</td>\n",
       "      <td>Laiye Je Yaarian</td>\n",
       "      <td>2019.0</td>\n",
       "      <td>117.0</td>\n",
       "      <td>Romance</td>\n",
       "    </tr>\n",
       "    <tr>\n",
       "      <th>1</th>\n",
       "      <td>tt10384606</td>\n",
       "      <td>8.9</td>\n",
       "      <td>559</td>\n",
       "      <td>Borderless</td>\n",
       "      <td>Borderless</td>\n",
       "      <td>2019.0</td>\n",
       "      <td>87.0</td>\n",
       "      <td>Documentary</td>\n",
       "    </tr>\n",
       "  </tbody>\n",
       "</table>\n",
       "</div>"
      ],
      "text/plain": [
       "       tconst  averagerating  numvotes     primary_title    original_title  \\\n",
       "0  tt10356526            8.3        31  Laiye Je Yaarian  Laiye Je Yaarian   \n",
       "1  tt10384606            8.9       559        Borderless        Borderless   \n",
       "\n",
       "   start_year  runtime_minutes       genres  \n",
       "0      2019.0            117.0      Romance  \n",
       "1      2019.0             87.0  Documentary  "
      ]
     },
     "execution_count": 52,
     "metadata": {},
     "output_type": "execute_result"
    }
   ],
   "source": [
    "df_imbd_title_and_ratings_expanded.head(2)"
   ]
  },
  {
   "cell_type": "code",
   "execution_count": 53,
   "metadata": {},
   "outputs": [
    {
     "name": "stdout",
     "output_type": "stream",
     "text": [
      "<class 'pandas.core.frame.DataFrame'>\n",
      "Int64Index: 129294 entries, 0 to 73855\n",
      "Data columns (total 8 columns):\n",
      "tconst             129294 non-null object\n",
      "averagerating      129294 non-null float64\n",
      "numvotes           129294 non-null int64\n",
      "primary_title      128490 non-null object\n",
      "original_title     128490 non-null object\n",
      "start_year         128490 non-null float64\n",
      "runtime_minutes    118437 non-null float64\n",
      "genres             128490 non-null object\n",
      "dtypes: float64(3), int64(1), object(4)\n",
      "memory usage: 8.9+ MB\n"
     ]
    }
   ],
   "source": [
    "# Here we can see the effect of fanout, which is why this df will only be used for\n",
    "# observing genre relationships\n",
    "df_imbd_title_and_ratings_expanded.info()"
   ]
  },
  {
   "cell_type": "code",
   "execution_count": 54,
   "metadata": {},
   "outputs": [
    {
     "name": "stdout",
     "output_type": "stream",
     "text": [
      "<class 'pandas.core.frame.DataFrame'>\n",
      "RangeIndex: 5782 entries, 0 to 5781\n",
      "Data columns (total 8 columns):\n",
      "release_date         5782 non-null datetime64[ns]\n",
      "movie                5782 non-null object\n",
      "production_budget    5782 non-null float64\n",
      "domestic_gross       5782 non-null float64\n",
      "worldwide_gross      5782 non-null float64\n",
      "day                  5782 non-null int64\n",
      "month                5782 non-null int64\n",
      "year                 5782 non-null int64\n",
      "dtypes: datetime64[ns](1), float64(3), int64(3), object(1)\n",
      "memory usage: 361.5+ KB\n"
     ]
    }
   ],
   "source": [
    "df_tn_movie_budgets.info()"
   ]
  },
  {
   "cell_type": "code",
   "execution_count": 55,
   "metadata": {},
   "outputs": [],
   "source": [
    "# Joining financial and rating\n",
    "df_imbd_fin = df_tn_movie_budgets.join(df_imbd_title_and_ratings.set_index('original_title'), on='movie', how='inner')\n",
    "\n",
    "# Joining financial and rating, genre data \n",
    "df_imbd_fin_expanded = df_tn_movie_budgets.join(df_imbd_title_and_ratings_expanded.set_index('original_title'), on='movie', how='inner')\n"
   ]
  },
  {
   "cell_type": "code",
   "execution_count": 56,
   "metadata": {
    "scrolled": true
   },
   "outputs": [
    {
     "name": "stdout",
     "output_type": "stream",
     "text": [
      "<class 'pandas.core.frame.DataFrame'>\n",
      "Int64Index: 2633 entries, 1 to 5780\n",
      "Data columns (total 15 columns):\n",
      "release_date         2633 non-null datetime64[ns]\n",
      "movie                2633 non-null object\n",
      "production_budget    2633 non-null float64\n",
      "domestic_gross       2633 non-null float64\n",
      "worldwide_gross      2633 non-null float64\n",
      "day                  2633 non-null int64\n",
      "month                2633 non-null int64\n",
      "year                 2633 non-null int64\n",
      "tconst               2633 non-null object\n",
      "averagerating        2633 non-null float64\n",
      "numvotes             2633 non-null int64\n",
      "primary_title        2633 non-null object\n",
      "start_year           2633 non-null float64\n",
      "runtime_minutes      2530 non-null float64\n",
      "genres               2633 non-null object\n",
      "dtypes: datetime64[ns](1), float64(6), int64(4), object(4)\n",
      "memory usage: 329.1+ KB\n"
     ]
    },
    {
     "data": {
      "text/html": [
       "<div>\n",
       "<style scoped>\n",
       "    .dataframe tbody tr th:only-of-type {\n",
       "        vertical-align: middle;\n",
       "    }\n",
       "\n",
       "    .dataframe tbody tr th {\n",
       "        vertical-align: top;\n",
       "    }\n",
       "\n",
       "    .dataframe thead th {\n",
       "        text-align: right;\n",
       "    }\n",
       "</style>\n",
       "<table border=\"1\" class=\"dataframe\">\n",
       "  <thead>\n",
       "    <tr style=\"text-align: right;\">\n",
       "      <th></th>\n",
       "      <th>release_date</th>\n",
       "      <th>movie</th>\n",
       "      <th>production_budget</th>\n",
       "      <th>domestic_gross</th>\n",
       "      <th>worldwide_gross</th>\n",
       "      <th>day</th>\n",
       "      <th>month</th>\n",
       "      <th>year</th>\n",
       "      <th>tconst</th>\n",
       "      <th>averagerating</th>\n",
       "      <th>numvotes</th>\n",
       "      <th>primary_title</th>\n",
       "      <th>start_year</th>\n",
       "      <th>runtime_minutes</th>\n",
       "      <th>genres</th>\n",
       "    </tr>\n",
       "  </thead>\n",
       "  <tbody>\n",
       "    <tr>\n",
       "      <th>1</th>\n",
       "      <td>2011-05-20</td>\n",
       "      <td>Pirates of the Caribbean: On Stranger Tides</td>\n",
       "      <td>410600000.0</td>\n",
       "      <td>241063875.0</td>\n",
       "      <td>1.045664e+09</td>\n",
       "      <td>20</td>\n",
       "      <td>5</td>\n",
       "      <td>2011</td>\n",
       "      <td>tt1298650</td>\n",
       "      <td>6.6</td>\n",
       "      <td>447624</td>\n",
       "      <td>Pirates of the Caribbean: On Stranger Tides</td>\n",
       "      <td>2011.0</td>\n",
       "      <td>136.0</td>\n",
       "      <td>[Action, Adventure, Fantasy]</td>\n",
       "    </tr>\n",
       "    <tr>\n",
       "      <th>2</th>\n",
       "      <td>2019-06-07</td>\n",
       "      <td>Dark Phoenix</td>\n",
       "      <td>350000000.0</td>\n",
       "      <td>42762350.0</td>\n",
       "      <td>1.497624e+08</td>\n",
       "      <td>7</td>\n",
       "      <td>6</td>\n",
       "      <td>2019</td>\n",
       "      <td>tt6565702</td>\n",
       "      <td>6.0</td>\n",
       "      <td>24451</td>\n",
       "      <td>Dark Phoenix</td>\n",
       "      <td>2019.0</td>\n",
       "      <td>113.0</td>\n",
       "      <td>[Action, Adventure, Sci-Fi]</td>\n",
       "    </tr>\n",
       "  </tbody>\n",
       "</table>\n",
       "</div>"
      ],
      "text/plain": [
       "  release_date                                        movie  \\\n",
       "1   2011-05-20  Pirates of the Caribbean: On Stranger Tides   \n",
       "2   2019-06-07                                 Dark Phoenix   \n",
       "\n",
       "   production_budget  domestic_gross  worldwide_gross  day  month  year  \\\n",
       "1        410600000.0     241063875.0     1.045664e+09   20      5  2011   \n",
       "2        350000000.0      42762350.0     1.497624e+08    7      6  2019   \n",
       "\n",
       "      tconst  averagerating  numvotes  \\\n",
       "1  tt1298650            6.6    447624   \n",
       "2  tt6565702            6.0     24451   \n",
       "\n",
       "                                 primary_title  start_year  runtime_minutes  \\\n",
       "1  Pirates of the Caribbean: On Stranger Tides      2011.0            136.0   \n",
       "2                                 Dark Phoenix      2019.0            113.0   \n",
       "\n",
       "                         genres  \n",
       "1  [Action, Adventure, Fantasy]  \n",
       "2   [Action, Adventure, Sci-Fi]  "
      ]
     },
     "execution_count": 56,
     "metadata": {},
     "output_type": "execute_result"
    }
   ],
   "source": [
    "df_imbd_fin.info()\n",
    "df_imbd_fin.head(2)"
   ]
  },
  {
   "cell_type": "markdown",
   "metadata": {},
   "source": [
    "Here we can see that there are several columns with redundant info, so let's remove those and further clean up the df. Given that we only have very few data points in this table when compared to the original dataframes, we will proceed by using the combined table to only visualize a relationship between ratings, genres and ROI, but not investigate the relationship between ratings and genre. The conclusion of our ROI will be limited in scope to these fewer observations, however, these can still guide our conclusions as they are sufficient for statistical inference. "
   ]
  },
  {
   "cell_type": "code",
   "execution_count": 57,
   "metadata": {},
   "outputs": [],
   "source": [
    "df_imbd_fin = df_imbd_fin.drop([\"tconst\",\"numvotes\",\"primary_title\",\"start_year\",\"genres\"], axis=1)\n",
    "\n",
    "df_imbd_fin_expanded = df_imbd_fin_expanded.drop([\"tconst\",\"numvotes\",\"primary_title\",\"start_year\"], axis=1)\n"
   ]
  },
  {
   "cell_type": "code",
   "execution_count": 58,
   "metadata": {
    "scrolled": true
   },
   "outputs": [
    {
     "data": {
      "text/html": [
       "<div>\n",
       "<style scoped>\n",
       "    .dataframe tbody tr th:only-of-type {\n",
       "        vertical-align: middle;\n",
       "    }\n",
       "\n",
       "    .dataframe tbody tr th {\n",
       "        vertical-align: top;\n",
       "    }\n",
       "\n",
       "    .dataframe thead th {\n",
       "        text-align: right;\n",
       "    }\n",
       "</style>\n",
       "<table border=\"1\" class=\"dataframe\">\n",
       "  <thead>\n",
       "    <tr style=\"text-align: right;\">\n",
       "      <th></th>\n",
       "      <th>release_date</th>\n",
       "      <th>movie</th>\n",
       "      <th>production_budget</th>\n",
       "      <th>domestic_gross</th>\n",
       "      <th>worldwide_gross</th>\n",
       "      <th>day</th>\n",
       "      <th>month</th>\n",
       "      <th>year</th>\n",
       "      <th>averagerating</th>\n",
       "      <th>runtime_minutes</th>\n",
       "    </tr>\n",
       "  </thead>\n",
       "  <tbody>\n",
       "    <tr>\n",
       "      <th>1</th>\n",
       "      <td>2011-05-20</td>\n",
       "      <td>Pirates of the Caribbean: On Stranger Tides</td>\n",
       "      <td>410600000.0</td>\n",
       "      <td>241063875.0</td>\n",
       "      <td>1.045664e+09</td>\n",
       "      <td>20</td>\n",
       "      <td>5</td>\n",
       "      <td>2011</td>\n",
       "      <td>6.6</td>\n",
       "      <td>136.0</td>\n",
       "    </tr>\n",
       "    <tr>\n",
       "      <th>2</th>\n",
       "      <td>2019-06-07</td>\n",
       "      <td>Dark Phoenix</td>\n",
       "      <td>350000000.0</td>\n",
       "      <td>42762350.0</td>\n",
       "      <td>1.497624e+08</td>\n",
       "      <td>7</td>\n",
       "      <td>6</td>\n",
       "      <td>2019</td>\n",
       "      <td>6.0</td>\n",
       "      <td>113.0</td>\n",
       "    </tr>\n",
       "  </tbody>\n",
       "</table>\n",
       "</div>"
      ],
      "text/plain": [
       "  release_date                                        movie  \\\n",
       "1   2011-05-20  Pirates of the Caribbean: On Stranger Tides   \n",
       "2   2019-06-07                                 Dark Phoenix   \n",
       "\n",
       "   production_budget  domestic_gross  worldwide_gross  day  month  year  \\\n",
       "1        410600000.0     241063875.0     1.045664e+09   20      5  2011   \n",
       "2        350000000.0      42762350.0     1.497624e+08    7      6  2019   \n",
       "\n",
       "   averagerating  runtime_minutes  \n",
       "1            6.6            136.0  \n",
       "2            6.0            113.0  "
      ]
     },
     "execution_count": 58,
     "metadata": {},
     "output_type": "execute_result"
    }
   ],
   "source": [
    "df_imbd_fin.head(2)"
   ]
  },
  {
   "cell_type": "code",
   "execution_count": 59,
   "metadata": {
    "scrolled": false
   },
   "outputs": [
    {
     "data": {
      "text/html": [
       "<div>\n",
       "<style scoped>\n",
       "    .dataframe tbody tr th:only-of-type {\n",
       "        vertical-align: middle;\n",
       "    }\n",
       "\n",
       "    .dataframe tbody tr th {\n",
       "        vertical-align: top;\n",
       "    }\n",
       "\n",
       "    .dataframe thead th {\n",
       "        text-align: right;\n",
       "    }\n",
       "</style>\n",
       "<table border=\"1\" class=\"dataframe\">\n",
       "  <thead>\n",
       "    <tr style=\"text-align: right;\">\n",
       "      <th></th>\n",
       "      <th>release_date</th>\n",
       "      <th>movie</th>\n",
       "      <th>production_budget</th>\n",
       "      <th>domestic_gross</th>\n",
       "      <th>worldwide_gross</th>\n",
       "      <th>day</th>\n",
       "      <th>month</th>\n",
       "      <th>year</th>\n",
       "      <th>averagerating</th>\n",
       "      <th>runtime_minutes</th>\n",
       "      <th>genres</th>\n",
       "    </tr>\n",
       "  </thead>\n",
       "  <tbody>\n",
       "    <tr>\n",
       "      <th>1</th>\n",
       "      <td>2011-05-20</td>\n",
       "      <td>Pirates of the Caribbean: On Stranger Tides</td>\n",
       "      <td>410600000.0</td>\n",
       "      <td>241063875.0</td>\n",
       "      <td>1.045664e+09</td>\n",
       "      <td>20</td>\n",
       "      <td>5</td>\n",
       "      <td>2011</td>\n",
       "      <td>6.6</td>\n",
       "      <td>136.0</td>\n",
       "      <td>Action</td>\n",
       "    </tr>\n",
       "    <tr>\n",
       "      <th>1</th>\n",
       "      <td>2011-05-20</td>\n",
       "      <td>Pirates of the Caribbean: On Stranger Tides</td>\n",
       "      <td>410600000.0</td>\n",
       "      <td>241063875.0</td>\n",
       "      <td>1.045664e+09</td>\n",
       "      <td>20</td>\n",
       "      <td>5</td>\n",
       "      <td>2011</td>\n",
       "      <td>6.6</td>\n",
       "      <td>136.0</td>\n",
       "      <td>Adventure</td>\n",
       "    </tr>\n",
       "  </tbody>\n",
       "</table>\n",
       "</div>"
      ],
      "text/plain": [
       "  release_date                                        movie  \\\n",
       "1   2011-05-20  Pirates of the Caribbean: On Stranger Tides   \n",
       "1   2011-05-20  Pirates of the Caribbean: On Stranger Tides   \n",
       "\n",
       "   production_budget  domestic_gross  worldwide_gross  day  month  year  \\\n",
       "1        410600000.0     241063875.0     1.045664e+09   20      5  2011   \n",
       "1        410600000.0     241063875.0     1.045664e+09   20      5  2011   \n",
       "\n",
       "   averagerating  runtime_minutes     genres  \n",
       "1            6.6            136.0     Action  \n",
       "1            6.6            136.0  Adventure  "
      ]
     },
     "execution_count": 59,
     "metadata": {},
     "output_type": "execute_result"
    }
   ],
   "source": [
    "df_imbd_fin_expanded.head(2)"
   ]
  },
  {
   "cell_type": "code",
   "execution_count": 60,
   "metadata": {
    "scrolled": true
   },
   "outputs": [
    {
     "name": "stdout",
     "output_type": "stream",
     "text": [
      "<class 'pandas.core.frame.DataFrame'>\n",
      "RangeIndex: 26517 entries, 0 to 26516\n",
      "Data columns (total 10 columns):\n",
      "Unnamed: 0           26517 non-null int64\n",
      "genre_ids            26517 non-null object\n",
      "id                   26517 non-null int64\n",
      "original_language    26517 non-null object\n",
      "original_title       26517 non-null object\n",
      "popularity           26517 non-null float64\n",
      "release_date         26517 non-null object\n",
      "title                26517 non-null object\n",
      "vote_average         26517 non-null float64\n",
      "vote_count           26517 non-null int64\n",
      "dtypes: float64(2), int64(3), object(5)\n",
      "memory usage: 2.0+ MB\n"
     ]
    },
    {
     "data": {
      "text/html": [
       "<div>\n",
       "<style scoped>\n",
       "    .dataframe tbody tr th:only-of-type {\n",
       "        vertical-align: middle;\n",
       "    }\n",
       "\n",
       "    .dataframe tbody tr th {\n",
       "        vertical-align: top;\n",
       "    }\n",
       "\n",
       "    .dataframe thead th {\n",
       "        text-align: right;\n",
       "    }\n",
       "</style>\n",
       "<table border=\"1\" class=\"dataframe\">\n",
       "  <thead>\n",
       "    <tr style=\"text-align: right;\">\n",
       "      <th></th>\n",
       "      <th>Unnamed: 0</th>\n",
       "      <th>genre_ids</th>\n",
       "      <th>id</th>\n",
       "      <th>original_language</th>\n",
       "      <th>original_title</th>\n",
       "      <th>popularity</th>\n",
       "      <th>release_date</th>\n",
       "      <th>title</th>\n",
       "      <th>vote_average</th>\n",
       "      <th>vote_count</th>\n",
       "    </tr>\n",
       "  </thead>\n",
       "  <tbody>\n",
       "    <tr>\n",
       "      <th>0</th>\n",
       "      <td>0</td>\n",
       "      <td>[12, 14, 10751]</td>\n",
       "      <td>12444</td>\n",
       "      <td>en</td>\n",
       "      <td>Harry Potter and the Deathly Hallows: Part 1</td>\n",
       "      <td>33.533</td>\n",
       "      <td>2010-11-19</td>\n",
       "      <td>Harry Potter and the Deathly Hallows: Part 1</td>\n",
       "      <td>7.7</td>\n",
       "      <td>10788</td>\n",
       "    </tr>\n",
       "    <tr>\n",
       "      <th>1</th>\n",
       "      <td>1</td>\n",
       "      <td>[14, 12, 16, 10751]</td>\n",
       "      <td>10191</td>\n",
       "      <td>en</td>\n",
       "      <td>How to Train Your Dragon</td>\n",
       "      <td>28.734</td>\n",
       "      <td>2010-03-26</td>\n",
       "      <td>How to Train Your Dragon</td>\n",
       "      <td>7.7</td>\n",
       "      <td>7610</td>\n",
       "    </tr>\n",
       "  </tbody>\n",
       "</table>\n",
       "</div>"
      ],
      "text/plain": [
       "   Unnamed: 0            genre_ids     id original_language  \\\n",
       "0           0      [12, 14, 10751]  12444                en   \n",
       "1           1  [14, 12, 16, 10751]  10191                en   \n",
       "\n",
       "                                 original_title  popularity release_date  \\\n",
       "0  Harry Potter and the Deathly Hallows: Part 1      33.533   2010-11-19   \n",
       "1                      How to Train Your Dragon      28.734   2010-03-26   \n",
       "\n",
       "                                          title  vote_average  vote_count  \n",
       "0  Harry Potter and the Deathly Hallows: Part 1           7.7       10788  \n",
       "1                      How to Train Your Dragon           7.7        7610  "
      ]
     },
     "execution_count": 60,
     "metadata": {},
     "output_type": "execute_result"
    }
   ],
   "source": [
    "df_tmdb_movies_csv.info()\n",
    "df_tmdb_movies_csv.head(2)"
   ]
  },
  {
   "cell_type": "code",
   "execution_count": 61,
   "metadata": {
    "scrolled": true
   },
   "outputs": [
    {
     "data": {
      "text/html": [
       "<div>\n",
       "<style scoped>\n",
       "    .dataframe tbody tr th:only-of-type {\n",
       "        vertical-align: middle;\n",
       "    }\n",
       "\n",
       "    .dataframe tbody tr th {\n",
       "        vertical-align: top;\n",
       "    }\n",
       "\n",
       "    .dataframe thead th {\n",
       "        text-align: right;\n",
       "    }\n",
       "</style>\n",
       "<table border=\"1\" class=\"dataframe\">\n",
       "  <thead>\n",
       "    <tr style=\"text-align: right;\">\n",
       "      <th></th>\n",
       "      <th>release_date</th>\n",
       "      <th>movie</th>\n",
       "      <th>production_budget</th>\n",
       "      <th>domestic_gross</th>\n",
       "      <th>worldwide_gross</th>\n",
       "      <th>day</th>\n",
       "      <th>month</th>\n",
       "      <th>year</th>\n",
       "    </tr>\n",
       "  </thead>\n",
       "  <tbody>\n",
       "    <tr>\n",
       "      <th>0</th>\n",
       "      <td>2009-12-18</td>\n",
       "      <td>Avatar</td>\n",
       "      <td>425000000.0</td>\n",
       "      <td>760507625.0</td>\n",
       "      <td>2.776345e+09</td>\n",
       "      <td>18</td>\n",
       "      <td>12</td>\n",
       "      <td>2009</td>\n",
       "    </tr>\n",
       "    <tr>\n",
       "      <th>1</th>\n",
       "      <td>2011-05-20</td>\n",
       "      <td>Pirates of the Caribbean: On Stranger Tides</td>\n",
       "      <td>410600000.0</td>\n",
       "      <td>241063875.0</td>\n",
       "      <td>1.045664e+09</td>\n",
       "      <td>20</td>\n",
       "      <td>5</td>\n",
       "      <td>2011</td>\n",
       "    </tr>\n",
       "  </tbody>\n",
       "</table>\n",
       "</div>"
      ],
      "text/plain": [
       "  release_date                                        movie  \\\n",
       "0   2009-12-18                                       Avatar   \n",
       "1   2011-05-20  Pirates of the Caribbean: On Stranger Tides   \n",
       "\n",
       "   production_budget  domestic_gross  worldwide_gross  day  month  year  \n",
       "0        425000000.0     760507625.0     2.776345e+09   18     12  2009  \n",
       "1        410600000.0     241063875.0     1.045664e+09   20      5  2011  "
      ]
     },
     "execution_count": 61,
     "metadata": {},
     "output_type": "execute_result"
    }
   ],
   "source": [
    "df_tn_movie_budgets.head(2)"
   ]
  },
  {
   "cell_type": "code",
   "execution_count": 62,
   "metadata": {},
   "outputs": [],
   "source": [
    "df_tmdb_movies_fin = df_tmdb_movies_csv.drop([\"release_date\"], axis=1)\n"
   ]
  },
  {
   "cell_type": "code",
   "execution_count": 63,
   "metadata": {},
   "outputs": [],
   "source": [
    "# Join tmbd df with the tn movie budget df\n",
    "df_tmbd_ROI = df_tn_movie_budgets.join(df_tmdb_movies_fin.set_index('title'), on='movie', how='inner')\n"
   ]
  },
  {
   "cell_type": "code",
   "execution_count": 64,
   "metadata": {
    "scrolled": true
   },
   "outputs": [
    {
     "name": "stdout",
     "output_type": "stream",
     "text": [
      "<class 'pandas.core.frame.DataFrame'>\n",
      "Int64Index: 2385 entries, 0 to 5772\n",
      "Data columns (total 16 columns):\n",
      "release_date         2385 non-null datetime64[ns]\n",
      "movie                2385 non-null object\n",
      "production_budget    2385 non-null float64\n",
      "domestic_gross       2385 non-null float64\n",
      "worldwide_gross      2385 non-null float64\n",
      "day                  2385 non-null int64\n",
      "month                2385 non-null int64\n",
      "year                 2385 non-null int64\n",
      "Unnamed: 0           2385 non-null int64\n",
      "genre_ids            2385 non-null object\n",
      "id                   2385 non-null int64\n",
      "original_language    2385 non-null object\n",
      "original_title       2385 non-null object\n",
      "popularity           2385 non-null float64\n",
      "vote_average         2385 non-null float64\n",
      "vote_count           2385 non-null int64\n",
      "dtypes: datetime64[ns](1), float64(5), int64(6), object(4)\n",
      "memory usage: 316.8+ KB\n"
     ]
    },
    {
     "data": {
      "text/html": [
       "<div>\n",
       "<style scoped>\n",
       "    .dataframe tbody tr th:only-of-type {\n",
       "        vertical-align: middle;\n",
       "    }\n",
       "\n",
       "    .dataframe tbody tr th {\n",
       "        vertical-align: top;\n",
       "    }\n",
       "\n",
       "    .dataframe thead th {\n",
       "        text-align: right;\n",
       "    }\n",
       "</style>\n",
       "<table border=\"1\" class=\"dataframe\">\n",
       "  <thead>\n",
       "    <tr style=\"text-align: right;\">\n",
       "      <th></th>\n",
       "      <th>release_date</th>\n",
       "      <th>movie</th>\n",
       "      <th>production_budget</th>\n",
       "      <th>domestic_gross</th>\n",
       "      <th>worldwide_gross</th>\n",
       "      <th>day</th>\n",
       "      <th>month</th>\n",
       "      <th>year</th>\n",
       "      <th>Unnamed: 0</th>\n",
       "      <th>genre_ids</th>\n",
       "      <th>id</th>\n",
       "      <th>original_language</th>\n",
       "      <th>original_title</th>\n",
       "      <th>popularity</th>\n",
       "      <th>vote_average</th>\n",
       "      <th>vote_count</th>\n",
       "    </tr>\n",
       "  </thead>\n",
       "  <tbody>\n",
       "    <tr>\n",
       "      <th>0</th>\n",
       "      <td>2009-12-18</td>\n",
       "      <td>Avatar</td>\n",
       "      <td>425000000.0</td>\n",
       "      <td>760507625.0</td>\n",
       "      <td>2.776345e+09</td>\n",
       "      <td>18</td>\n",
       "      <td>12</td>\n",
       "      <td>2009</td>\n",
       "      <td>6</td>\n",
       "      <td>[28, 12, 14, 878]</td>\n",
       "      <td>19995</td>\n",
       "      <td>en</td>\n",
       "      <td>Avatar</td>\n",
       "      <td>26.526</td>\n",
       "      <td>7.4</td>\n",
       "      <td>18676</td>\n",
       "    </tr>\n",
       "    <tr>\n",
       "      <th>1</th>\n",
       "      <td>2011-05-20</td>\n",
       "      <td>Pirates of the Caribbean: On Stranger Tides</td>\n",
       "      <td>410600000.0</td>\n",
       "      <td>241063875.0</td>\n",
       "      <td>1.045664e+09</td>\n",
       "      <td>20</td>\n",
       "      <td>5</td>\n",
       "      <td>2011</td>\n",
       "      <td>2470</td>\n",
       "      <td>[12, 28, 14]</td>\n",
       "      <td>1865</td>\n",
       "      <td>en</td>\n",
       "      <td>Pirates of the Caribbean: On Stranger Tides</td>\n",
       "      <td>30.579</td>\n",
       "      <td>6.4</td>\n",
       "      <td>8571</td>\n",
       "    </tr>\n",
       "  </tbody>\n",
       "</table>\n",
       "</div>"
      ],
      "text/plain": [
       "  release_date                                        movie  \\\n",
       "0   2009-12-18                                       Avatar   \n",
       "1   2011-05-20  Pirates of the Caribbean: On Stranger Tides   \n",
       "\n",
       "   production_budget  domestic_gross  worldwide_gross  day  month  year  \\\n",
       "0        425000000.0     760507625.0     2.776345e+09   18     12  2009   \n",
       "1        410600000.0     241063875.0     1.045664e+09   20      5  2011   \n",
       "\n",
       "   Unnamed: 0          genre_ids     id original_language  \\\n",
       "0           6  [28, 12, 14, 878]  19995                en   \n",
       "1        2470       [12, 28, 14]   1865                en   \n",
       "\n",
       "                                original_title  popularity  vote_average  \\\n",
       "0                                       Avatar      26.526           7.4   \n",
       "1  Pirates of the Caribbean: On Stranger Tides      30.579           6.4   \n",
       "\n",
       "   vote_count  \n",
       "0       18676  \n",
       "1        8571  "
      ]
     },
     "execution_count": 64,
     "metadata": {},
     "output_type": "execute_result"
    }
   ],
   "source": [
    "df_tmbd_ROI.info()\n",
    "df_tmbd_ROI.head(2)"
   ]
  },
  {
   "cell_type": "markdown",
   "metadata": {},
   "source": [
    "As we can see the number of retained data points is again very small when compared to the original dataset, but given that we are looking for trends these will be significant for statistical inference. "
   ]
  },
  {
   "cell_type": "code",
   "execution_count": 65,
   "metadata": {},
   "outputs": [
    {
     "data": {
      "text/html": [
       "<div>\n",
       "<style scoped>\n",
       "    .dataframe tbody tr th:only-of-type {\n",
       "        vertical-align: middle;\n",
       "    }\n",
       "\n",
       "    .dataframe tbody tr th {\n",
       "        vertical-align: top;\n",
       "    }\n",
       "\n",
       "    .dataframe thead th {\n",
       "        text-align: right;\n",
       "    }\n",
       "</style>\n",
       "<table border=\"1\" class=\"dataframe\">\n",
       "  <thead>\n",
       "    <tr style=\"text-align: right;\">\n",
       "      <th></th>\n",
       "      <th>id</th>\n",
       "      <th>rating</th>\n",
       "      <th>top_critic</th>\n",
       "      <th>genre</th>\n",
       "      <th>theater_date</th>\n",
       "      <th>box_office</th>\n",
       "      <th>runtime</th>\n",
       "      <th>day</th>\n",
       "      <th>month</th>\n",
       "      <th>year</th>\n",
       "    </tr>\n",
       "  </thead>\n",
       "  <tbody>\n",
       "    <tr>\n",
       "      <th>0</th>\n",
       "      <td>3</td>\n",
       "      <td>0.6</td>\n",
       "      <td>0</td>\n",
       "      <td>[Drama, Science Fiction and Fantasy]</td>\n",
       "      <td>2012-08-17</td>\n",
       "      <td>600000.0</td>\n",
       "      <td>108 minutes</td>\n",
       "      <td>17.0</td>\n",
       "      <td>8.0</td>\n",
       "      <td>2012.0</td>\n",
       "    </tr>\n",
       "    <tr>\n",
       "      <th>7</th>\n",
       "      <td>3</td>\n",
       "      <td>0.4</td>\n",
       "      <td>0</td>\n",
       "      <td>[Drama, Science Fiction and Fantasy]</td>\n",
       "      <td>2012-08-17</td>\n",
       "      <td>600000.0</td>\n",
       "      <td>108 minutes</td>\n",
       "      <td>17.0</td>\n",
       "      <td>8.0</td>\n",
       "      <td>2012.0</td>\n",
       "    </tr>\n",
       "  </tbody>\n",
       "</table>\n",
       "</div>"
      ],
      "text/plain": [
       "   id  rating  top_critic                                 genre theater_date  \\\n",
       "0   3     0.6           0  [Drama, Science Fiction and Fantasy]   2012-08-17   \n",
       "7   3     0.4           0  [Drama, Science Fiction and Fantasy]   2012-08-17   \n",
       "\n",
       "   box_office      runtime   day  month    year  \n",
       "0    600000.0  108 minutes  17.0    8.0  2012.0  \n",
       "7    600000.0  108 minutes  17.0    8.0  2012.0  "
      ]
     },
     "execution_count": 65,
     "metadata": {},
     "output_type": "execute_result"
    }
   ],
   "source": [
    "# Join Rotten Tomatoes tables, fanout is not much of an issure since we will be calculating medians or\n",
    "# doing clustering analyses \n",
    "\n",
    "df_rt_full = df_rt_reviews.join(df_rt_movie_info.set_index('id'), on='id', how='inner')\n",
    "\n",
    "df_rt_full_expanded = df_rt_reviews.join(df_rt_movie_info_expanded.set_index('id'), on='id', how='inner')\n",
    "\n",
    "df_rt_full.head(2)"
   ]
  },
  {
   "cell_type": "code",
   "execution_count": 66,
   "metadata": {},
   "outputs": [
    {
     "data": {
      "text/html": [
       "<div>\n",
       "<style scoped>\n",
       "    .dataframe tbody tr th:only-of-type {\n",
       "        vertical-align: middle;\n",
       "    }\n",
       "\n",
       "    .dataframe tbody tr th {\n",
       "        vertical-align: top;\n",
       "    }\n",
       "\n",
       "    .dataframe thead th {\n",
       "        text-align: right;\n",
       "    }\n",
       "</style>\n",
       "<table border=\"1\" class=\"dataframe\">\n",
       "  <thead>\n",
       "    <tr style=\"text-align: right;\">\n",
       "      <th></th>\n",
       "      <th>id</th>\n",
       "      <th>rating</th>\n",
       "      <th>top_critic</th>\n",
       "      <th>genre</th>\n",
       "      <th>theater_date</th>\n",
       "      <th>box_office</th>\n",
       "      <th>runtime</th>\n",
       "      <th>day</th>\n",
       "      <th>month</th>\n",
       "      <th>year</th>\n",
       "    </tr>\n",
       "  </thead>\n",
       "  <tbody>\n",
       "    <tr>\n",
       "      <th>0</th>\n",
       "      <td>3</td>\n",
       "      <td>0.6</td>\n",
       "      <td>0</td>\n",
       "      <td>Drama</td>\n",
       "      <td>2012-08-17</td>\n",
       "      <td>600000.0</td>\n",
       "      <td>108 minutes</td>\n",
       "      <td>17.0</td>\n",
       "      <td>8.0</td>\n",
       "      <td>2012.0</td>\n",
       "    </tr>\n",
       "    <tr>\n",
       "      <th>0</th>\n",
       "      <td>3</td>\n",
       "      <td>0.6</td>\n",
       "      <td>0</td>\n",
       "      <td>Science Fiction and Fantasy</td>\n",
       "      <td>2012-08-17</td>\n",
       "      <td>600000.0</td>\n",
       "      <td>108 minutes</td>\n",
       "      <td>17.0</td>\n",
       "      <td>8.0</td>\n",
       "      <td>2012.0</td>\n",
       "    </tr>\n",
       "  </tbody>\n",
       "</table>\n",
       "</div>"
      ],
      "text/plain": [
       "   id  rating  top_critic                        genre theater_date  \\\n",
       "0   3     0.6           0                        Drama   2012-08-17   \n",
       "0   3     0.6           0  Science Fiction and Fantasy   2012-08-17   \n",
       "\n",
       "   box_office      runtime   day  month    year  \n",
       "0    600000.0  108 minutes  17.0    8.0  2012.0  \n",
       "0    600000.0  108 minutes  17.0    8.0  2012.0  "
      ]
     },
     "execution_count": 66,
     "metadata": {},
     "output_type": "execute_result"
    }
   ],
   "source": [
    "df_rt_full_expanded.head(2)\n"
   ]
  },
  {
   "cell_type": "markdown",
   "metadata": {},
   "source": [
    "<a id=\"Rrpb\"></a>\n",
    "## ROI, ratings and production budget"
   ]
  },
  {
   "cell_type": "markdown",
   "metadata": {},
   "source": [
    "First let’s start by observing relationship between ROI and ratings."
   ]
  },
  {
   "cell_type": "code",
   "execution_count": 67,
   "metadata": {},
   "outputs": [],
   "source": [
    "# Creating ROI columns\n",
    "df_imbd_fin[\"ROI_domestic\"] = df_imbd_fin[\"domestic_gross\"]-df_imbd_fin[\"production_budget\"]\n",
    "df_imbd_fin[\"ROI_international\"] = df_imbd_fin[\"worldwide_gross\"]-df_imbd_fin[\"production_budget\"]\n"
   ]
  },
  {
   "cell_type": "code",
   "execution_count": 68,
   "metadata": {},
   "outputs": [
    {
     "data": {
      "text/html": [
       "<div>\n",
       "<style scoped>\n",
       "    .dataframe tbody tr th:only-of-type {\n",
       "        vertical-align: middle;\n",
       "    }\n",
       "\n",
       "    .dataframe tbody tr th {\n",
       "        vertical-align: top;\n",
       "    }\n",
       "\n",
       "    .dataframe thead th {\n",
       "        text-align: right;\n",
       "    }\n",
       "</style>\n",
       "<table border=\"1\" class=\"dataframe\">\n",
       "  <thead>\n",
       "    <tr style=\"text-align: right;\">\n",
       "      <th></th>\n",
       "      <th>release_date</th>\n",
       "      <th>movie</th>\n",
       "      <th>production_budget</th>\n",
       "      <th>domestic_gross</th>\n",
       "      <th>worldwide_gross</th>\n",
       "      <th>day</th>\n",
       "      <th>month</th>\n",
       "      <th>year</th>\n",
       "      <th>averagerating</th>\n",
       "      <th>runtime_minutes</th>\n",
       "      <th>ROI_domestic</th>\n",
       "      <th>ROI_international</th>\n",
       "    </tr>\n",
       "  </thead>\n",
       "  <tbody>\n",
       "    <tr>\n",
       "      <th>1</th>\n",
       "      <td>2011-05-20</td>\n",
       "      <td>Pirates of the Caribbean: On Stranger Tides</td>\n",
       "      <td>410600000.0</td>\n",
       "      <td>241063875.0</td>\n",
       "      <td>1.045664e+09</td>\n",
       "      <td>20</td>\n",
       "      <td>5</td>\n",
       "      <td>2011</td>\n",
       "      <td>6.6</td>\n",
       "      <td>136.0</td>\n",
       "      <td>-169536125.0</td>\n",
       "      <td>635063875.0</td>\n",
       "    </tr>\n",
       "    <tr>\n",
       "      <th>2</th>\n",
       "      <td>2019-06-07</td>\n",
       "      <td>Dark Phoenix</td>\n",
       "      <td>350000000.0</td>\n",
       "      <td>42762350.0</td>\n",
       "      <td>1.497624e+08</td>\n",
       "      <td>7</td>\n",
       "      <td>6</td>\n",
       "      <td>2019</td>\n",
       "      <td>6.0</td>\n",
       "      <td>113.0</td>\n",
       "      <td>-307237650.0</td>\n",
       "      <td>-200237650.0</td>\n",
       "    </tr>\n",
       "  </tbody>\n",
       "</table>\n",
       "</div>"
      ],
      "text/plain": [
       "  release_date                                        movie  \\\n",
       "1   2011-05-20  Pirates of the Caribbean: On Stranger Tides   \n",
       "2   2019-06-07                                 Dark Phoenix   \n",
       "\n",
       "   production_budget  domestic_gross  worldwide_gross  day  month  year  \\\n",
       "1        410600000.0     241063875.0     1.045664e+09   20      5  2011   \n",
       "2        350000000.0      42762350.0     1.497624e+08    7      6  2019   \n",
       "\n",
       "   averagerating  runtime_minutes  ROI_domestic  ROI_international  \n",
       "1            6.6            136.0  -169536125.0        635063875.0  \n",
       "2            6.0            113.0  -307237650.0       -200237650.0  "
      ]
     },
     "execution_count": 68,
     "metadata": {},
     "output_type": "execute_result"
    }
   ],
   "source": [
    "# Veridying ROI columns\n",
    "df_imbd_fin.head(2)"
   ]
  },
  {
   "cell_type": "code",
   "execution_count": 69,
   "metadata": {},
   "outputs": [
    {
     "name": "stdout",
     "output_type": "stream",
     "text": [
      "<class 'pandas.core.frame.DataFrame'>\n",
      "Int64Index: 2633 entries, 1 to 5780\n",
      "Data columns (total 12 columns):\n",
      "release_date         2633 non-null datetime64[ns]\n",
      "movie                2633 non-null object\n",
      "production_budget    2633 non-null float64\n",
      "domestic_gross       2633 non-null float64\n",
      "worldwide_gross      2633 non-null float64\n",
      "day                  2633 non-null int64\n",
      "month                2633 non-null int64\n",
      "year                 2633 non-null int64\n",
      "averagerating        2633 non-null float64\n",
      "runtime_minutes      2530 non-null float64\n",
      "ROI_domestic         2633 non-null float64\n",
      "ROI_international    2633 non-null float64\n",
      "dtypes: datetime64[ns](1), float64(7), int64(3), object(1)\n",
      "memory usage: 267.4+ KB\n"
     ]
    }
   ],
   "source": [
    "df_imbd_fin.info()"
   ]
  },
  {
   "cell_type": "code",
   "execution_count": 70,
   "metadata": {},
   "outputs": [],
   "source": [
    "# df_imbd_budgets.plot.scatter(x=\"averagerating\", y=[\"production_budget\", \"ROI_domestic\", \"ROI_international\"]\n",
    "#                         , title='Iris Dataset')\n"
   ]
  },
  {
   "cell_type": "code",
   "execution_count": 71,
   "metadata": {
    "scrolled": false
   },
   "outputs": [
    {
     "name": "stdout",
     "output_type": "stream",
     "text": [
      "ROI as a function of average rating\n"
     ]
    },
    {
     "data": {
      "image/png": "[encoded data removed]",
      "text/plain": [
       "<Figure size 1152x432 with 2 Axes>"
      ]
     },
     "metadata": {},
     "output_type": "display_data"
    }
   ],
   "source": [
    "# Creating figure\n",
    "fig = plt.figure(figsize=(16,6))\n",
    "\n",
    "# setting axes \n",
    "ax1 = fig.add_subplot(121)\n",
    "ax2 = fig.add_subplot(122)\n",
    "# ax3 = fig.add_subplot(221)\n",
    "\n",
    "# create subplots\n",
    "ax1.scatter(df_imbd_fin[\"averagerating\"], df_imbd_fin[\"ROI_domestic\"], color=\"mediumaquamarine\", s=5)\n",
    "ax2.scatter(df_imbd_fin[\"averagerating\"], df_imbd_fin[\"ROI_international\"], color=\"palegreen\", s=5)\n",
    "# ax3.plot(df_imbd_fin[\"averagerating\"], z1, color=\"mediumaquamarine\", s=5)\n",
    "\n",
    "\n",
    "# Add descriptors\n",
    "ax1.set_xlabel(\"Average Rating\")\n",
    "ax1.set_ylabel(\"Domestic ROI (100 million)\")\n",
    "ax1.set_title(\"Domestic ROI vs Average Ratings\")\n",
    "\n",
    "ax2.set_xlabel(\"Average Rating\")\n",
    "ax2.set_ylabel(\"International ROI (billions)\")\n",
    "ax2.set_title(\"International ROI vs Average Ratings\")\n",
    "print('ROI as a function of average rating');\n"
   ]
  },
  {
   "cell_type": "markdown",
   "metadata": {},
   "source": [
    "There seems to be little correlation between Average Rating, but we can see that ROI tends to be highest between the range 6-8 for International ROI. It is important to note that while this range also sees the higher earnings for domestic sales, the same have the biggest losses. For further work we couldn investigate if there are any studios or actors that are in movies that consistently receive a rating from 6-8. \n",
    "\n",
    "Let’s now examine if there is any correlation between the production budget and ROI. "
   ]
  },
  {
   "cell_type": "code",
   "execution_count": 72,
   "metadata": {},
   "outputs": [
    {
     "name": "stdout",
     "output_type": "stream",
     "text": [
      "ROI as a function production budget\n"
     ]
    },
    {
     "data": {
      "image/png": "[encoded data removed]",
      "text/plain": [
       "<Figure size 1152x432 with 2 Axes>"
      ]
     },
     "metadata": {},
     "output_type": "display_data"
    }
   ],
   "source": [
    "# Creating figure\n",
    "fig = plt.figure(figsize=(16,6))\n",
    "\n",
    "# setting axes\n",
    "ax1 = fig.add_subplot(121)\n",
    "ax2 = fig.add_subplot(122)\n",
    "\n",
    "# create subplots\n",
    "ax1.scatter(df_imbd_fin[\"production_budget\"], df_imbd_fin[\"ROI_domestic\"], color=\"mediumaquamarine\", s=5)\n",
    "ax2.scatter(df_imbd_fin[\"production_budget\"], df_imbd_fin[\"ROI_international\"], color=\"palegreen\", s=5)\n",
    "\n",
    "\n",
    "\n",
    "# Add descriptors\n",
    "ax1.set_xlabel(\"Production Budget (100 million)\")\n",
    "ax1.set_ylabel(\"Domestic ROI (100 million)\")\n",
    "ax1.set_title(\"Domestic ROI vs Average Ratings\")\n",
    "\n",
    "ax2.set_xlabel(\"Production Budget (100 million)\")\n",
    "ax2.set_ylabel(\"International ROI (billions)\")\n",
    "ax2.set_title(\"International ROI vs Average Ratings\")\n",
    "print('ROI as a function production budget');\n"
   ]
  },
  {
   "cell_type": "markdown",
   "metadata": {},
   "source": [
    "It seems that for domestic ROI any production budget above 200 million, sees diminishing ROI, as well as the largest losses. Therefore, if the primary target is domestic, with a smaller international release - then it is best to stay within this budget. However, if the objective is to have a focus on the international market, then a production up to 300 million is potentially safe for a good return on investment. \n",
    "There are not enough data points for production budgets above 300 million, and the same will not be taken into account. \n",
    "\n",
    "Now let’s see if any correlation between production budget and average ratings exist. \n"
   ]
  },
  {
   "cell_type": "code",
   "execution_count": 73,
   "metadata": {
    "scrolled": false
   },
   "outputs": [
    {
     "data": {
      "text/plain": [
       "Text(0.5,1,'Average Ratings vs Production Budget')"
      ]
     },
     "execution_count": 73,
     "metadata": {},
     "output_type": "execute_result"
    },
    {
     "data": {
      "image/png": "[encoded data removed]",
      "text/plain": [
       "<Figure size 1152x432 with 1 Axes>"
      ]
     },
     "metadata": {},
     "output_type": "display_data"
    }
   ],
   "source": [
    "# Creating figure\n",
    "fig = plt.figure(figsize=(16,6))\n",
    "\n",
    "# setting axes\n",
    "ax1 = fig.add_subplot(121)\n",
    "\n",
    "# create subplots\n",
    "ax1.scatter(df_imbd_fin[\"production_budget\"], df_imbd_fin[\"averagerating\"], color=\"gold\", s=5)\n",
    "\n",
    "\n",
    "# Add descriptors\n",
    "ax1.set_xlabel(\"Production Budget (100 million)\")\n",
    "ax1.set_ylabel(\"Average Ratings\")\n",
    "ax1.set_title(\"Average Ratings vs Production Budget\")\n",
    "\n",
    "\n"
   ]
  },
  {
   "cell_type": "markdown",
   "metadata": {},
   "source": [
    "Here we can see that between the ranges of 100-200 million, ratings between 5 and 8 are the most prevalent, which somewhat agrees with our observations between average ratings and ROI. Given this data we can see that a possible objective is to shoot for around 200 in production budget to get average ratings between 6-8 and achieve higher ROIs. \n",
    "\n",
    "Let’s continue digging into differences between genres, to have a deeper sense of a holistic objective. \n"
   ]
  },
  {
   "cell_type": "markdown",
   "metadata": {},
   "source": [
    "<a id=\"Grr\"></a>\n",
    "## Genres, ROI and ratings\n",
    "### Are there genres that have ratings within our specified range? If so what are their associated ROIs?\n",
    "\n",
    "First let’s see if any genres have average ratings within our desired range (6-8). Then we will look deeper into these genres and see which one has the highest median for ROI, and then see if there is any correlation between production budget and ROI across these genres."
   ]
  },
  {
   "cell_type": "code",
   "execution_count": 74,
   "metadata": {},
   "outputs": [],
   "source": [
    "df_imbd_genre_rating_grouped = df_imbd_title_and_ratings_expanded.groupby(['genres'])['averagerating'].mean().reset_index().copy()\n"
   ]
  },
  {
   "cell_type": "code",
   "execution_count": 75,
   "metadata": {},
   "outputs": [
    {
     "data": {
      "text/html": [
       "<div>\n",
       "<style scoped>\n",
       "    .dataframe tbody tr th:only-of-type {\n",
       "        vertical-align: middle;\n",
       "    }\n",
       "\n",
       "    .dataframe tbody tr th {\n",
       "        vertical-align: top;\n",
       "    }\n",
       "\n",
       "    .dataframe thead th {\n",
       "        text-align: right;\n",
       "    }\n",
       "</style>\n",
       "<table border=\"1\" class=\"dataframe\">\n",
       "  <thead>\n",
       "    <tr style=\"text-align: right;\">\n",
       "      <th></th>\n",
       "      <th>genres</th>\n",
       "      <th>averagerating</th>\n",
       "    </tr>\n",
       "  </thead>\n",
       "  <tbody>\n",
       "    <tr>\n",
       "      <th>0</th>\n",
       "      <td>Action</td>\n",
       "      <td>5.810361</td>\n",
       "    </tr>\n",
       "    <tr>\n",
       "      <th>1</th>\n",
       "      <td>Adult</td>\n",
       "      <td>3.766667</td>\n",
       "    </tr>\n",
       "  </tbody>\n",
       "</table>\n",
       "</div>"
      ],
      "text/plain": [
       "   genres  averagerating\n",
       "0  Action       5.810361\n",
       "1   Adult       3.766667"
      ]
     },
     "execution_count": 75,
     "metadata": {},
     "output_type": "execute_result"
    }
   ],
   "source": [
    "df_imbd_genre_rating_grouped.head(2)"
   ]
  },
  {
   "cell_type": "code",
   "execution_count": 76,
   "metadata": {
    "scrolled": false
   },
   "outputs": [
    {
     "data": {
      "text/plain": [
       "Text(0.5,1,'Average Ratings across Genres')"
      ]
     },
     "execution_count": 76,
     "metadata": {},
     "output_type": "execute_result"
    },
    {
     "data": {
      "image/png": "[encoded data removed]",
      "text/plain": [
       "<Figure size 720x360 with 1 Axes>"
      ]
     },
     "metadata": {},
     "output_type": "display_data"
    }
   ],
   "source": [
    "# Plotting genres vs averagerating\n",
    "# fig = plt.figure(figsize=(20,20))\n",
    "ax = df_imbd_genre_rating_grouped.plot.bar(x='genres', y='averagerating', rot=90, color=\"powderblue\"\n",
    "                                            , legend=False, figsize=(10,5))\n",
    "\n",
    "\n",
    "# Add descriptors\n",
    "ax.set_xlabel(\"Genres\")\n",
    "ax.set_ylabel(\"Average Ratings\")\n",
    "ax.set_title(\"Average Ratings across Genres\")\n",
    "\n"
   ]
  },
  {
   "cell_type": "code",
   "execution_count": 77,
   "metadata": {
    "scrolled": false
   },
   "outputs": [
    {
     "data": {
      "text/plain": [
       "Text(0.5,1,'Movie count across Genres')"
      ]
     },
     "execution_count": 77,
     "metadata": {},
     "output_type": "execute_result"
    },
    {
     "data": {
      "image/png": "[encoded data removed]",
      "text/plain": [
       "<Figure size 432x288 with 1 Axes>"
      ]
     },
     "metadata": {},
     "output_type": "display_data"
    }
   ],
   "source": [
    "ax = df_imbd_title_and_ratings_expanded.genres.value_counts().plot(kind=\"bar\"\n",
    "                                                                                ,color=\"powderblue\")\n",
    "# df_imbd_genre_rating_grouped.plot.bar(x='genres', y='averagerating', rot=90, color=\"powderblue\"\n",
    "#                                             , legend=False, figsize=(10,5))\n",
    "\n",
    "\n",
    "# Add descriptors\n",
    "ax.set_xlabel(\"Genres\")\n",
    "ax.set_ylabel(\"Movie count\")\n",
    "ax.set_title(\"Movie count across Genres\")\n"
   ]
  },
  {
   "cell_type": "code",
   "execution_count": 78,
   "metadata": {
    "scrolled": true
   },
   "outputs": [
    {
     "data": {
      "text/plain": [
       "Drama          30788\n",
       "Documentary    17753\n",
       "Comedy         17290\n",
       "Thriller        8217\n",
       "Horror          7674\n",
       "Action          6988\n",
       "Romance         6589\n",
       "Crime           4611\n",
       "Adventure       3817\n",
       "Biography       3809\n",
       "Family          3412\n",
       "Mystery         3039\n",
       "History         2825\n",
       "Sci-Fi          2206\n",
       "Fantasy         2126\n",
       "Music           1968\n",
       "Animation       1743\n",
       "Sport           1179\n",
       "War              853\n",
       "Musical          721\n",
       "News             579\n",
       "Western          280\n",
       "Reality-TV        17\n",
       "Adult              3\n",
       "Game-Show          2\n",
       "Short              1\n",
       "Name: genres, dtype: int64"
      ]
     },
     "execution_count": 78,
     "metadata": {},
     "output_type": "execute_result"
    }
   ],
   "source": [
    "df_imbd_title_and_ratings_expanded.genres.value_counts()"
   ]
  },
  {
   "cell_type": "markdown",
   "metadata": {},
   "source": [
    "In the above chart we can see that the following genres had their average rating within our range of interest:\n",
    "- Biography\n",
    "- Documentary\n",
    "- Game Show\n",
    "- History\n",
    "- Music\n",
    "- Musical \n",
    "- News\n",
    "- Reality-TV\n",
    "- Sport\n",
    "- War <br><br>\n",
    "\n",
    "From these we will need to eliminate those which are clearly TV shows and not movies, as well as filter the dataframe based on runtime. Also, given the value counts for our genres, we will remove any genre that has a count less than 500, as they will be underrepresented in the data, and whatever insights we get from these will be not very precise nor useful.\n",
    "\n",
    "Using data from the Stephen Films institute for Film Data and Education below, we can see that since we will be studying documentaries, we should filter our data for runtimes at or above 86 min. We will assume then that this will leave only movies in the dataframe. \n",
    "\n",
    "ASSUMPTION: Filtering for movies with runtime above 85 min will eliminate most if not all TV shows from the dataset and thus won’t skew our analysis. \n"
   ]
  },
  {
   "cell_type": "markdown",
   "metadata": {},
   "source": [
    "<img src=\"Distribution_of_runtime_min.png\">"
   ]
  },
  {
   "cell_type": "markdown",
   "metadata": {},
   "source": [
    "<img src=Average_runtime_genres.png>"
   ]
  },
  {
   "cell_type": "code",
   "execution_count": 79,
   "metadata": {
    "scrolled": true
   },
   "outputs": [
    {
     "data": {
      "text/html": [
       "<div>\n",
       "<style scoped>\n",
       "    .dataframe tbody tr th:only-of-type {\n",
       "        vertical-align: middle;\n",
       "    }\n",
       "\n",
       "    .dataframe tbody tr th {\n",
       "        vertical-align: top;\n",
       "    }\n",
       "\n",
       "    .dataframe thead th {\n",
       "        text-align: right;\n",
       "    }\n",
       "</style>\n",
       "<table border=\"1\" class=\"dataframe\">\n",
       "  <thead>\n",
       "    <tr style=\"text-align: right;\">\n",
       "      <th></th>\n",
       "      <th>tconst</th>\n",
       "      <th>averagerating</th>\n",
       "      <th>numvotes</th>\n",
       "      <th>primary_title</th>\n",
       "      <th>original_title</th>\n",
       "      <th>start_year</th>\n",
       "      <th>runtime_minutes</th>\n",
       "      <th>genres</th>\n",
       "    </tr>\n",
       "  </thead>\n",
       "  <tbody>\n",
       "    <tr>\n",
       "      <th>0</th>\n",
       "      <td>tt10356526</td>\n",
       "      <td>8.3</td>\n",
       "      <td>31</td>\n",
       "      <td>Laiye Je Yaarian</td>\n",
       "      <td>Laiye Je Yaarian</td>\n",
       "      <td>2019.0</td>\n",
       "      <td>117.0</td>\n",
       "      <td>Romance</td>\n",
       "    </tr>\n",
       "    <tr>\n",
       "      <th>1</th>\n",
       "      <td>tt10384606</td>\n",
       "      <td>8.9</td>\n",
       "      <td>559</td>\n",
       "      <td>Borderless</td>\n",
       "      <td>Borderless</td>\n",
       "      <td>2019.0</td>\n",
       "      <td>87.0</td>\n",
       "      <td>Documentary</td>\n",
       "    </tr>\n",
       "  </tbody>\n",
       "</table>\n",
       "</div>"
      ],
      "text/plain": [
       "       tconst  averagerating  numvotes     primary_title    original_title  \\\n",
       "0  tt10356526            8.3        31  Laiye Je Yaarian  Laiye Je Yaarian   \n",
       "1  tt10384606            8.9       559        Borderless        Borderless   \n",
       "\n",
       "   start_year  runtime_minutes       genres  \n",
       "0      2019.0            117.0      Romance  \n",
       "1      2019.0             87.0  Documentary  "
      ]
     },
     "execution_count": 79,
     "metadata": {},
     "output_type": "execute_result"
    }
   ],
   "source": [
    "df_imbd_title_and_ratings_expanded.head(2)"
   ]
  },
  {
   "cell_type": "code",
   "execution_count": 80,
   "metadata": {
    "scrolled": false
   },
   "outputs": [
    {
     "name": "stdout",
     "output_type": "stream",
     "text": [
      "<class 'pandas.core.frame.DataFrame'>\n",
      "Int64Index: 129294 entries, 0 to 73855\n",
      "Data columns (total 8 columns):\n",
      "tconst             129294 non-null object\n",
      "averagerating      129294 non-null float64\n",
      "numvotes           129294 non-null int64\n",
      "primary_title      128490 non-null object\n",
      "original_title     128490 non-null object\n",
      "start_year         128490 non-null float64\n",
      "runtime_minutes    118437 non-null float64\n",
      "genres             128490 non-null object\n",
      "dtypes: float64(3), int64(1), object(4)\n",
      "memory usage: 8.9+ MB\n"
     ]
    }
   ],
   "source": [
    "df_imbd_title_and_ratings_expanded.info()"
   ]
  },
  {
   "cell_type": "code",
   "execution_count": 81,
   "metadata": {},
   "outputs": [],
   "source": [
    "df_imbd_title_and_ratings_movies = df_imbd_title_and_ratings_expanded[df_imbd_title_and_ratings_expanded.runtime_minutes >= 85].copy()\n"
   ]
  },
  {
   "cell_type": "code",
   "execution_count": 82,
   "metadata": {},
   "outputs": [],
   "source": [
    "genres_to_del = [\"Reality-TV\", 'Game-Show', 'News', 'Western', 'Adult', 'Short']\n",
    "df_imbd_title_and_ratings_movies = df_imbd_title_and_ratings_movies[~df_imbd_title_and_ratings_movies['genres'].isin(genres_to_del)]\n"
   ]
  },
  {
   "cell_type": "code",
   "execution_count": 83,
   "metadata": {},
   "outputs": [
    {
     "data": {
      "text/plain": [
       "Drama          22178\n",
       "Comedy         12206\n",
       "Documentary     7372\n",
       "Thriller        5761\n",
       "Action          5190\n",
       "Romance         5094\n",
       "Horror          4226\n",
       "Crime           3511\n",
       "Adventure       2589\n",
       "Biography       2240\n",
       "Family          2204\n",
       "Mystery         2153\n",
       "History         1671\n",
       "Fantasy         1442\n",
       "Sci-Fi          1421\n",
       "Music           1241\n",
       "Animation        881\n",
       "Sport            755\n",
       "War              581\n",
       "Musical          488\n",
       "Name: genres, dtype: int64"
      ]
     },
     "execution_count": 83,
     "metadata": {},
     "output_type": "execute_result"
    }
   ],
   "source": [
    "df_imbd_title_and_ratings_movies.genres.value_counts()"
   ]
  },
  {
   "cell_type": "markdown",
   "metadata": {},
   "source": [
    "Now that the data is further tailored to our needs, let’s recreate the bar chart above and re-evaluate which genres to further inspect."
   ]
  },
  {
   "cell_type": "code",
   "execution_count": 84,
   "metadata": {},
   "outputs": [],
   "source": [
    "df_imbd_title_and_ratings_movies = df_imbd_title_and_ratings_movies.groupby(['genres'])['averagerating'].mean().reset_index()\n"
   ]
  },
  {
   "cell_type": "code",
   "execution_count": 85,
   "metadata": {
    "scrolled": false
   },
   "outputs": [
    {
     "data": {
      "text/plain": [
       "Text(0.5,1,'Average Ratings across Genres')"
      ]
     },
     "execution_count": 85,
     "metadata": {},
     "output_type": "execute_result"
    },
    {
     "data": {
      "image/png": "[encoded data removed]",
      "text/plain": [
       "<Figure size 720x360 with 1 Axes>"
      ]
     },
     "metadata": {},
     "output_type": "display_data"
    }
   ],
   "source": [
    "# Plotting genres vs averagerating\n",
    "# fig = plt.figure(figsize=(20,20))\n",
    "ax = df_imbd_title_and_ratings_movies.plot.bar(x='genres', y='averagerating', rot=90, color=\"powderblue\"\n",
    "                                            , legend=False, figsize=(10,5))\n",
    "\n",
    "# Add descriptors\n",
    "ax.set_xlabel(\"Genres\")\n",
    "ax.set_ylabel(\"Average Ratings\")\n",
    "ax.set_title(\"Average Ratings across Genres\")\n"
   ]
  },
  {
   "cell_type": "code",
   "execution_count": 86,
   "metadata": {
    "scrolled": false
   },
   "outputs": [
    {
     "data": {
      "text/html": [
       "<div>\n",
       "<style scoped>\n",
       "    .dataframe tbody tr th:only-of-type {\n",
       "        vertical-align: middle;\n",
       "    }\n",
       "\n",
       "    .dataframe tbody tr th {\n",
       "        vertical-align: top;\n",
       "    }\n",
       "\n",
       "    .dataframe thead th {\n",
       "        text-align: right;\n",
       "    }\n",
       "</style>\n",
       "<table border=\"1\" class=\"dataframe\">\n",
       "  <thead>\n",
       "    <tr style=\"text-align: right;\">\n",
       "      <th></th>\n",
       "      <th>genres</th>\n",
       "      <th>averagerating</th>\n",
       "    </tr>\n",
       "  </thead>\n",
       "  <tbody>\n",
       "    <tr>\n",
       "      <th>6</th>\n",
       "      <td>Documentary</td>\n",
       "      <td>7.306158</td>\n",
       "    </tr>\n",
       "    <tr>\n",
       "      <th>3</th>\n",
       "      <td>Biography</td>\n",
       "      <td>7.065670</td>\n",
       "    </tr>\n",
       "    <tr>\n",
       "      <th>12</th>\n",
       "      <td>Music</td>\n",
       "      <td>6.990653</td>\n",
       "    </tr>\n",
       "    <tr>\n",
       "      <th>10</th>\n",
       "      <td>History</td>\n",
       "      <td>6.903710</td>\n",
       "    </tr>\n",
       "    <tr>\n",
       "      <th>17</th>\n",
       "      <td>Sport</td>\n",
       "      <td>6.797351</td>\n",
       "    </tr>\n",
       "    <tr>\n",
       "      <th>13</th>\n",
       "      <td>Musical</td>\n",
       "      <td>6.461270</td>\n",
       "    </tr>\n",
       "    <tr>\n",
       "      <th>19</th>\n",
       "      <td>War</td>\n",
       "      <td>6.435628</td>\n",
       "    </tr>\n",
       "    <tr>\n",
       "      <th>7</th>\n",
       "      <td>Drama</td>\n",
       "      <td>6.365101</td>\n",
       "    </tr>\n",
       "    <tr>\n",
       "      <th>2</th>\n",
       "      <td>Animation</td>\n",
       "      <td>6.302611</td>\n",
       "    </tr>\n",
       "    <tr>\n",
       "      <th>8</th>\n",
       "      <td>Family</td>\n",
       "      <td>6.299637</td>\n",
       "    </tr>\n",
       "    <tr>\n",
       "      <th>15</th>\n",
       "      <td>Romance</td>\n",
       "      <td>6.119611</td>\n",
       "    </tr>\n",
       "    <tr>\n",
       "      <th>5</th>\n",
       "      <td>Crime</td>\n",
       "      <td>6.101623</td>\n",
       "    </tr>\n",
       "    <tr>\n",
       "      <th>1</th>\n",
       "      <td>Adventure</td>\n",
       "      <td>6.056315</td>\n",
       "    </tr>\n",
       "    <tr>\n",
       "      <th>4</th>\n",
       "      <td>Comedy</td>\n",
       "      <td>5.978191</td>\n",
       "    </tr>\n",
       "    <tr>\n",
       "      <th>14</th>\n",
       "      <td>Mystery</td>\n",
       "      <td>5.917975</td>\n",
       "    </tr>\n",
       "  </tbody>\n",
       "</table>\n",
       "</div>"
      ],
      "text/plain": [
       "         genres  averagerating\n",
       "6   Documentary       7.306158\n",
       "3     Biography       7.065670\n",
       "12        Music       6.990653\n",
       "10      History       6.903710\n",
       "17        Sport       6.797351\n",
       "13      Musical       6.461270\n",
       "19          War       6.435628\n",
       "7         Drama       6.365101\n",
       "2     Animation       6.302611\n",
       "8        Family       6.299637\n",
       "15      Romance       6.119611\n",
       "5         Crime       6.101623\n",
       "1     Adventure       6.056315\n",
       "4        Comedy       5.978191\n",
       "14      Mystery       5.917975"
      ]
     },
     "execution_count": 86,
     "metadata": {},
     "output_type": "execute_result"
    }
   ],
   "source": [
    "df_imbd_title_and_ratings_movies.sort_values(\"averagerating\", ascending=False).head(15)"
   ]
  },
  {
   "cell_type": "markdown",
   "metadata": {},
   "source": [
    "Here we can see which movies we can continue examining. First, we will now look at genre and median ROI’s between these genres. Then we will select the top three genres based on median ROI and visalize the relationship between genre, production budget and ROI for these. This will help in determining which genres to potentially target. \n",
    "\n",
    "**OUT OF SCOPE:** We are not examining relationships between genres as movies can contain more then one genre. "
   ]
  },
  {
   "cell_type": "code",
   "execution_count": 87,
   "metadata": {},
   "outputs": [],
   "source": [
    "genres_to_keep = ['Documentary', 'Biography', 'Music', 'History', 'Sport', 'Musical', 'War', 'Drama', 'Animation', 'Family', 'Romance', 'Crime', 'Adventure']\n",
    "df_imbd_fin_expanded = df_imbd_fin_expanded[df_imbd_fin_expanded[\"genres\"].isin(genres_to_keep)]\n",
    "df_imbd_fin_expanded[\"domestic_ROI\"] = df_imbd_fin_expanded[\"domestic_gross\"] - df_imbd_fin_expanded[\"production_budget\"]\n",
    "df_imbd_fin_expanded[\"international_ROI\"] = df_imbd_fin_expanded[\"worldwide_gross\"] - df_imbd_fin_expanded[\"production_budget\"]\n"
   ]
  },
  {
   "cell_type": "code",
   "execution_count": 88,
   "metadata": {
    "scrolled": false
   },
   "outputs": [
    {
     "data": {
      "text/html": [
       "<div>\n",
       "<style scoped>\n",
       "    .dataframe tbody tr th:only-of-type {\n",
       "        vertical-align: middle;\n",
       "    }\n",
       "\n",
       "    .dataframe tbody tr th {\n",
       "        vertical-align: top;\n",
       "    }\n",
       "\n",
       "    .dataframe thead th {\n",
       "        text-align: right;\n",
       "    }\n",
       "</style>\n",
       "<table border=\"1\" class=\"dataframe\">\n",
       "  <thead>\n",
       "    <tr style=\"text-align: right;\">\n",
       "      <th></th>\n",
       "      <th>production_budget</th>\n",
       "      <th>domestic_gross</th>\n",
       "      <th>worldwide_gross</th>\n",
       "      <th>day</th>\n",
       "      <th>month</th>\n",
       "      <th>year</th>\n",
       "      <th>averagerating</th>\n",
       "      <th>runtime_minutes</th>\n",
       "      <th>domestic_ROI</th>\n",
       "      <th>international_ROI</th>\n",
       "    </tr>\n",
       "    <tr>\n",
       "      <th>genres</th>\n",
       "      <th></th>\n",
       "      <th></th>\n",
       "      <th></th>\n",
       "      <th></th>\n",
       "      <th></th>\n",
       "      <th></th>\n",
       "      <th></th>\n",
       "      <th></th>\n",
       "      <th></th>\n",
       "      <th></th>\n",
       "    </tr>\n",
       "  </thead>\n",
       "  <tbody>\n",
       "    <tr>\n",
       "      <th>Animation</th>\n",
       "      <td>78000000.0</td>\n",
       "      <td>85886987.0</td>\n",
       "      <td>249517956.0</td>\n",
       "      <td>17.0</td>\n",
       "      <td>7.0</td>\n",
       "      <td>2014.0</td>\n",
       "      <td>6.60</td>\n",
       "      <td>93.0</td>\n",
       "      <td>1538435.0</td>\n",
       "      <td>146271037.0</td>\n",
       "    </tr>\n",
       "    <tr>\n",
       "      <th>Adventure</th>\n",
       "      <td>79500000.0</td>\n",
       "      <td>63473323.0</td>\n",
       "      <td>176301374.5</td>\n",
       "      <td>17.0</td>\n",
       "      <td>7.0</td>\n",
       "      <td>2014.0</td>\n",
       "      <td>6.40</td>\n",
       "      <td>105.0</td>\n",
       "      <td>-2050000.0</td>\n",
       "      <td>87045238.5</td>\n",
       "    </tr>\n",
       "    <tr>\n",
       "      <th>Family</th>\n",
       "      <td>25000000.0</td>\n",
       "      <td>42024533.0</td>\n",
       "      <td>60376247.0</td>\n",
       "      <td>18.0</td>\n",
       "      <td>8.0</td>\n",
       "      <td>2012.0</td>\n",
       "      <td>6.30</td>\n",
       "      <td>103.0</td>\n",
       "      <td>-151413.0</td>\n",
       "      <td>29174545.0</td>\n",
       "    </tr>\n",
       "    <tr>\n",
       "      <th>Biography</th>\n",
       "      <td>20000000.0</td>\n",
       "      <td>15436808.0</td>\n",
       "      <td>26097497.0</td>\n",
       "      <td>17.0</td>\n",
       "      <td>9.0</td>\n",
       "      <td>2015.0</td>\n",
       "      <td>7.10</td>\n",
       "      <td>115.0</td>\n",
       "      <td>-1868590.0</td>\n",
       "      <td>9382693.0</td>\n",
       "    </tr>\n",
       "    <tr>\n",
       "      <th>Romance</th>\n",
       "      <td>13000000.0</td>\n",
       "      <td>11431425.0</td>\n",
       "      <td>19134335.5</td>\n",
       "      <td>17.0</td>\n",
       "      <td>7.0</td>\n",
       "      <td>2012.0</td>\n",
       "      <td>6.30</td>\n",
       "      <td>104.0</td>\n",
       "      <td>-511499.0</td>\n",
       "      <td>7004176.0</td>\n",
       "    </tr>\n",
       "    <tr>\n",
       "      <th>Music</th>\n",
       "      <td>11500000.0</td>\n",
       "      <td>12477202.0</td>\n",
       "      <td>17092887.5</td>\n",
       "      <td>17.0</td>\n",
       "      <td>8.0</td>\n",
       "      <td>2014.0</td>\n",
       "      <td>6.40</td>\n",
       "      <td>106.0</td>\n",
       "      <td>592624.0</td>\n",
       "      <td>6610357.0</td>\n",
       "    </tr>\n",
       "    <tr>\n",
       "      <th>Sport</th>\n",
       "      <td>15500000.0</td>\n",
       "      <td>14025606.0</td>\n",
       "      <td>21232735.5</td>\n",
       "      <td>19.0</td>\n",
       "      <td>9.0</td>\n",
       "      <td>2013.5</td>\n",
       "      <td>6.80</td>\n",
       "      <td>111.0</td>\n",
       "      <td>-178667.5</td>\n",
       "      <td>4852084.0</td>\n",
       "    </tr>\n",
       "    <tr>\n",
       "      <th>Crime</th>\n",
       "      <td>20000000.0</td>\n",
       "      <td>14595363.5</td>\n",
       "      <td>26632927.5</td>\n",
       "      <td>16.0</td>\n",
       "      <td>8.0</td>\n",
       "      <td>2013.0</td>\n",
       "      <td>6.40</td>\n",
       "      <td>106.0</td>\n",
       "      <td>-2668936.5</td>\n",
       "      <td>4156853.5</td>\n",
       "    </tr>\n",
       "    <tr>\n",
       "      <th>Drama</th>\n",
       "      <td>13000000.0</td>\n",
       "      <td>9737892.0</td>\n",
       "      <td>19054534.0</td>\n",
       "      <td>16.0</td>\n",
       "      <td>8.0</td>\n",
       "      <td>2013.0</td>\n",
       "      <td>6.50</td>\n",
       "      <td>106.0</td>\n",
       "      <td>-1156229.0</td>\n",
       "      <td>3500366.0</td>\n",
       "    </tr>\n",
       "    <tr>\n",
       "      <th>History</th>\n",
       "      <td>22000000.0</td>\n",
       "      <td>10205616.0</td>\n",
       "      <td>24403192.0</td>\n",
       "      <td>15.0</td>\n",
       "      <td>8.0</td>\n",
       "      <td>2015.0</td>\n",
       "      <td>6.90</td>\n",
       "      <td>119.0</td>\n",
       "      <td>-2921052.0</td>\n",
       "      <td>3400715.0</td>\n",
       "    </tr>\n",
       "    <tr>\n",
       "      <th>Documentary</th>\n",
       "      <td>9000000.0</td>\n",
       "      <td>6634587.5</td>\n",
       "      <td>9440671.0</td>\n",
       "      <td>16.0</td>\n",
       "      <td>7.0</td>\n",
       "      <td>2011.0</td>\n",
       "      <td>7.20</td>\n",
       "      <td>81.0</td>\n",
       "      <td>-356721.0</td>\n",
       "      <td>1676158.0</td>\n",
       "    </tr>\n",
       "    <tr>\n",
       "      <th>Musical</th>\n",
       "      <td>9650000.0</td>\n",
       "      <td>2471389.5</td>\n",
       "      <td>19773304.0</td>\n",
       "      <td>16.5</td>\n",
       "      <td>7.0</td>\n",
       "      <td>2011.0</td>\n",
       "      <td>6.50</td>\n",
       "      <td>99.0</td>\n",
       "      <td>-1109088.0</td>\n",
       "      <td>83762.0</td>\n",
       "    </tr>\n",
       "    <tr>\n",
       "      <th>War</th>\n",
       "      <td>15000000.0</td>\n",
       "      <td>3855767.0</td>\n",
       "      <td>10005785.5</td>\n",
       "      <td>18.0</td>\n",
       "      <td>8.0</td>\n",
       "      <td>2013.5</td>\n",
       "      <td>6.65</td>\n",
       "      <td>110.0</td>\n",
       "      <td>-4875434.0</td>\n",
       "      <td>-5321.0</td>\n",
       "    </tr>\n",
       "  </tbody>\n",
       "</table>\n",
       "</div>"
      ],
      "text/plain": [
       "             production_budget  domestic_gross  worldwide_gross   day  month  \\\n",
       "genres                                                                         \n",
       "Animation           78000000.0      85886987.0      249517956.0  17.0    7.0   \n",
       "Adventure           79500000.0      63473323.0      176301374.5  17.0    7.0   \n",
       "Family              25000000.0      42024533.0       60376247.0  18.0    8.0   \n",
       "Biography           20000000.0      15436808.0       26097497.0  17.0    9.0   \n",
       "Romance             13000000.0      11431425.0       19134335.5  17.0    7.0   \n",
       "Music               11500000.0      12477202.0       17092887.5  17.0    8.0   \n",
       "Sport               15500000.0      14025606.0       21232735.5  19.0    9.0   \n",
       "Crime               20000000.0      14595363.5       26632927.5  16.0    8.0   \n",
       "Drama               13000000.0       9737892.0       19054534.0  16.0    8.0   \n",
       "History             22000000.0      10205616.0       24403192.0  15.0    8.0   \n",
       "Documentary          9000000.0       6634587.5        9440671.0  16.0    7.0   \n",
       "Musical              9650000.0       2471389.5       19773304.0  16.5    7.0   \n",
       "War                 15000000.0       3855767.0       10005785.5  18.0    8.0   \n",
       "\n",
       "               year  averagerating  runtime_minutes  domestic_ROI  \\\n",
       "genres                                                              \n",
       "Animation    2014.0           6.60             93.0     1538435.0   \n",
       "Adventure    2014.0           6.40            105.0    -2050000.0   \n",
       "Family       2012.0           6.30            103.0     -151413.0   \n",
       "Biography    2015.0           7.10            115.0    -1868590.0   \n",
       "Romance      2012.0           6.30            104.0     -511499.0   \n",
       "Music        2014.0           6.40            106.0      592624.0   \n",
       "Sport        2013.5           6.80            111.0     -178667.5   \n",
       "Crime        2013.0           6.40            106.0    -2668936.5   \n",
       "Drama        2013.0           6.50            106.0    -1156229.0   \n",
       "History      2015.0           6.90            119.0    -2921052.0   \n",
       "Documentary  2011.0           7.20             81.0     -356721.0   \n",
       "Musical      2011.0           6.50             99.0    -1109088.0   \n",
       "War          2013.5           6.65            110.0    -4875434.0   \n",
       "\n",
       "             international_ROI  \n",
       "genres                          \n",
       "Animation          146271037.0  \n",
       "Adventure           87045238.5  \n",
       "Family              29174545.0  \n",
       "Biography            9382693.0  \n",
       "Romance              7004176.0  \n",
       "Music                6610357.0  \n",
       "Sport                4852084.0  \n",
       "Crime                4156853.5  \n",
       "Drama                3500366.0  \n",
       "History              3400715.0  \n",
       "Documentary          1676158.0  \n",
       "Musical                83762.0  \n",
       "War                    -5321.0  "
      ]
     },
     "execution_count": 88,
     "metadata": {},
     "output_type": "execute_result"
    }
   ],
   "source": [
    "df_imbd_median = df_imbd_fin_expanded.groupby(\"genres\").median()\n",
    "df_imbd_median.sort_values(\"international_ROI\", ascending=False)\n"
   ]
  },
  {
   "cell_type": "markdown",
   "metadata": {},
   "source": [
    "Recently it seems that Animation, Adventure and Family movies have led to the highest international ROI’s as well as decent domestic ROI’s when compared to their peers. As such we will examine the relationship between production budget and ROI for these to get a general sense of the necessary production budget to achieve a high ROI. "
   ]
  },
  {
   "cell_type": "code",
   "execution_count": 89,
   "metadata": {},
   "outputs": [],
   "source": [
    "df_animation = df_imbd_fin_expanded.loc[df_imbd_fin_expanded[\"genres\"] == \"Animation\"].copy()\n",
    "df_adventure = df_imbd_fin_expanded.loc[df_imbd_fin_expanded[\"genres\"] == \"Adventure\"].copy()\n",
    "df_family = df_imbd_fin_expanded.loc[df_imbd_fin_expanded[\"genres\"] == \"Family\"].copy()\n"
   ]
  },
  {
   "cell_type": "code",
   "execution_count": 90,
   "metadata": {},
   "outputs": [
    {
     "data": {
      "text/html": [
       "<div>\n",
       "<style scoped>\n",
       "    .dataframe tbody tr th:only-of-type {\n",
       "        vertical-align: middle;\n",
       "    }\n",
       "\n",
       "    .dataframe tbody tr th {\n",
       "        vertical-align: top;\n",
       "    }\n",
       "\n",
       "    .dataframe thead th {\n",
       "        text-align: right;\n",
       "    }\n",
       "</style>\n",
       "<table border=\"1\" class=\"dataframe\">\n",
       "  <thead>\n",
       "    <tr style=\"text-align: right;\">\n",
       "      <th></th>\n",
       "      <th>release_date</th>\n",
       "      <th>movie</th>\n",
       "      <th>production_budget</th>\n",
       "      <th>domestic_gross</th>\n",
       "      <th>worldwide_gross</th>\n",
       "      <th>day</th>\n",
       "      <th>month</th>\n",
       "      <th>year</th>\n",
       "      <th>averagerating</th>\n",
       "      <th>runtime_minutes</th>\n",
       "      <th>genres</th>\n",
       "      <th>domestic_ROI</th>\n",
       "      <th>international_ROI</th>\n",
       "    </tr>\n",
       "  </thead>\n",
       "  <tbody>\n",
       "    <tr>\n",
       "      <th>1</th>\n",
       "      <td>2011-05-20</td>\n",
       "      <td>Pirates of the Caribbean: On Stranger Tides</td>\n",
       "      <td>410600000.0</td>\n",
       "      <td>241063875.0</td>\n",
       "      <td>1.045664e+09</td>\n",
       "      <td>20</td>\n",
       "      <td>5</td>\n",
       "      <td>2011</td>\n",
       "      <td>6.6</td>\n",
       "      <td>136.0</td>\n",
       "      <td>Adventure</td>\n",
       "      <td>-169536125.0</td>\n",
       "      <td>635063875.0</td>\n",
       "    </tr>\n",
       "    <tr>\n",
       "      <th>2</th>\n",
       "      <td>2019-06-07</td>\n",
       "      <td>Dark Phoenix</td>\n",
       "      <td>350000000.0</td>\n",
       "      <td>42762350.0</td>\n",
       "      <td>1.497624e+08</td>\n",
       "      <td>7</td>\n",
       "      <td>6</td>\n",
       "      <td>2019</td>\n",
       "      <td>6.0</td>\n",
       "      <td>113.0</td>\n",
       "      <td>Adventure</td>\n",
       "      <td>-307237650.0</td>\n",
       "      <td>-200237650.0</td>\n",
       "    </tr>\n",
       "  </tbody>\n",
       "</table>\n",
       "</div>"
      ],
      "text/plain": [
       "  release_date                                        movie  \\\n",
       "1   2011-05-20  Pirates of the Caribbean: On Stranger Tides   \n",
       "2   2019-06-07                                 Dark Phoenix   \n",
       "\n",
       "   production_budget  domestic_gross  worldwide_gross  day  month  year  \\\n",
       "1        410600000.0     241063875.0     1.045664e+09   20      5  2011   \n",
       "2        350000000.0      42762350.0     1.497624e+08    7      6  2019   \n",
       "\n",
       "   averagerating  runtime_minutes     genres  domestic_ROI  international_ROI  \n",
       "1            6.6            136.0  Adventure  -169536125.0        635063875.0  \n",
       "2            6.0            113.0  Adventure  -307237650.0       -200237650.0  "
      ]
     },
     "execution_count": 90,
     "metadata": {},
     "output_type": "execute_result"
    }
   ],
   "source": [
    "df_adventure.head(2)"
   ]
  },
  {
   "cell_type": "code",
   "execution_count": 91,
   "metadata": {
    "scrolled": false
   },
   "outputs": [
    {
     "name": "stdout",
     "output_type": "stream",
     "text": [
      "ROI as a function production budget\n"
     ]
    },
    {
     "data": {
      "image/png": "[encoded data removed]",
      "text/plain": [
       "<Figure size 1152x720 with 3 Axes>"
      ]
     },
     "metadata": {},
     "output_type": "display_data"
    }
   ],
   "source": [
    "# Creating figure\n",
    "fig = plt.figure(figsize=(16,10))\n",
    "\n",
    "# setting axes\n",
    "ax1 = fig.add_subplot(221)\n",
    "ax2 = fig.add_subplot(222)\n",
    "ax3 = fig.add_subplot(212)\n",
    "\n",
    "\n",
    "# create subplots\n",
    "ax1.scatter(df_animation[\"production_budget\"], df_animation[\"international_ROI\"], color=\"palegreen\", s=5)\n",
    "ax2.scatter(df_adventure[\"production_budget\"], df_adventure[\"international_ROI\"], color=\"palegreen\", s=5)\n",
    "ax3.scatter(df_family[\"production_budget\"], df_family[\"international_ROI\"], color=\"palegreen\", s=5)\n",
    "\n",
    "\n",
    "# Add descriptors\n",
    "ax1.set_xlabel(\"Production Budget (100 million)\")\n",
    "ax1.set_ylabel(\"International ROI (billions)\")\n",
    "ax1.set_title(\"Production Budget vs International ROI - Animation\")\n",
    "\n",
    "ax2.set_xlabel(\"Production Budget (100 million)\")\n",
    "ax2.set_ylabel(\"International ROI (billions)\")\n",
    "ax2.set_title(\"Production Budget vs International ROI - Adventure\")\n",
    "\n",
    "ax3.set_xlabel(\"Production Budget (100 million)\")\n",
    "ax3.set_ylabel(\"International ROI (billions)\")\n",
    "ax3.set_title(\"Production Budget vs International ROI - Family\")\n",
    "print('ROI as a function production budget');\n",
    "\n"
   ]
  },
  {
   "cell_type": "markdown",
   "metadata": {},
   "source": [
    "We can see that the distributions are fairly similar with 200 to 800 million being our target range for international ROI. Given the data thus far, a production budget of 150-300 million on an Animation, Adventure or Family (or a combination of the same) should yield a respectable ROI in the international market. We would also recommend focusing on an international release as domestic markets seem more volatile in terms of ROI."
   ]
  },
  {
   "cell_type": "markdown",
   "metadata": {},
   "source": [
    "<a id=\"Rpb\"></a>\n",
    "\n",
    "## Runtime and production budget\n",
    "### What is the best range for runtime relative to production budget?<br>\n",
    "\n",
    "Now that we know the approximate production budget, let’s observe a possible range for runtime minutes to adhere to. We are looking to see a mid production budget range and associated runtimes - if any. "
   ]
  },
  {
   "cell_type": "code",
   "execution_count": 92,
   "metadata": {
    "scrolled": false
   },
   "outputs": [
    {
     "name": "stdout",
     "output_type": "stream",
     "text": [
      "Trends on runtime minutes given production budget\n"
     ]
    },
    {
     "data": {
      "image/png": "[encoded data removed]",
      "text/plain": [
       "<Figure size 1152x720 with 3 Axes>"
      ]
     },
     "metadata": {},
     "output_type": "display_data"
    }
   ],
   "source": [
    "# Creating figure\n",
    "fig = plt.figure(figsize=(16,10))\n",
    "\n",
    "# setting axes\n",
    "ax1 = fig.add_subplot(221)\n",
    "ax2 = fig.add_subplot(222)\n",
    "ax3 = fig.add_subplot(212)\n",
    "\n",
    "\n",
    "# create subplots\n",
    "ax1.scatter(df_animation[\"production_budget\"], df_animation[\"runtime_minutes\"], color=\"palegreen\", s=5)\n",
    "ax2.scatter(df_adventure[\"production_budget\"], df_adventure[\"runtime_minutes\"], color=\"palegreen\", s=5)\n",
    "ax3.scatter(df_family[\"production_budget\"], df_family[\"runtime_minutes\"], color=\"palegreen\", s=5)\n",
    "\n",
    "\n",
    "# Add descriptors\n",
    "ax1.set_xlabel(\"Production Budget (100 million)\")\n",
    "ax1.set_ylabel(\"Runtime (min)\")\n",
    "ax1.set_title(\"Production Budget vs Runtime - Animation\")\n",
    "\n",
    "ax2.set_xlabel(\"Production Budget (100 million)\")\n",
    "ax2.set_ylabel(\"Runtime (min)\")\n",
    "ax2.set_title(\"Production Budget vs Runtime - Adventure\")\n",
    "\n",
    "ax3.set_xlabel(\"Production Budget (100 million)\")\n",
    "ax3.set_ylabel(\"Runtime (min)\")\n",
    "ax3.set_title(\"Production Budget vs Runtime - Family\")\n",
    "print('Trends on runtime minutes given production budget');\n"
   ]
  },
  {
   "cell_type": "markdown",
   "metadata": {},
   "source": [
    "These charts show that runtime has little association with production budget for the Family genre, but there is a slight trend that when production budget increases so does length. For the Animation genre this trend is increased, and for the Adventure genre the trend is noticeable. This means that as runtime increases we would expect associated costs to increase, which is expected. For runtime related decision we would recommend a mix of the three genres, and to stick to a runtime not much longer than 120 min, as this is the upper bound for the animation genre. \n",
    "\n",
    "Let’s further examine the expected length for the feature film. "
   ]
  },
  {
   "cell_type": "code",
   "execution_count": 93,
   "metadata": {
    "scrolled": false
   },
   "outputs": [
    {
     "data": {
      "image/png": "[encoded data removed]",
      "text/plain": [
       "<Figure size 432x288 with 1 Axes>"
      ]
     },
     "metadata": {},
     "output_type": "display_data"
    }
   ],
   "source": [
    "genres_selected = ['Animation', 'Adventure', 'Family']\n",
    "df_selected_genres = df_imbd_fin_expanded.loc[df_imbd_fin_expanded[\"genres\"].isin(genres_selected)].copy()\n",
    "df_selected_genres = df_selected_genres[['genres','runtime_minutes']]\n",
    "\n",
    "ax = df_selected_genres.groupby(\"genres\").median().plot(kind=\"bar\", color=\"powderblue\", legend=False, rot=0)\n",
    "\n",
    "ax.set_xlabel(\"Genres\")\n",
    "ax.set_ylabel(\"Runtime (min)\")\n",
    "ax.set_title(\"Genres and median Runtime\")\n",
    "\n",
    "# for i, label in enumerate(list(df_selected_genres.index)):\n",
    "#     genres = df_selected_genres.ix[label]['genres']\n",
    "#     ax.annotate(genres, (str(i), genres + 0.2))\n",
    "for p in ax.patches:\n",
    "    ax.annotate(str(p.get_height()), (p.get_x(), p.get_height()))\n"
   ]
  },
  {
   "cell_type": "markdown",
   "metadata": {},
   "source": [
    "Let’s quickly recap and modify our observations. A realistic target for ROI is around the range of 200 to 800 million for international ROI, if the production budget is close to or within the 150-300 million dollar range. We are basing these ranges solely on movies that are an Animation, Adventure or Family (or a combination of the same) film. We then recommend to stick to a runtime of no more than 120 min, and within the approximate range of 86 to 114 min. This range was re-calculated from the previous by finding the mean of the medians. The same equals 100 with a standard deviation of +- 14 for a 99.99% confidence level. Now let’s do a quick exploratory analysis for the expected competition moving forward."
   ]
  },
  {
   "cell_type": "markdown",
   "metadata": {},
   "source": [
    "<a id = \"Ec\"></a>\n",
    "## Expected competition\n",
    "### Is there a change in the number of released movies, production budgets and ROIs from 2015-2019 compared to five years prior?\n",
    "\n",
    "Let’s look at the number of movies that have come out from 2015-2019 vs 2010-2014. \n"
   ]
  },
  {
   "cell_type": "code",
   "execution_count": 186,
   "metadata": {
    "scrolled": false
   },
   "outputs": [
    {
     "data": {
      "text/html": [
       "<div>\n",
       "<style scoped>\n",
       "    .dataframe tbody tr th:only-of-type {\n",
       "        vertical-align: middle;\n",
       "    }\n",
       "\n",
       "    .dataframe tbody tr th {\n",
       "        vertical-align: top;\n",
       "    }\n",
       "\n",
       "    .dataframe thead th {\n",
       "        text-align: right;\n",
       "    }\n",
       "</style>\n",
       "<table border=\"1\" class=\"dataframe\">\n",
       "  <thead>\n",
       "    <tr style=\"text-align: right;\">\n",
       "      <th></th>\n",
       "      <th>month</th>\n",
       "      <th>year</th>\n",
       "      <th>production_budget</th>\n",
       "      <th>international_ROI</th>\n",
       "    </tr>\n",
       "  </thead>\n",
       "  <tbody>\n",
       "    <tr>\n",
       "      <th>1</th>\n",
       "      <td>5</td>\n",
       "      <td>2011</td>\n",
       "      <td>410600000.0</td>\n",
       "      <td>635063875.0</td>\n",
       "    </tr>\n",
       "    <tr>\n",
       "      <th>2</th>\n",
       "      <td>6</td>\n",
       "      <td>2019</td>\n",
       "      <td>350000000.0</td>\n",
       "      <td>-200237650.0</td>\n",
       "    </tr>\n",
       "  </tbody>\n",
       "</table>\n",
       "</div>"
      ],
      "text/plain": [
       "   month  year  production_budget  international_ROI\n",
       "1      5  2011        410600000.0        635063875.0\n",
       "2      6  2019        350000000.0       -200237650.0"
      ]
     },
     "execution_count": 186,
     "metadata": {},
     "output_type": "execute_result"
    }
   ],
   "source": [
    "df_release_dates = df_imbd_fin_expanded.loc[df_imbd_fin_expanded[\"genres\"].isin(genres_selected)].copy()\n",
    "df_release_dates = df_release_dates[[\"month\", \"year\", \"production_budget\", \"international_ROI\"]]\n",
    "df_release_dates.head(2)"
   ]
  },
  {
   "cell_type": "code",
   "execution_count": 187,
   "metadata": {},
   "outputs": [],
   "source": [
    "df_release_dates[\"year\"] = df_release_dates.year.astype(\"float64\")\n",
    "df_release_dates = df_release_dates.loc[df_release_dates[\"year\"]>=2010]\n",
    "df_release_dates[\"year\"] = df_release_dates.year.astype(\"int64\")\n",
    "df_release_dates_year = df_release_dates[[\"year\",\"international_ROI\"]]"
   ]
  },
  {
   "cell_type": "code",
   "execution_count": 188,
   "metadata": {
    "scrolled": false
   },
   "outputs": [
    {
     "name": "stderr",
     "output_type": "stream",
     "text": [
      "/Users/eduardo_calzadilla/anaconda3/lib/python3.6/site-packages/matplotlib/cbook/deprecation.py:107: MatplotlibDeprecationWarning: Adding an axes using the same arguments as a previous axes currently reuses the earlier instance.  In a future version, a new instance will always be created and returned.  Meanwhile, this warning can be suppressed, and the future behavior ensured, by passing a unique label to each axes instance.\n",
      "  warnings.warn(message, mplDeprecation, stacklevel=1)\n"
     ]
    },
    {
     "name": "stdout",
     "output_type": "stream",
     "text": [
      "Trends across past decade\n"
     ]
    },
    {
     "data": {
      "image/png": "[encoded data removed]",
      "text/plain": [
       "<Figure size 432x288 with 1 Axes>"
      ]
     },
     "metadata": {},
     "output_type": "display_data"
    },
    {
     "data": {
      "image/png": "[encoded data removed]",
      "text/plain": [
       "<Figure size 432x288 with 1 Axes>"
      ]
     },
     "metadata": {},
     "output_type": "display_data"
    }
   ],
   "source": [
    "# setting axes\n",
    "ax1 = fig.add_subplot(121)\n",
    "ax2 = fig.add_subplot(122)\n",
    "\n",
    "ax1 = df_release_dates_year.groupby(\"year\").size().plot(kind=\"bar\", color=\"powderblue\", rot=0)\n",
    "ax2 = df_release_dates_year.groupby(\"year\").median().plot(kind=\"bar\", color=\"powderblue\", legend=False, rot=0)\n",
    "\n",
    "# setting axes labels\n",
    "ax1.set_xlabel(\"Year\")\n",
    "ax1.set_ylabel(\"Count\")\n",
    "ax1.set_title(\"Movies released per Year\")\n",
    "\n",
    "ax2.set_xlabel(\"Year\")\n",
    "ax2.set_ylabel(\"International ROI\")\n",
    "ax2.set_title(\"Median International ROI across Year\")\n",
    "\n",
    "print('Trends across past decade');\n"
   ]
  },
  {
   "cell_type": "markdown",
   "metadata": {},
   "source": [
    "We can see that the median International ROI as well as movies released has been trending downwards in the past 5 years (with the exception of ROI for 2015). This is an important observation as it could guide our expectations particularly when related to production budget. Now let’s compare production budget across years and then look at the median ROI binned. "
   ]
  },
  {
   "cell_type": "code",
   "execution_count": 190,
   "metadata": {},
   "outputs": [],
   "source": [
    "df_release_dates_production = df_release_dates[[\"year\",\"production_budget\"]]"
   ]
  },
  {
   "cell_type": "code",
   "execution_count": 199,
   "metadata": {
    "scrolled": true
   },
   "outputs": [
    {
     "name": "stdout",
     "output_type": "stream",
     "text": [
      "Trends across past decade\n"
     ]
    },
    {
     "data": {
      "image/png": "[encoded data removed]",
      "text/plain": [
       "<Figure size 432x288 with 1 Axes>"
      ]
     },
     "metadata": {},
     "output_type": "display_data"
    }
   ],
   "source": [
    "ax = df_release_dates_production.groupby(\"year\").median().plot(kind=\"bar\", color=\"powderblue\", legend=False, rot=0)\n",
    "\n",
    "ax.set_xlabel(\"Year\")\n",
    "ax.set_ylabel(\"Median Production Budget\")\n",
    "ax.set_title(\"Median Production Budget across Year\")\n",
    "\n",
    "print('Trends across past decade');"
   ]
  },
  {
   "cell_type": "code",
   "execution_count": 211,
   "metadata": {},
   "outputs": [
    {
     "data": {
      "text/html": [
       "<div>\n",
       "<style scoped>\n",
       "    .dataframe tbody tr th:only-of-type {\n",
       "        vertical-align: middle;\n",
       "    }\n",
       "\n",
       "    .dataframe tbody tr th {\n",
       "        vertical-align: top;\n",
       "    }\n",
       "\n",
       "    .dataframe thead th {\n",
       "        text-align: right;\n",
       "    }\n",
       "</style>\n",
       "<table border=\"1\" class=\"dataframe\">\n",
       "  <thead>\n",
       "    <tr style=\"text-align: right;\">\n",
       "      <th></th>\n",
       "      <th>year</th>\n",
       "      <th>international_ROI</th>\n",
       "    </tr>\n",
       "  </thead>\n",
       "  <tbody>\n",
       "    <tr>\n",
       "      <th>1</th>\n",
       "      <td>2014.003317</td>\n",
       "      <td>2.076077e+08</td>\n",
       "    </tr>\n",
       "    <tr>\n",
       "      <th>2</th>\n",
       "      <td>2019.000000</td>\n",
       "      <td>1.406611e+08</td>\n",
       "    </tr>\n",
       "  </tbody>\n",
       "</table>\n",
       "</div>"
      ],
      "text/plain": [
       "          year  international_ROI\n",
       "1  2014.003317       2.076077e+08\n",
       "2  2019.000000       1.406611e+08"
      ]
     },
     "execution_count": 211,
     "metadata": {},
     "output_type": "execute_result"
    }
   ],
   "source": [
    "#create bins for pre-sepcified groupbins = np.linspace(df_release_dates_year.year.min(), df_release_dates_year.year.max(), 2)\n",
    "groups = df_release_dates_year.groupby(np.digitize(df_release_dates_year.year, bins))\n",
    "\n",
    "groups.mean()"
   ]
  },
  {
   "cell_type": "code",
   "execution_count": 208,
   "metadata": {},
   "outputs": [
    {
     "data": {
      "text/html": [
       "<div>\n",
       "<style scoped>\n",
       "    .dataframe tbody tr th:only-of-type {\n",
       "        vertical-align: middle;\n",
       "    }\n",
       "\n",
       "    .dataframe tbody tr th {\n",
       "        vertical-align: top;\n",
       "    }\n",
       "\n",
       "    .dataframe thead th {\n",
       "        text-align: right;\n",
       "    }\n",
       "</style>\n",
       "<table border=\"1\" class=\"dataframe\">\n",
       "  <thead>\n",
       "    <tr style=\"text-align: right;\">\n",
       "      <th></th>\n",
       "      <th>year</th>\n",
       "      <th>production_budget</th>\n",
       "    </tr>\n",
       "  </thead>\n",
       "  <tbody>\n",
       "    <tr>\n",
       "      <th>1</th>\n",
       "      <td>2014.003317</td>\n",
       "      <td>8.759631e+07</td>\n",
       "    </tr>\n",
       "    <tr>\n",
       "      <th>2</th>\n",
       "      <td>2019.000000</td>\n",
       "      <td>1.163043e+08</td>\n",
       "    </tr>\n",
       "  </tbody>\n",
       "</table>\n",
       "</div>"
      ],
      "text/plain": [
       "          year  production_budget\n",
       "1  2014.003317       8.759631e+07\n",
       "2  2019.000000       1.163043e+08"
      ]
     },
     "execution_count": 208,
     "metadata": {},
     "output_type": "execute_result"
    }
   ],
   "source": [
    "bins = np.linspace(df_release_dates_production.year.min(), df_release_dates_production.year.max(), 2)\n",
    "groups = df_release_dates_production.groupby(np.digitize(df_release_dates_production.year, bins))\n",
    "\n",
    "\n",
    "groups.mean()"
   ]
  },
  {
   "cell_type": "markdown",
   "metadata": {},
   "source": [
    "Here we can see that the number of movies released has been trending downwards and that while the production budget is increasing, ROIs are decreasing. Therefore, it is important to keep production budgets close to our range, as ROIs have become more volatile. This could be due to many reasons, but a major confounding variable is the popularity of streaming services and their effect on movie release success. "
   ]
  },
  {
   "cell_type": "code",
   "execution_count": null,
   "metadata": {},
   "outputs": [],
   "source": []
  }
 ],
 "metadata": {
  "kernelspec": {
   "display_name": "Python 3",
   "language": "python",
   "name": "python3"
  },
  "language_info": {
   "codemirror_mode": {
    "name": "ipython",
    "version": 3
   },
   "file_extension": ".py",
   "mimetype": "text/x-python",
   "name": "python",
   "nbconvert_exporter": "python",
   "pygments_lexer": "ipython3",
   "version": "3.6.8"
  }
 },
 "nbformat": 4,
 "nbformat_minor": 2
}
