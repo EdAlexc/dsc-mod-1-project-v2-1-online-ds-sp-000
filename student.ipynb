{
 "cells": [
  {
   "cell_type": "markdown",
   "metadata": {},
   "source": [
    "## Final Project Submission\n",
    "\n",
    "Please fill out:\n",
    "* Student name: Eduardo Calzadilla\n",
    "* Student pace: self paced \n",
    "* Scheduled project review date/time: \n",
    "* Instructor name: Jeff Herman\n",
    "* Blog post URL:\n"
   ]
  },
  {
   "cell_type": "markdown",
   "metadata": {},
   "source": [
    "# Movie genre and title recommendations\n",
    "\n",
    "#### Datasets: \n",
    "    1. Box Office Mojo\n",
    "    2. IMBD\n",
    "    3. Rotten Tomatoes\n",
    "    4. TheMovieDB.org\n",
    "\n",
    "\n",
    "\n",
    "## Contents\n",
    "\n",
    "**A. [Exploratory Data Analysis](#EDA)** <br>\n",
    "  1. [Initial exploration and cleanup](#Iec)<br>\n",
    "  2. [Exploratory visualizations](#Ev)<br>\n",
    "  3. [Transformations and joins](#Tj)<br>\n",
    "  \n",
    "**B.**\n",
    " "
   ]
  },
  {
   "cell_type": "markdown",
   "metadata": {},
   "source": [
    "## Introduction & Summary\n",
    "\n",
    "Throughout this notebook we will be exploring three datasets as highlighted above, in order to spot trend that could be indicative of higher succes capacity and return on investment (ROI). \n",
    "\n",
    "We will be focusing on the following four null hypothesese:\n",
    "  1. Movies with higher ratings do not perform significantly better in terms gross income and ROI.\n",
    "  2. All genres perform equally in terms of ratings, gross income and ROI.\n",
    "  3. There are no words that are indicative of higher performance in terms of ratings and ROI.\n",
    "  4. There has been no change in terms of competition (number of movies coming out) 4 year prior 2015 and 4 year after 2015. \n",
    "\n",
    "We have found that there are significant similarities between median ratings and median performance. etc..."
   ]
  },
  {
   "cell_type": "code",
   "execution_count": null,
   "metadata": {},
   "outputs": [],
   "source": [
    "# Importing necessay packages\n",
    "import pandas as pd \n",
    "import numpy as np\n",
    "import matplotlib.pyplot as plt\n",
    "%matplotlib inline\n",
    "\n",
    "\n"
   ]
  },
  {
   "cell_type": "code",
   "execution_count": null,
   "metadata": {},
   "outputs": [],
   "source": [
    "# Your code here - remember to use markdown cells for comments as well!"
   ]
  }
 ],
 "metadata": {
  "kernelspec": {
   "display_name": "Python 3",
   "language": "python",
   "name": "python3"
  },
  "language_info": {
   "codemirror_mode": {
    "name": "ipython",
    "version": 3
   },
   "file_extension": ".py",
   "mimetype": "text/x-python",
   "name": "python",
   "nbconvert_exporter": "python",
   "pygments_lexer": "ipython3",
   "version": "3.6.8"
  }
 },
 "nbformat": 4,
 "nbformat_minor": 2
}
