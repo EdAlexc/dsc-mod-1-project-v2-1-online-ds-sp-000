{
 "cells": [
  {
   "cell_type": "markdown",
   "metadata": {},
   "source": [
    "# Movie genre and title recommendations Readme\n",
    "\n",
    "## Introduction:\n",
    "In this Notebook we will be exploring different variables that could affect the success of a movie release. In this exercise we will look at what relationships these variables might have and what hypothetical recommendations would be given to Microsoft for their movie release. \n",
    "    \n",
    "\n",
    "#### The Datasets used for this study \n",
    "    1. IMDB\n",
    "    2. Rotten Tomatoes\n",
    "    3. TheMovieDB.org\n",
    "    4. Box Office Mojo\n",
    "\n",
    "\n",
    "\n",
    "\n",
    "\n",
    "#### The Notebook is divided into the following contents\n",
    "\n",
    "**A. Exploratory Data Analysis** <br>\n",
    "  1. Initial exploration and cleanup<br>\n",
    "      *Data is pulled into DataFrames (df), and each df's columns are examined for primary and secondary keys, unique values, counts of values, nulls and placeholder values that might be representative of nulls.*\n",
    "  2. Joins<br>\n",
    "      *DFs are joined and further altered to only include relevant columns and values. Lists within the table df_imdb_title_genre are also expanded for ease of analysis.* \n",
    "  \n",
    "**B. ROI, ratings and production budget(#Rrpb)**<br>\n",
    "&nbsp;&nbsp;&nbsp;&nbsp;&nbsp;&nbsp; What is the relationship between ROI, production budget and rating?<br>\n",
    "\n",
    "*Relationships between ROI, production budget, and ratings are examined and found to not have high correlation. However, there were rating ranges that were associated with typical ROI ranges.*<br><br>\n",
    "\n",
    "**C. Genres, ROI and rating**<br>\n",
    "&nbsp;&nbsp;&nbsp;&nbsp;&nbsp;&nbsp; Are there genres that have ratings within our specified range? If so what are their associated ROIs?<br>\n",
    "\n",
    "*Based on the above ranges genres were studied to see if there were any categories that were indicative of higher ROIs. By some margins the Animation, Adventure and Family genres had the highest ROIs.*<br><br>\n",
    "\n",
    "**D. Runtime and production budget**<br>\n",
    "&nbsp;&nbsp;&nbsp;&nbsp;&nbsp;&nbsp; What is the best range for runtime relative to production budget?<br>\n",
    "<br>\n",
    "*Runtimes were examined to see if any relationship existed between it and the other variables already analyzed. It was seen that sticking to less than 120 min would be the best given the aforementioned genres.*\n",
    "<br><br>\n",
    "\n",
    "**E. Expected competition**<br>\n",
    "&nbsp;&nbsp;&nbsp;&nbsp;&nbsp;&nbsp; Is there a change in the number of released movies from 2015-2019 compared to five years prior?<br>\n",
    "\n",
    "*Changing industry landscapes were holistically viewed based solely on International ROI and number of movies released for the past decade. It was seen that overall ROI as well as movies released to theatres has decreased over the past 5 years, the same could be attributed in part to the rise of streaming platforms.* <br><br>\n",
    "\n",
    "**F. Conclusion**<br>\n",
    "\n",
    " "
   ]
  },
  {
   "cell_type": "code",
   "execution_count": null,
   "metadata": {},
   "outputs": [],
   "source": []
  }
 ],
 "metadata": {
  "kernelspec": {
   "display_name": "Python 3",
   "language": "python",
   "name": "python3"
  },
  "language_info": {
   "codemirror_mode": {
    "name": "ipython",
    "version": 3
   },
   "file_extension": ".py",
   "mimetype": "text/x-python",
   "name": "python",
   "nbconvert_exporter": "python",
   "pygments_lexer": "ipython3",
   "version": "3.6.8"
  }
 },
 "nbformat": 4,
 "nbformat_minor": 2
}
